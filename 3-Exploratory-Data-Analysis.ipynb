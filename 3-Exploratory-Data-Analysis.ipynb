{
 "cells": [
  {
   "cell_type": "code",
   "execution_count": 9,
   "metadata": {},
   "outputs": [],
   "source": [
    "import numpy as np \n",
    "import pandas as pd \n",
    "import matplotlib.pyplot as plt \n",
    "import seaborn as sns \n",
    "%matplotlib inline "
   ]
  },
  {
   "cell_type": "code",
   "execution_count": 2,
   "metadata": {},
   "outputs": [],
   "source": [
    "listings = pd.read_csv('data/listings_interm.csv')"
   ]
  },
  {
   "cell_type": "code",
   "execution_count": 3,
   "metadata": {},
   "outputs": [
    {
     "data": {
      "text/html": [
       "<div>\n",
       "<style scoped>\n",
       "    .dataframe tbody tr th:only-of-type {\n",
       "        vertical-align: middle;\n",
       "    }\n",
       "\n",
       "    .dataframe tbody tr th {\n",
       "        vertical-align: top;\n",
       "    }\n",
       "\n",
       "    .dataframe thead th {\n",
       "        text-align: right;\n",
       "    }\n",
       "</style>\n",
       "<table border=\"1\" class=\"dataframe\">\n",
       "  <thead>\n",
       "    <tr style=\"text-align: right;\">\n",
       "      <th></th>\n",
       "      <th>url</th>\n",
       "      <th>address</th>\n",
       "      <th>neighborhood</th>\n",
       "      <th>rent</th>\n",
       "      <th>beds</th>\n",
       "      <th>baths</th>\n",
       "      <th>flexs</th>\n",
       "    </tr>\n",
       "  </thead>\n",
       "  <tbody>\n",
       "    <tr>\n",
       "      <th>0</th>\n",
       "      <td>https://www.renthop.com/listings/gold-st/12c/1...</td>\n",
       "      <td>Gold St.</td>\n",
       "      <td>Downtown Brooklyn, Northwestern Brooklyn, Broo...</td>\n",
       "      <td>3395</td>\n",
       "      <td>1</td>\n",
       "      <td>1.0</td>\n",
       "      <td>NaN</td>\n",
       "    </tr>\n",
       "    <tr>\n",
       "      <th>1</th>\n",
       "      <td>https://www.renthop.com/listings/gold-st/9d/15...</td>\n",
       "      <td>Gold St.</td>\n",
       "      <td>Downtown Brooklyn, Northwestern Brooklyn, Broo...</td>\n",
       "      <td>3071</td>\n",
       "      <td>1</td>\n",
       "      <td>1.0</td>\n",
       "      <td>NaN</td>\n",
       "    </tr>\n",
       "    <tr>\n",
       "      <th>2</th>\n",
       "      <td>https://www.renthop.com/listings/141-east-56th...</td>\n",
       "      <td>141 East 56th Street, Apt 11A</td>\n",
       "      <td>Midtown East, Midtown Manhattan, Manhattan</td>\n",
       "      <td>4925</td>\n",
       "      <td>2</td>\n",
       "      <td>1.0</td>\n",
       "      <td>NaN</td>\n",
       "    </tr>\n",
       "  </tbody>\n",
       "</table>\n",
       "</div>"
      ],
      "text/plain": [
       "                                                 url  \\\n",
       "0  https://www.renthop.com/listings/gold-st/12c/1...   \n",
       "1  https://www.renthop.com/listings/gold-st/9d/15...   \n",
       "2  https://www.renthop.com/listings/141-east-56th...   \n",
       "\n",
       "                         address  \\\n",
       "0                       Gold St.   \n",
       "1                       Gold St.   \n",
       "2  141 East 56th Street, Apt 11A   \n",
       "\n",
       "                                        neighborhood  rent  beds  baths  flexs  \n",
       "0  Downtown Brooklyn, Northwestern Brooklyn, Broo...  3395     1    1.0    NaN  \n",
       "1  Downtown Brooklyn, Northwestern Brooklyn, Broo...  3071     1    1.0    NaN  \n",
       "2         Midtown East, Midtown Manhattan, Manhattan  4925     2    1.0    NaN  "
      ]
     },
     "execution_count": 3,
     "metadata": {},
     "output_type": "execute_result"
    }
   ],
   "source": [
    "listings.head(3)"
   ]
  },
  {
   "cell_type": "code",
   "execution_count": 6,
   "metadata": {},
   "outputs": [
    {
     "data": {
      "text/html": [
       "<div>\n",
       "<style scoped>\n",
       "    .dataframe tbody tr th:only-of-type {\n",
       "        vertical-align: middle;\n",
       "    }\n",
       "\n",
       "    .dataframe tbody tr th {\n",
       "        vertical-align: top;\n",
       "    }\n",
       "\n",
       "    .dataframe thead th {\n",
       "        text-align: right;\n",
       "    }\n",
       "</style>\n",
       "<table border=\"1\" class=\"dataframe\">\n",
       "  <thead>\n",
       "    <tr style=\"text-align: right;\">\n",
       "      <th></th>\n",
       "      <th>rent</th>\n",
       "      <th>beds</th>\n",
       "      <th>baths</th>\n",
       "      <th>flexs</th>\n",
       "    </tr>\n",
       "  </thead>\n",
       "  <tbody>\n",
       "    <tr>\n",
       "      <th>count</th>\n",
       "      <td>2000.000000</td>\n",
       "      <td>2000.000000</td>\n",
       "      <td>2000.000000</td>\n",
       "      <td>267.000000</td>\n",
       "    </tr>\n",
       "    <tr>\n",
       "      <th>mean</th>\n",
       "      <td>3922.512000</td>\n",
       "      <td>1.505000</td>\n",
       "      <td>1.262000</td>\n",
       "      <td>2.524345</td>\n",
       "    </tr>\n",
       "    <tr>\n",
       "      <th>std</th>\n",
       "      <td>2821.885329</td>\n",
       "      <td>1.115615</td>\n",
       "      <td>0.530327</td>\n",
       "      <td>0.918874</td>\n",
       "    </tr>\n",
       "    <tr>\n",
       "      <th>min</th>\n",
       "      <td>710.000000</td>\n",
       "      <td>0.000000</td>\n",
       "      <td>1.000000</td>\n",
       "      <td>1.000000</td>\n",
       "    </tr>\n",
       "    <tr>\n",
       "      <th>25%</th>\n",
       "      <td>2513.750000</td>\n",
       "      <td>1.000000</td>\n",
       "      <td>1.000000</td>\n",
       "      <td>2.000000</td>\n",
       "    </tr>\n",
       "    <tr>\n",
       "      <th>50%</th>\n",
       "      <td>3300.000000</td>\n",
       "      <td>1.000000</td>\n",
       "      <td>1.000000</td>\n",
       "      <td>2.000000</td>\n",
       "    </tr>\n",
       "    <tr>\n",
       "      <th>75%</th>\n",
       "      <td>4500.000000</td>\n",
       "      <td>2.000000</td>\n",
       "      <td>1.000000</td>\n",
       "      <td>3.000000</td>\n",
       "    </tr>\n",
       "    <tr>\n",
       "      <th>max</th>\n",
       "      <td>37500.000000</td>\n",
       "      <td>5.000000</td>\n",
       "      <td>5.000000</td>\n",
       "      <td>6.000000</td>\n",
       "    </tr>\n",
       "  </tbody>\n",
       "</table>\n",
       "</div>"
      ],
      "text/plain": [
       "               rent         beds        baths       flexs\n",
       "count   2000.000000  2000.000000  2000.000000  267.000000\n",
       "mean    3922.512000     1.505000     1.262000    2.524345\n",
       "std     2821.885329     1.115615     0.530327    0.918874\n",
       "min      710.000000     0.000000     1.000000    1.000000\n",
       "25%     2513.750000     1.000000     1.000000    2.000000\n",
       "50%     3300.000000     1.000000     1.000000    2.000000\n",
       "75%     4500.000000     2.000000     1.000000    3.000000\n",
       "max    37500.000000     5.000000     5.000000    6.000000"
      ]
     },
     "execution_count": 6,
     "metadata": {},
     "output_type": "execute_result"
    }
   ],
   "source": [
    "listings.describe()"
   ]
  },
  {
   "cell_type": "code",
   "execution_count": 8,
   "metadata": {},
   "outputs": [
    {
     "name": "stdout",
     "output_type": "stream",
     "text": [
      "<class 'pandas.core.frame.DataFrame'>\n",
      "RangeIndex: 2000 entries, 0 to 1999\n",
      "Data columns (total 7 columns):\n",
      "url             2000 non-null object\n",
      "address         1999 non-null object\n",
      "neighborhood    2000 non-null object\n",
      "rent            2000 non-null int64\n",
      "beds            2000 non-null int64\n",
      "baths           2000 non-null float64\n",
      "flexs           267 non-null float64\n",
      "dtypes: float64(2), int64(2), object(3)\n",
      "memory usage: 109.5+ KB\n"
     ]
    }
   ],
   "source": [
    "listings.info()"
   ]
  },
  {
   "cell_type": "markdown",
   "metadata": {},
   "source": [
    "- Missing Values"
   ]
  },
  {
   "cell_type": "code",
   "execution_count": 15,
   "metadata": {},
   "outputs": [
    {
     "data": {
      "image/png": "[encoded data removed]",
      "text/plain": [
       "<Figure size 432x288 with 1 Axes>"
      ]
     },
     "metadata": {
      "needs_background": "light"
     },
     "output_type": "display_data"
    }
   ],
   "source": [
    "_ = sns.heatmap(listings.isnull(), cbar=False)\n",
    "plt.subplots_adjust(right=1, top = 1.2)"
   ]
  },
  {
   "cell_type": "markdown",
   "metadata": {},
   "source": [
    "- Number of listings in different neighborhood"
   ]
  },
  {
   "cell_type": "code",
   "execution_count": 34,
   "metadata": {},
   "outputs": [],
   "source": [
    "# Stratigizing Groupby \n",
    "\n",
    "# series =  listings.groupby('neighborhood')['rent'].count()\n",
    "# series.to_frame('count').sort_values(by='count', ascending = False)"
   ]
  },
  {
   "cell_type": "code",
   "execution_count": 35,
   "metadata": {},
   "outputs": [
    {
     "data": {
      "text/html": [
       "<div>\n",
       "<style scoped>\n",
       "    .dataframe tbody tr th:only-of-type {\n",
       "        vertical-align: middle;\n",
       "    }\n",
       "\n",
       "    .dataframe tbody tr th {\n",
       "        vertical-align: top;\n",
       "    }\n",
       "\n",
       "    .dataframe thead th {\n",
       "        text-align: right;\n",
       "    }\n",
       "</style>\n",
       "<table border=\"1\" class=\"dataframe\">\n",
       "  <thead>\n",
       "    <tr style=\"text-align: right;\">\n",
       "      <th></th>\n",
       "      <th>count</th>\n",
       "    </tr>\n",
       "    <tr>\n",
       "      <th>neighborhood</th>\n",
       "      <th></th>\n",
       "    </tr>\n",
       "  </thead>\n",
       "  <tbody>\n",
       "    <tr>\n",
       "      <th>Hell's Kitchen, Midtown Manhattan, Manhattan</th>\n",
       "      <td>173</td>\n",
       "    </tr>\n",
       "    <tr>\n",
       "      <th>Financial District, Downtown Manhattan, Manhattan</th>\n",
       "      <td>171</td>\n",
       "    </tr>\n",
       "    <tr>\n",
       "      <th>Upper East Side, Upper Manhattan, Manhattan</th>\n",
       "      <td>97</td>\n",
       "    </tr>\n",
       "    <tr>\n",
       "      <th>Yorkville, Upper East Side, Upper Manhattan, Manhattan</th>\n",
       "      <td>88</td>\n",
       "    </tr>\n",
       "    <tr>\n",
       "      <th>East Village, Downtown Manhattan, Manhattan</th>\n",
       "      <td>71</td>\n",
       "    </tr>\n",
       "    <tr>\n",
       "      <th>...</th>\n",
       "      <td>...</td>\n",
       "    </tr>\n",
       "    <tr>\n",
       "      <th>Middle Village, Northwestern Queens, Queens</th>\n",
       "      <td>1</td>\n",
       "    </tr>\n",
       "    <tr>\n",
       "      <th>Midland Beach, East Shore, Staten Island</th>\n",
       "      <td>1</td>\n",
       "    </tr>\n",
       "    <tr>\n",
       "      <th>Morris Heights, West Bronx, Bronx</th>\n",
       "      <td>1</td>\n",
       "    </tr>\n",
       "    <tr>\n",
       "      <th>New Lots, East New York, Eastern Brooklyn, Brooklyn</th>\n",
       "      <td>1</td>\n",
       "    </tr>\n",
       "    <tr>\n",
       "      <th>Kensington, Central Brooklyn, Brooklyn</th>\n",
       "      <td>1</td>\n",
       "    </tr>\n",
       "  </tbody>\n",
       "</table>\n",
       "<p>129 rows × 1 columns</p>\n",
       "</div>"
      ],
      "text/plain": [
       "                                                    count\n",
       "neighborhood                                             \n",
       "Hell's Kitchen, Midtown Manhattan, Manhattan          173\n",
       "Financial District, Downtown Manhattan, Manhattan     171\n",
       "Upper East Side, Upper Manhattan, Manhattan            97\n",
       "Yorkville, Upper East Side, Upper Manhattan, Ma...     88\n",
       "East Village, Downtown Manhattan, Manhattan            71\n",
       "...                                                   ...\n",
       "Middle Village, Northwestern Queens, Queens             1\n",
       "Midland Beach, East Shore, Staten Island                1\n",
       "Morris Heights, West Bronx, Bronx                       1\n",
       "New Lots, East New York, Eastern Brooklyn, Broo...      1\n",
       "Kensington, Central Brooklyn, Brooklyn                  1\n",
       "\n",
       "[129 rows x 1 columns]"
      ]
     },
     "execution_count": 35,
     "metadata": {},
     "output_type": "execute_result"
    }
   ],
   "source": [
    "listings.groupby('neighborhood')['rent'].count().to_frame('count').sort_values(by='count', ascending=False)"
   ]
  },
  {
   "cell_type": "code",
   "execution_count": null,
   "metadata": {},
   "outputs": [],
   "source": []
  }
 ],
 "metadata": {
  "kernelspec": {
   "display_name": "Python 3",
   "language": "python",
   "name": "python3"
  },
  "language_info": {
   "codemirror_mode": {
    "name": "ipython",
    "version": 3
   },
   "file_extension": ".py",
   "mimetype": "text/x-python",
   "name": "python",
   "nbconvert_exporter": "python",
   "pygments_lexer": "ipython3",
   "version": "3.7.4"
  }
 },
 "nbformat": 4,
 "nbformat_minor": 4
}

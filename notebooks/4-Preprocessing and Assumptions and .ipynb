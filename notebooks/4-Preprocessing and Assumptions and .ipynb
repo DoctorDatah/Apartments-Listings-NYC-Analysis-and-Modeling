{
 "cells": [
  {
   "cell_type": "markdown",
   "metadata": {},
   "source": [
    "# Preprocesssing and Linear Assumptions "
   ]
  },
  {
   "cell_type": "code",
   "execution_count": 1,
   "metadata": {},
   "outputs": [],
   "source": [
    "import os\n",
    "import sys\n",
    "import folium \n",
    "import googlemaps\n",
    "import numpy as np \n",
    "import pandas as pd \n",
    "import seaborn as sns \n",
    "import matplotlib.pyplot as plt \n",
    "\n",
    "%load_ext autoreload\n",
    "%autoreload 2\n",
    "%matplotlib inline \n",
    "\n",
    "# Setting up directories\n",
    "ROOT_DIR = os.path.join(os.getcwd(), '..')\n",
    "SRC_DIR = os.path.join(os.getcwd(), '..', 'src')\n",
    "DATA_DIR = os.path.join(ROOT_DIR, \"data\")\n",
    "\n",
    "sys.path.append(ROOT_DIR)\n",
    "sys.path.append(SRC_DIR)\n",
    "os.chdir(ROOT_DIR)"
   ]
  },
  {
   "cell_type": "code",
   "execution_count": 2,
   "metadata": {},
   "outputs": [],
   "source": [
    "# Custom Modules\n",
    "from d00_utils import read_write\n",
    "from d03_eda import listings_eda\n",
    "\n",
    "INTER_DATA_DIR = os.path.join(DATA_DIR,\"02_intermediate\")\n",
    "LISTINGS_DATA_PATH = os.path.join(INTER_DATA_DIR, 'listings_interm_with_zips_2.csv')"
   ]
  },
  {
   "cell_type": "markdown",
   "metadata": {},
   "source": [
    "## Sneak peek the data"
   ]
  },
  {
   "cell_type": "code",
   "execution_count": 10,
   "metadata": {},
   "outputs": [
    {
     "name": "stdout",
     "output_type": "stream",
     "text": [
      "<class 'pandas.core.frame.DataFrame'>\n",
      "RangeIndex: 6885 entries, 0 to 6884\n",
      "Data columns (total 8 columns):\n",
      " #   Column        Non-Null Count  Dtype  \n",
      "---  ------        --------------  -----  \n",
      " 0   url           6885 non-null   object \n",
      " 1   address       6885 non-null   object \n",
      " 2   neighborhood  6885 non-null   object \n",
      " 3   rent          6885 non-null   int64  \n",
      " 4   beds          6885 non-null   int64  \n",
      " 5   baths         6885 non-null   float64\n",
      " 6   flexs         6885 non-null   float64\n",
      " 7   zip           6885 non-null   int64  \n",
      "dtypes: float64(2), int64(3), object(3)\n",
      "memory usage: 430.4+ KB\n"
     ]
    }
   ],
   "source": [
    "listings = pd.read_csv(LISTINGS_DATA_PATH)\n",
    "listings.info()"
   ]
  },
  {
   "cell_type": "code",
   "execution_count": 11,
   "metadata": {},
   "outputs": [
    {
     "data": {
      "text/html": [
       "<div>\n",
       "<style scoped>\n",
       "    .dataframe tbody tr th:only-of-type {\n",
       "        vertical-align: middle;\n",
       "    }\n",
       "\n",
       "    .dataframe tbody tr th {\n",
       "        vertical-align: top;\n",
       "    }\n",
       "\n",
       "    .dataframe thead th {\n",
       "        text-align: right;\n",
       "    }\n",
       "</style>\n",
       "<table border=\"1\" class=\"dataframe\">\n",
       "  <thead>\n",
       "    <tr style=\"text-align: right;\">\n",
       "      <th></th>\n",
       "      <th>url</th>\n",
       "      <th>address</th>\n",
       "      <th>neighborhood</th>\n",
       "      <th>rent</th>\n",
       "      <th>beds</th>\n",
       "      <th>baths</th>\n",
       "      <th>flexs</th>\n",
       "      <th>zip</th>\n",
       "    </tr>\n",
       "  </thead>\n",
       "  <tbody>\n",
       "    <tr>\n",
       "      <th>0</th>\n",
       "      <td>https://www.renthop.com/listings/626-1st-avenu...</td>\n",
       "      <td>626 1st Avenue, Apt W17M</td>\n",
       "      <td>Murray Hill, Midtown Manhattan, Manhattan</td>\n",
       "      <td>3408</td>\n",
       "      <td>0</td>\n",
       "      <td>1.0</td>\n",
       "      <td>0.0</td>\n",
       "      <td>10016</td>\n",
       "    </tr>\n",
       "    <tr>\n",
       "      <th>1</th>\n",
       "      <td>https://www.renthop.com/listings/20-exchange-p...</td>\n",
       "      <td>20 Exchange Place, Apt 2601</td>\n",
       "      <td>Financial District, Downtown Manhattan, Manhattan</td>\n",
       "      <td>3673</td>\n",
       "      <td>1</td>\n",
       "      <td>1.0</td>\n",
       "      <td>0.0</td>\n",
       "      <td>10005</td>\n",
       "    </tr>\n",
       "    <tr>\n",
       "      <th>2</th>\n",
       "      <td>https://www.renthop.com/listings/8-av-43rd-st/...</td>\n",
       "      <td>8 Av /43rd st</td>\n",
       "      <td>Hell's Kitchen, Midtown Manhattan, Manhattan</td>\n",
       "      <td>3650</td>\n",
       "      <td>1</td>\n",
       "      <td>1.0</td>\n",
       "      <td>2.0</td>\n",
       "      <td>10036</td>\n",
       "    </tr>\n",
       "  </tbody>\n",
       "</table>\n",
       "</div>"
      ],
      "text/plain": [
       "                                                 url  \\\n",
       "0  https://www.renthop.com/listings/626-1st-avenu...   \n",
       "1  https://www.renthop.com/listings/20-exchange-p...   \n",
       "2  https://www.renthop.com/listings/8-av-43rd-st/...   \n",
       "\n",
       "                       address  \\\n",
       "0     626 1st Avenue, Apt W17M   \n",
       "1  20 Exchange Place, Apt 2601   \n",
       "2                8 Av /43rd st   \n",
       "\n",
       "                                        neighborhood  rent  beds  baths  \\\n",
       "0          Murray Hill, Midtown Manhattan, Manhattan  3408     0    1.0   \n",
       "1  Financial District, Downtown Manhattan, Manhattan  3673     1    1.0   \n",
       "2       Hell's Kitchen, Midtown Manhattan, Manhattan  3650     1    1.0   \n",
       "\n",
       "   flexs    zip  \n",
       "0    0.0  10016  \n",
       "1    0.0  10005  \n",
       "2    2.0  10036  "
      ]
     },
     "execution_count": 11,
     "metadata": {},
     "output_type": "execute_result"
    }
   ],
   "source": [
    "listings.head(3)"
   ]
  },
  {
   "cell_type": "markdown",
   "metadata": {},
   "source": [
    "## Linear Model Assumptions"
   ]
  },
  {
   "cell_type": "markdown",
   "metadata": {},
   "source": [
    "#### 1. Checking Linearity:"
   ]
  },
  {
   "cell_type": "markdown",
   "metadata": {},
   "source": [
    "As all the feature we are categorical. Including zip code, as it can't be aggregate to add any useful value. Hence, we can proceed."
   ]
  },
  {
   "cell_type": "markdown",
   "metadata": {},
   "source": [
    "#### 2. Normality of Errors"
   ]
  },
  {
   "cell_type": "markdown",
   "metadata": {},
   "source": [
    "Normality is Assumed using Big Sample, Following Centeral Limit Theorem."
   ]
  },
  {
   "cell_type": "markdown",
   "metadata": {},
   "source": [
    "#### 3. Multicolinerality"
   ]
  },
  {
   "cell_type": "markdown",
   "metadata": {},
   "source": [
    "As all the feature we have are categorical. Hence, we can proceed. \n",
    "However, we have to drop one of the categories from each feature's categories to avoid multicolinearity."
   ]
  },
  {
   "cell_type": "markdown",
   "metadata": {},
   "source": [
    "## Scaling Data"
   ]
  },
  {
   "cell_type": "markdown",
   "metadata": {},
   "source": [
    "Categorical features has no need for scaling."
   ]
  },
  {
   "cell_type": "markdown",
   "metadata": {},
   "source": [
    "## Saving Data"
   ]
  },
  {
   "cell_type": "code",
   "execution_count": 8,
   "metadata": {},
   "outputs": [
    {
     "name": "stdout",
     "output_type": "stream",
     "text": [
      "Dir Created\n",
      "File saved.\n"
     ]
    }
   ],
   "source": [
    "read_write.create_data_sub_dir('03_preprocessed')\n",
    "read_write.save_data_file('03_preprocessed','listings_preprocessed_2.csv',listings)"
   ]
  },
  {
   "cell_type": "markdown",
   "metadata": {},
   "source": [
    "#### End"
   ]
  },
  {
   "cell_type": "code",
   "execution_count": null,
   "metadata": {},
   "outputs": [],
   "source": []
  }
 ],
 "metadata": {
  "kernelspec": {
   "display_name": "Python 3",
   "language": "python",
   "name": "python3"
  },
  "language_info": {
   "codemirror_mode": {
    "name": "ipython",
    "version": 3
   },
   "file_extension": ".py",
   "mimetype": "text/x-python",
   "name": "python",
   "nbconvert_exporter": "python",
   "pygments_lexer": "ipython3",
   "version": "3.8.2"
  }
 },
 "nbformat": 4,
 "nbformat_minor": 4
}

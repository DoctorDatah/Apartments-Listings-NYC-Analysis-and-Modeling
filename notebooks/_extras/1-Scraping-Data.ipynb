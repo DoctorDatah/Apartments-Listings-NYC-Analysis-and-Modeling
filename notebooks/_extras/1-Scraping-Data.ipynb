{
 "cells": [
  {
   "cell_type": "markdown",
   "metadata": {},
   "source": [
    "# Scraping Data \n",
    "#### renthop.com\n",
    "https://www.renthop.com/nyc/apartments-for-rent\n",
    "\n",
    "It is first setup of scraper that I will use for this website."
   ]
  },
  {
   "cell_type": "code",
   "execution_count": 1,
   "metadata": {},
   "outputs": [],
   "source": [
    "import numpy as np \n",
    "import pandas as pd \n",
    "import requests \n",
    "import matplotlib.pyplot as plt \n",
    "%matplotlib inline "
   ]
  },
  {
   "cell_type": "markdown",
   "metadata": {},
   "source": [
    "A quick retrieve of web page to verify that the link works"
   ]
  },
  {
   "cell_type": "code",
   "execution_count": 2,
   "metadata": {},
   "outputs": [],
   "source": [
    "url = \"https://www.renthop.com/nyc/apartments-for-rent\""
   ]
  },
  {
   "cell_type": "code",
   "execution_count": 3,
   "metadata": {},
   "outputs": [],
   "source": [
    "req = requests.get(url) \n",
    "# req.content # Displays Web's Content"
   ]
  },
  {
   "cell_type": "markdown",
   "metadata": {},
   "source": [
    "Installing libraries"
   ]
  },
  {
   "cell_type": "code",
   "execution_count": 4,
   "metadata": {},
   "outputs": [],
   "source": [
    "# !pip install beautifulsoup4"
   ]
  },
  {
   "cell_type": "code",
   "execution_count": 5,
   "metadata": {},
   "outputs": [],
   "source": [
    "# !pip install html5lib"
   ]
  },
  {
   "cell_type": "markdown",
   "metadata": {},
   "source": [
    "Parsing HTML"
   ]
  },
  {
   "cell_type": "code",
   "execution_count": 6,
   "metadata": {},
   "outputs": [],
   "source": [
    "import html5lib\n",
    "from bs4 import BeautifulSoup \n",
    "\n",
    "soup = BeautifulSoup(req.content, \"html5lib\")\n",
    "# soup # Display's Parsed HTML "
   ]
  },
  {
   "cell_type": "markdown",
   "metadata": {},
   "source": [
    "Retrieving relevant HTML tags Which Contains listing information"
   ]
  },
  {
   "cell_type": "code",
   "execution_count": 7,
   "metadata": {},
   "outputs": [],
   "source": [
    "listing_divs = soup.select('div[class*=search-info]') # 'search-info' is related class for those divs\n",
    "# listing_divs # Display's All retrieved divs "
   ]
  },
  {
   "cell_type": "code",
   "execution_count": 8,
   "metadata": {},
   "outputs": [
    {
     "data": {
      "text/plain": [
       "20"
      ]
     },
     "execution_count": 8,
     "metadata": {},
     "output_type": "execute_result"
    }
   ],
   "source": [
    "len(listing_divs) # Total Number of divs"
   ]
  },
  {
   "cell_type": "code",
   "execution_count": 9,
   "metadata": {},
   "outputs": [],
   "source": [
    "# listing_divs[0] # Looking at individual div"
   ]
  },
  {
   "cell_type": "markdown",
   "metadata": {},
   "source": [
    "### Retrieving Individual Elements"
   ]
  },
  {
   "cell_type": "markdown",
   "metadata": {},
   "source": [
    "1. Retrieving URL of the listing"
   ]
  },
  {
   "cell_type": "code",
   "execution_count": 10,
   "metadata": {},
   "outputs": [],
   "source": [
    "# BeautifulSoup.select? # Perform a CSS selection operation on the current element"
   ]
  },
  {
   "cell_type": "code",
   "execution_count": 11,
   "metadata": {},
   "outputs": [
    {
     "data": {
      "text/plain": [
       "[<a class=\"font-size-11 listing-title-link b\" href=\"https://www.renthop.com/listings/43-10-crescent-street/1209/14481520\" id=\"listing-14481520-title\">43-10 Crescent Street, Apt 120...</a>]"
      ]
     },
     "execution_count": 11,
     "metadata": {},
     "output_type": "execute_result"
    }
   ],
   "source": [
    "listing_divs[0].select('a[id*=title]') # Select all the id's with string 'title' within 'a' tag"
   ]
  },
  {
   "cell_type": "code",
   "execution_count": 12,
   "metadata": {},
   "outputs": [
    {
     "data": {
      "text/plain": [
       "'https://www.renthop.com/listings/43-10-crescent-street/1209/14481520'"
      ]
     },
     "execution_count": 12,
     "metadata": {},
     "output_type": "execute_result"
    }
   ],
   "source": [
    "# We are only interseted in only the href one\n",
    "listing_link = listing_divs[0].select('a[id*=title]')[0]['href']\n",
    "listing_link"
   ]
  },
  {
   "cell_type": "markdown",
   "metadata": {},
   "source": [
    "2. Parsing Address "
   ]
  },
  {
   "cell_type": "code",
   "execution_count": 13,
   "metadata": {},
   "outputs": [
    {
     "data": {
      "text/plain": [
       "'43-10 Crescent Street, Apt 120...'"
      ]
     },
     "execution_count": 13,
     "metadata": {},
     "output_type": "execute_result"
    }
   ],
   "source": [
    "address = listing_divs[0].select('a[id*=title]')[0].string  # The string content with in 'a' tag\n",
    "address"
   ]
  },
  {
   "cell_type": "markdown",
   "metadata": {},
   "source": [
    "3. Parsing neighborhood"
   ]
  },
  {
   "cell_type": "code",
   "execution_count": 14,
   "metadata": {},
   "outputs": [
    {
     "data": {
      "text/plain": [
       "[<div class=\"font-size-9 overflow-ellipsis\" id=\"listing-14481520-neighborhoods\" style=\"margin-top: -1px;\">\n",
       " Long Island City, Northwestern Queens, Queens\n",
       " </div>]"
      ]
     },
     "execution_count": 14,
     "metadata": {},
     "output_type": "execute_result"
    }
   ],
   "source": [
    "listing_divs[0].select('div[id*=hood]') # Select all the id's with string 'hood' within 'a' tag"
   ]
  },
  {
   "cell_type": "code",
   "execution_count": 15,
   "metadata": {},
   "outputs": [
    {
     "data": {
      "text/plain": [
       "'\\nLong Island City, Northwestern Queens, Queens\\n'"
      ]
     },
     "execution_count": 15,
     "metadata": {},
     "output_type": "execute_result"
    }
   ],
   "source": [
    "listing_divs[0].select('div[id*=hood]')[0].string"
   ]
  },
  {
   "cell_type": "code",
   "execution_count": 16,
   "metadata": {},
   "outputs": [
    {
     "data": {
      "text/plain": [
       "'Long Island City, Northwestern Queens, Queens'"
      ]
     },
     "execution_count": 16,
     "metadata": {},
     "output_type": "execute_result"
    }
   ],
   "source": [
    "neighborhood = listing_divs[0].select('div[id*=hood]')[0].string.replace('\\n','')  # Removing '\\n'\n",
    "neighborhood"
   ]
  },
  {
   "cell_type": "code",
   "execution_count": 17,
   "metadata": {},
   "outputs": [
    {
     "name": "stdout",
     "output_type": "stream",
     "text": [
      "https://www.renthop.com/listings/43-10-crescent-street/1209/14481520\n",
      "43-10 Crescent Street, Apt 120...\n",
      "Long Island City, Northwestern Queens, Queens\n"
     ]
    }
   ],
   "source": [
    "print(listing_link) \n",
    "print(address) \n",
    "print(neighborhood)"
   ]
  },
  {
   "cell_type": "markdown",
   "metadata": {},
   "source": [
    "So Far Good."
   ]
  },
  {
   "cell_type": "markdown",
   "metadata": {},
   "source": [
    "4. Parsing rental, Number of Beds and Baths "
   ]
  },
  {
   "cell_type": "markdown",
   "metadata": {},
   "source": [
    "Table have 'info' string in 'id' tag. <br>\n",
    "Table contains a 'tr' containing 3 'td's with rental, beds and baths data stored as a string within each 'td'"
   ]
  },
  {
   "cell_type": "code",
   "execution_count": 18,
   "metadata": {},
   "outputs": [
    {
     "data": {
      "text/plain": [
       "[<table id=\"listing-14481520-info\">\n",
       " <tbody><tr>\n",
       " <td class=\"font-size-11 b\" id=\"listing-14481520-price\" style=\"padding: 0px 10px 0px 0px; vertical-align: bottom;\">\n",
       " $2,518\n",
       " </td>\n",
       " <td class=\"font-size-11 b\" style=\"border-left: 1px solid #eeeeee; padding: 0px 10px 0px 10px; vertical-align: bottom;\">\n",
       " <span style=\"color: #444444;\">\n",
       " Studio\n",
       " </span>\n",
       " </td>\n",
       " <td class=\"font-size-11 b\" style=\"border-left: 1px solid #eeeeee; padding: 0px 10px 0px 10px; vertical-align: bottom;\">\n",
       " <span style=\"color: #444444;\">1 Bath</span>\n",
       " </td>\n",
       " </tr>\n",
       " </tbody></table>]"
      ]
     },
     "execution_count": 18,
     "metadata": {},
     "output_type": "execute_result"
    }
   ],
   "source": [
    "listing_divs[0].select('table[id*=info]') # Parsing table with 'id' containing 'info' string"
   ]
  },
  {
   "cell_type": "code",
   "execution_count": 19,
   "metadata": {},
   "outputs": [
    {
     "data": {
      "text/plain": [
       "[<tr>\n",
       " <td class=\"font-size-11 b\" id=\"listing-14481520-price\" style=\"padding: 0px 10px 0px 0px; vertical-align: bottom;\">\n",
       " $2,518\n",
       " </td>\n",
       " <td class=\"font-size-11 b\" style=\"border-left: 1px solid #eeeeee; padding: 0px 10px 0px 10px; vertical-align: bottom;\">\n",
       " <span style=\"color: #444444;\">\n",
       " Studio\n",
       " </span>\n",
       " </td>\n",
       " <td class=\"font-size-11 b\" style=\"border-left: 1px solid #eeeeee; padding: 0px 10px 0px 10px; vertical-align: bottom;\">\n",
       " <span style=\"color: #444444;\">1 Bath</span>\n",
       " </td>\n",
       " </tr>]"
      ]
     },
     "execution_count": 19,
     "metadata": {},
     "output_type": "execute_result"
    }
   ],
   "source": [
    "listing_divs[0].select('table[id*=info] tr') # Parsing table with 'id' containing 'info; string only'tr'"
   ]
  },
  {
   "cell_type": "code",
   "execution_count": 20,
   "metadata": {},
   "outputs": [
    {
     "name": "stdout",
     "output_type": "stream",
     "text": [
      "['$2,518', 'Studio', '1_Bath']\n"
     ]
    }
   ],
   "source": [
    "# looping all 'td's \n",
    "# And Fetching each individual spec data\n",
    "\n",
    "listing_specs = listing_divs[0].select('table[id*=info] tr') \n",
    "for spec in listing_specs: \n",
    "    spec_data = spec.text.strip().replace(' ', '_').split() \n",
    "    print(spec_data) "
   ]
  },
  {
   "cell_type": "markdown",
   "metadata": {},
   "source": [
    "### Putting All things together "
   ]
  },
  {
   "cell_type": "code",
   "execution_count": 21,
   "metadata": {},
   "outputs": [],
   "source": [
    "listing_list = [] \n",
    "for idx in range(len(listing_divs)): \n",
    "    indv_listing = [] \n",
    "    current_listing = listing_divs[idx] \n",
    "    link = current_listing.select('a[id*=title]')[0]['href'] \n",
    "    address = current_listing.select('a[id*=title]')[0].string \n",
    "    neighborhood = current_listing.select('div[id*=hood]')[0].string.replace('\\n','') \n",
    "\n",
    "    indv_listing.append(link) \n",
    "    indv_listing.append(address) \n",
    "    indv_listing.append(neighborhood) \n",
    "\n",
    "    listing_specs = current_listing.select('table[id*=info] tr') \n",
    "    for spec in listing_specs: \n",
    "        try: \n",
    "            indv_listing.extend(spec.text.strip().replace(' ', '_').split()) \n",
    "        except: \n",
    "            indv_listing.extend(np.Unknownn) \n",
    "    listing_list.append(indv_listing)"
   ]
  },
  {
   "cell_type": "code",
   "execution_count": 22,
   "metadata": {},
   "outputs": [],
   "source": [
    "# listing_list"
   ]
  },
  {
   "cell_type": "code",
   "execution_count": 23,
   "metadata": {},
   "outputs": [],
   "source": [
    "# column_Unknownmes = ['link','address','neighborhood','price','beds','baths','Unknown']\n",
    "# pd.DataFrame(listing_list, columns=column_Unknownmes).head() # Just to view in nice format"
   ]
  },
  {
   "cell_type": "markdown",
   "metadata": {},
   "source": [
    "So far, this is just one web page with 20 listings."
   ]
  },
  {
   "cell_type": "markdown",
   "metadata": {},
   "source": [
    "### Parsing Multiple Pages"
   ]
  },
  {
   "cell_type": "markdown",
   "metadata": {},
   "source": [
    "https://www.renthop.com/search/nyc?max_price=50000&min_price=0&page=2&sort=hopscore&q=&search=0\n",
    "<br>This how url looks like"
   ]
  },
  {
   "cell_type": "markdown",
   "metadata": {},
   "source": [
    "Looping through pages based on page number "
   ]
  },
  {
   "cell_type": "code",
   "execution_count": 24,
   "metadata": {},
   "outputs": [
    {
     "name": "stdout",
     "output_type": "stream",
     "text": [
      "https://www.renthop.com/search/nyc?max_price=50000&min_price=0&page=1&sort=hopscore&q=&search=0\n",
      "https://www.renthop.com/search/nyc?max_price=50000&min_price=0&page=2&sort=hopscore&q=&search=0\n",
      "https://www.renthop.com/search/nyc?max_price=50000&min_price=0&page=3&sort=hopscore&q=&search=0\n"
     ]
    }
   ],
   "source": [
    "url_prefix = \"https://www.renthop.com/search/nyc?max_price=50000&min_price=0&page=\" \n",
    "page_no = 1 \n",
    "url_suffix = \"&sort=hopscore&q=&search=0\" \n",
    "  \n",
    "for i in range(3): \n",
    "    target_page = url_prefix + str(page_no) + url_suffix \n",
    "    print(target_page) \n",
    "    page_no += 1 "
   ]
  },
  {
   "cell_type": "code",
   "execution_count": 25,
   "metadata": {},
   "outputs": [],
   "source": [
    "def parse_data(listing_divs): \n",
    "    listing_list = [] \n",
    "    for idx in range(len(listing_divs)): \n",
    "        indv_listing = [] \n",
    "        current_listing = listing_divs[idx] \n",
    "        href = current_listing.select('a[id*=title]')[0]['href'] \n",
    "        addy = current_listing.select('a[id*=title]')[0].string \n",
    "        hood = current_listing.select('div[id*=hood]')[0].string.replace('\\n','') \n",
    " \n",
    "        indv_listing.append(href) \n",
    "        indv_listing.append(addy) \n",
    "        indv_listing.append(hood) \n",
    " \n",
    "        listing_specs = current_listing.select('table[id*=info] tr') \n",
    "        for spec in listing_specs: \n",
    "            try: \n",
    "                values = spec.text.strip().replace(' ', '_').split() \n",
    "                clean_values = [x for x in values if x != '_'] # Not getting  '_' these values \n",
    "                indv_listing.extend(clean_values) \n",
    "            except: \n",
    "                indv_listing.extend(np.Unknownn) \n",
    "        listing_list.append(indv_listing) \n",
    "    return listing_list "
   ]
  },
  {
   "cell_type": "code",
   "execution_count": 26,
   "metadata": {},
   "outputs": [
    {
     "name": "stdout",
     "output_type": "stream",
     "text": [
      "Completed\n"
     ]
    }
   ],
   "source": [
    "from IPython.display import clear_output\n",
    "\n",
    "\n",
    "all_pages_parsed = []\n",
    "\n",
    "for i in range(100):\n",
    "    \n",
    "    target_page = url_prefix + str(page_no) + url_suffix\n",
    "    \n",
    "    # Cleart the ouput and then print new one\n",
    "    print(target_page)\n",
    "    clear_output(wait=True)\n",
    "\n",
    "    r = requests.get(target_page)\n",
    "    \n",
    "    soup = BeautifulSoup(r.content, 'html5lib')\n",
    "    \n",
    "    listing_divs = soup.select('div[class*=search-info]')\n",
    "    \n",
    "    one_page_parsed = parse_data(listing_divs)\n",
    "    \n",
    "    all_pages_parsed.extend(one_page_parsed)\n",
    "    \n",
    "    page_no += 1\n",
    "    \n",
    "print(\"Completed\")"
   ]
  },
  {
   "cell_type": "code",
   "execution_count": 27,
   "metadata": {},
   "outputs": [
    {
     "data": {
      "text/plain": [
       "2000"
      ]
     },
     "execution_count": 27,
     "metadata": {},
     "output_type": "execute_result"
    }
   ],
   "source": [
    "# Each page has 20 lisitings and we parsed 20 pages\n",
    "100 * 20 # Total Listings"
   ]
  },
  {
   "cell_type": "code",
   "execution_count": 29,
   "metadata": {},
   "outputs": [
    {
     "data": {
      "text/html": [
       "<div>\n",
       "<style scoped>\n",
       "    .dataframe tbody tr th:only-of-type {\n",
       "        vertical-align: middle;\n",
       "    }\n",
       "\n",
       "    .dataframe tbody tr th {\n",
       "        vertical-align: top;\n",
       "    }\n",
       "\n",
       "    .dataframe thead th {\n",
       "        text-align: right;\n",
       "    }\n",
       "</style>\n",
       "<table border=\"1\" class=\"dataframe\">\n",
       "  <thead>\n",
       "    <tr style=\"text-align: right;\">\n",
       "      <th></th>\n",
       "      <th>url</th>\n",
       "      <th>address</th>\n",
       "      <th>neighborhood</th>\n",
       "      <th>rent</th>\n",
       "      <th>beds</th>\n",
       "      <th>baths</th>\n",
       "      <th>Unknown</th>\n",
       "    </tr>\n",
       "  </thead>\n",
       "  <tbody>\n",
       "    <tr>\n",
       "      <th>0</th>\n",
       "      <td>https://www.renthop.com/listings/gold-st/12c/1...</td>\n",
       "      <td>Gold St.</td>\n",
       "      <td>Downtown Brooklyn, Northwestern Brooklyn, Broo...</td>\n",
       "      <td>$3,395</td>\n",
       "      <td>1_Bed</td>\n",
       "      <td>1_Bath</td>\n",
       "      <td>None</td>\n",
       "    </tr>\n",
       "    <tr>\n",
       "      <th>1</th>\n",
       "      <td>https://www.renthop.com/listings/gold-st/9d/15...</td>\n",
       "      <td>Gold St.</td>\n",
       "      <td>Downtown Brooklyn, Northwestern Brooklyn, Broo...</td>\n",
       "      <td>$3,071</td>\n",
       "      <td>1_Bed</td>\n",
       "      <td>1_Bath</td>\n",
       "      <td>None</td>\n",
       "    </tr>\n",
       "    <tr>\n",
       "      <th>2</th>\n",
       "      <td>https://www.renthop.com/listings/141-east-56th...</td>\n",
       "      <td>141 East 56th Street, Apt 11A</td>\n",
       "      <td>Midtown East, Midtown Manhattan, Manhattan</td>\n",
       "      <td>$4,925</td>\n",
       "      <td>2_Bed</td>\n",
       "      <td>1_Bath</td>\n",
       "      <td>None</td>\n",
       "    </tr>\n",
       "  </tbody>\n",
       "</table>\n",
       "</div>"
      ],
      "text/plain": [
       "                                                 url  \\\n",
       "0  https://www.renthop.com/listings/gold-st/12c/1...   \n",
       "1  https://www.renthop.com/listings/gold-st/9d/15...   \n",
       "2  https://www.renthop.com/listings/141-east-56th...   \n",
       "\n",
       "                         address  \\\n",
       "0                       Gold St.   \n",
       "1                       Gold St.   \n",
       "2  141 East 56th Street, Apt 11A   \n",
       "\n",
       "                                        neighborhood    rent   beds   baths  \\\n",
       "0  Downtown Brooklyn, Northwestern Brooklyn, Broo...  $3,395  1_Bed  1_Bath   \n",
       "1  Downtown Brooklyn, Northwestern Brooklyn, Broo...  $3,071  1_Bed  1_Bath   \n",
       "2         Midtown East, Midtown Manhattan, Manhattan  $4,925  2_Bed  1_Bath   \n",
       "\n",
       "  Unknown  \n",
       "0    None  \n",
       "1    None  \n",
       "2    None  "
      ]
     },
     "execution_count": 29,
     "metadata": {},
     "output_type": "execute_result"
    }
   ],
   "source": [
    "listings  = pd.DataFrame(all_pages_parsed, columns=['url', 'address', 'neighborhood', 'rent', 'beds', 'baths', \"Unknown\"],) \n",
    "listings.replace('None', np.nan, inplace=True)\n",
    "listings.head(3)"
   ]
  },
  {
   "cell_type": "markdown",
   "metadata": {},
   "source": [
    "## Inspecting Data"
   ]
  },
  {
   "cell_type": "markdown",
   "metadata": {},
   "source": [
    "We have few flex rooms values,  that why some of bath is skewed to next column"
   ]
  },
  {
   "cell_type": "code",
   "execution_count": 37,
   "metadata": {},
   "outputs": [
    {
     "data": {
      "text/html": [
       "<div>\n",
       "<style scoped>\n",
       "    .dataframe tbody tr th:only-of-type {\n",
       "        vertical-align: middle;\n",
       "    }\n",
       "\n",
       "    .dataframe tbody tr th {\n",
       "        vertical-align: top;\n",
       "    }\n",
       "\n",
       "    .dataframe thead th {\n",
       "        text-align: right;\n",
       "    }\n",
       "</style>\n",
       "<table border=\"1\" class=\"dataframe\">\n",
       "  <thead>\n",
       "    <tr style=\"text-align: right;\">\n",
       "      <th></th>\n",
       "      <th>url</th>\n",
       "      <th>address</th>\n",
       "      <th>neighborhood</th>\n",
       "      <th>rent</th>\n",
       "      <th>beds</th>\n",
       "      <th>baths</th>\n",
       "      <th>Unknown</th>\n",
       "    </tr>\n",
       "  </thead>\n",
       "  <tbody>\n",
       "    <tr>\n",
       "      <th>3</th>\n",
       "      <td>https://www.renthop.com/listings/west-street/2...</td>\n",
       "      <td>west street</td>\n",
       "      <td>Financial District, Downtown Manhattan, Manhattan</td>\n",
       "      <td>$3,750</td>\n",
       "      <td>1_Bed</td>\n",
       "      <td>/_Flex_3_</td>\n",
       "      <td>1_Bath</td>\n",
       "    </tr>\n",
       "    <tr>\n",
       "      <th>13</th>\n",
       "      <td>https://www.renthop.com/listings/e-39th-st/232...</td>\n",
       "      <td>E 39th St</td>\n",
       "      <td>Murray Hill, Midtown Manhattan, Manhattan</td>\n",
       "      <td>$3,350</td>\n",
       "      <td>1_Bed</td>\n",
       "      <td>/_Flex_2_</td>\n",
       "      <td>1_Bath</td>\n",
       "    </tr>\n",
       "  </tbody>\n",
       "</table>\n",
       "</div>"
      ],
      "text/plain": [
       "                                                  url       address  \\\n",
       "3   https://www.renthop.com/listings/west-street/2...  west street    \n",
       "13  https://www.renthop.com/listings/e-39th-st/232...     E 39th St   \n",
       "\n",
       "                                         neighborhood    rent   beds  \\\n",
       "3   Financial District, Downtown Manhattan, Manhattan  $3,750  1_Bed   \n",
       "13          Murray Hill, Midtown Manhattan, Manhattan  $3,350  1_Bed   \n",
       "\n",
       "        baths Unknown  \n",
       "3   /_Flex_3_  1_Bath  \n",
       "13  /_Flex_2_  1_Bath  "
      ]
     },
     "execution_count": 37,
     "metadata": {},
     "output_type": "execute_result"
    }
   ],
   "source": [
    "listings[listings['Unknown'].notnull()].head(2)"
   ]
  },
  {
   "cell_type": "markdown",
   "metadata": {},
   "source": [
    "- Fixing Flex Rooms and Baths issue"
   ]
  },
  {
   "cell_type": "code",
   "execution_count": 38,
   "metadata": {},
   "outputs": [],
   "source": [
    "listings[\"Unknown\"], listings[\"baths\"] = np.where(listings[\"Unknown\"].notnull() , \n",
    "                                                  [listings[\"baths\"], listings[\"Unknown\"]], \n",
    "                                                  [listings[\"Unknown\"], listings[\"baths\"]])"
   ]
  },
  {
   "cell_type": "code",
   "execution_count": 53,
   "metadata": {},
   "outputs": [
    {
     "data": {
      "text/html": [
       "<div>\n",
       "<style scoped>\n",
       "    .dataframe tbody tr th:only-of-type {\n",
       "        vertical-align: middle;\n",
       "    }\n",
       "\n",
       "    .dataframe tbody tr th {\n",
       "        vertical-align: top;\n",
       "    }\n",
       "\n",
       "    .dataframe thead th {\n",
       "        text-align: right;\n",
       "    }\n",
       "</style>\n",
       "<table border=\"1\" class=\"dataframe\">\n",
       "  <thead>\n",
       "    <tr style=\"text-align: right;\">\n",
       "      <th></th>\n",
       "      <th>url</th>\n",
       "      <th>address</th>\n",
       "      <th>neighborhood</th>\n",
       "      <th>rent</th>\n",
       "      <th>beds</th>\n",
       "      <th>baths</th>\n",
       "      <th>flexs</th>\n",
       "    </tr>\n",
       "  </thead>\n",
       "  <tbody>\n",
       "    <tr>\n",
       "      <th>3</th>\n",
       "      <td>https://www.renthop.com/listings/west-street/2...</td>\n",
       "      <td>west street</td>\n",
       "      <td>Financial District, Downtown Manhattan, Manhattan</td>\n",
       "      <td>$3,750</td>\n",
       "      <td>1_Bed</td>\n",
       "      <td>1_Bath</td>\n",
       "      <td>/_Flex_3_</td>\n",
       "    </tr>\n",
       "    <tr>\n",
       "      <th>13</th>\n",
       "      <td>https://www.renthop.com/listings/e-39th-st/232...</td>\n",
       "      <td>E 39th St</td>\n",
       "      <td>Murray Hill, Midtown Manhattan, Manhattan</td>\n",
       "      <td>$3,350</td>\n",
       "      <td>1_Bed</td>\n",
       "      <td>1_Bath</td>\n",
       "      <td>/_Flex_2_</td>\n",
       "    </tr>\n",
       "    <tr>\n",
       "      <th>14</th>\n",
       "      <td>https://www.renthop.com/listings/west-43rd-str...</td>\n",
       "      <td>West 43rd Street</td>\n",
       "      <td>Hell's Kitchen, Midtown Manhattan, Manhattan</td>\n",
       "      <td>$3,000</td>\n",
       "      <td>Studio</td>\n",
       "      <td>1_Bath</td>\n",
       "      <td>/_Flex_1_</td>\n",
       "    </tr>\n",
       "  </tbody>\n",
       "</table>\n",
       "</div>"
      ],
      "text/plain": [
       "                                                  url           address  \\\n",
       "3   https://www.renthop.com/listings/west-street/2...      west street    \n",
       "13  https://www.renthop.com/listings/e-39th-st/232...         E 39th St   \n",
       "14  https://www.renthop.com/listings/west-43rd-str...  West 43rd Street   \n",
       "\n",
       "                                         neighborhood    rent    beds   baths  \\\n",
       "3   Financial District, Downtown Manhattan, Manhattan  $3,750   1_Bed  1_Bath   \n",
       "13          Murray Hill, Midtown Manhattan, Manhattan  $3,350   1_Bed  1_Bath   \n",
       "14       Hell's Kitchen, Midtown Manhattan, Manhattan  $3,000  Studio  1_Bath   \n",
       "\n",
       "        flexs  \n",
       "3   /_Flex_3_  \n",
       "13  /_Flex_2_  \n",
       "14  /_Flex_1_  "
      ]
     },
     "execution_count": 53,
     "metadata": {},
     "output_type": "execute_result"
    }
   ],
   "source": [
    "# Renaming \n",
    "new_columns = listings.columns.values\n",
    "new_columns[6] = 'flexs'\n",
    "listings.columns = new_columns\n",
    "\n",
    "# Checking Results\n",
    "listings[listings['flexs'].notnull()].head(3)"
   ]
  },
  {
   "cell_type": "markdown",
   "metadata": {},
   "source": [
    "Saving data as csv"
   ]
  },
  {
   "cell_type": "code",
   "execution_count": 74,
   "metadata": {},
   "outputs": [],
   "source": [
    "import os\n",
    "\n",
    "dir = 'Data'\n",
    "if(os.path.isdir(dir) is False):\n",
    "    os.makedirs(\"Data\")\n",
    "    \n",
    "listings.to_csv(\"Data\\listings.csv\", index = False)"
   ]
  },
  {
   "cell_type": "code",
   "execution_count": null,
   "metadata": {},
   "outputs": [],
   "source": []
  }
 ],
 "metadata": {
  "kernelspec": {
   "display_name": "Python 3",
   "language": "python",
   "name": "python3"
  },
  "language_info": {
   "codemirror_mode": {
    "name": "ipython",
    "version": 3
   },
   "file_extension": ".py",
   "mimetype": "text/x-python",
   "name": "python",
   "nbconvert_exporter": "python",
   "pygments_lexer": "ipython3",
   "version": "3.8.2"
  }
 },
 "nbformat": 4,
 "nbformat_minor": 4
}

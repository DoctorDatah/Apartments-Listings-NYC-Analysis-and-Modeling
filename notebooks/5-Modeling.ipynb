{
 "cells": [
  {
   "cell_type": "code",
   "execution_count": 1,
   "metadata": {},
   "outputs": [],
   "source": [
    "import os\n",
    "import sys\n",
    "import warnings\n",
    "import numpy as np \n",
    "import pandas as pd \n",
    "import seaborn as sns \n",
    "from scipy.stats import uniform\n",
    "import matplotlib.pyplot as plt \n",
    "from sklearn.decomposition import PCA\n",
    "from sklearn.model_selection import train_test_split\n",
    "from sklearn.linear_model import Lasso\n",
    "from sklearn.linear_model import Ridge\n",
    "from sklearn.model_selection import RandomizedSearchCV\n",
    "from sklearn.model_selection import cross_val_score\n",
    "from sklearn.metrics import mean_squared_error\n",
    "from sklearn.preprocessing import PolynomialFeatures\n",
    "from sklearn.ensemble import RandomForestRegressor\n",
    "from sklearn.ensemble import VotingRegressor\n",
    "from sklearn.ensemble import AdaBoostRegressor\n",
    "from sklearn.tree import DecisionTreeRegressor\n",
    "\n",
    "\n",
    "%load_ext autoreload\n",
    "%autoreload 2\n",
    "%matplotlib inline \n",
    "\n",
    "# Setting up directories\n",
    "ROOT_DIR = os.path.join(os.getcwd(), '..')\n",
    "SRC_DIR = os.path.join(os.getcwd(), '..', 'src')\n",
    "DATA_DIR = os.path.join(ROOT_DIR, \"data\")\n",
    "\n",
    "sys.path.append(ROOT_DIR)\n",
    "sys.path.append(SRC_DIR)\n",
    "os.chdir(ROOT_DIR)"
   ]
  },
  {
   "cell_type": "code",
   "execution_count": 2,
   "metadata": {},
   "outputs": [],
   "source": [
    "# Custom Modules\n",
    "from d00_utils import read_write\n",
    "from d04_modeling import models\n",
    "from d04_modeling import features_transformations\n",
    "\n",
    "PREP_DATA_DIR = os.path.join(DATA_DIR,\"03_preprocessed\")\n",
    "LISTINGS_DATA_PATH = os.path.join(PREP_DATA_DIR, 'listings_preprocessed_2.csv')"
   ]
  },
  {
   "cell_type": "markdown",
   "metadata": {},
   "source": [
    "### Get Prepared Data"
   ]
  },
  {
   "cell_type": "code",
   "execution_count": 3,
   "metadata": {},
   "outputs": [
    {
     "name": "stdout",
     "output_type": "stream",
     "text": [
      "<class 'pandas.core.frame.DataFrame'>\n",
      "RangeIndex: 6885 entries, 0 to 6884\n",
      "Data columns (total 8 columns):\n",
      " #   Column        Non-Null Count  Dtype  \n",
      "---  ------        --------------  -----  \n",
      " 0   url           6885 non-null   object \n",
      " 1   address       6885 non-null   object \n",
      " 2   neighborhood  6885 non-null   object \n",
      " 3   rent          6885 non-null   int64  \n",
      " 4   beds          6885 non-null   int64  \n",
      " 5   baths         6885 non-null   float64\n",
      " 6   flexs         6885 non-null   float64\n",
      " 7   zip           6885 non-null   int64  \n",
      "dtypes: float64(2), int64(3), object(3)\n",
      "memory usage: 430.4+ KB\n"
     ]
    }
   ],
   "source": [
    "listings = pd.read_csv(LISTINGS_DATA_PATH)\n",
    "listings.info()"
   ]
  },
  {
   "cell_type": "markdown",
   "metadata": {},
   "source": [
    "### Train Test Split"
   ]
  },
  {
   "cell_type": "code",
   "execution_count": 4,
   "metadata": {},
   "outputs": [],
   "source": [
    "listings_signals = listings[['beds', 'baths', 'flexs', 'zip']]\n",
    "listings_labels = listings['rent']\n",
    "\n",
    "listings_train_signals, listings_test_signals, listings_train_labels, listings_test_labels = train_test_split(listings_signals, listings_labels, test_size=0.33, random_state=42)"
   ]
  },
  {
   "cell_type": "markdown",
   "metadata": {},
   "source": [
    "### Transforming all Features"
   ]
  },
  {
   "cell_type": "code",
   "execution_count": 5,
   "metadata": {},
   "outputs": [
    {
     "name": "stdout",
     "output_type": "stream",
     "text": [
      "Training set Shape:(4612, 133)\n",
      "Testing set Shape:(2273, 133)\n"
     ]
    }
   ],
   "source": [
    "listings_train_signals_prep, listings_test_signals_prep = features_transformations.\\\n",
    "fit_transform(listings_signals,listings_train_signals,listings_test_signals,'beds_bath_flex_ordi')"
   ]
  },
  {
   "cell_type": "markdown",
   "metadata": {},
   "source": [
    "### Base Model \n",
    "#### Lasso Regression - with alpha = 0.1"
   ]
  },
  {
   "cell_type": "code",
   "execution_count": 7,
   "metadata": {},
   "outputs": [
    {
     "name": "stdout",
     "output_type": "stream",
     "text": [
      "Simple RMSE Evaluation Score: 2559.2717003863045\n",
      "Cross Valdiation RMSE Evaluation Mean Score: 2613.9517066103417\n"
     ]
    }
   ],
   "source": [
    "lasso_reg = models.build_lasso(0.1, listings_train_signals_prep, listings_train_labels)"
   ]
  },
  {
   "cell_type": "markdown",
   "metadata": {},
   "source": [
    "Model perfroms is extremly low"
   ]
  },
  {
   "cell_type": "markdown",
   "metadata": {},
   "source": [
    "#### Lasso Regression - RandomSearchCV"
   ]
  },
  {
   "cell_type": "code",
   "execution_count": 8,
   "metadata": {},
   "outputs": [
    {
     "data": {
      "text/plain": [
       "{'alpha': 0.3534697256351348}"
      ]
     },
     "execution_count": 8,
     "metadata": {},
     "output_type": "execute_result"
    }
   ],
   "source": [
    "models.lasso_random_search(n_iter_=100,cv_=3, X_train=listings_train_signals_prep, y_train=listings_train_labels)"
   ]
  },
  {
   "cell_type": "markdown",
   "metadata": {},
   "source": [
    "#### Building Lasso Regression with Best Estimators"
   ]
  },
  {
   "cell_type": "code",
   "execution_count": 10,
   "metadata": {},
   "outputs": [
    {
     "name": "stdout",
     "output_type": "stream",
     "text": [
      "Simple RMSE Evaluation Score: 2565.354446826757\n",
      "Cross Valdiation RMSE Evaluation Mean Score: 2613.1781801149596\n"
     ]
    }
   ],
   "source": [
    "lasso_reg = models.build_lasso(0.35, listings_train_signals_prep, listings_train_labels)"
   ]
  },
  {
   "cell_type": "markdown",
   "metadata": {},
   "source": [
    "No imporovment"
   ]
  },
  {
   "cell_type": "markdown",
   "metadata": {},
   "source": [
    "### Lasso model with only beds and zip"
   ]
  },
  {
   "cell_type": "code",
   "execution_count": 11,
   "metadata": {},
   "outputs": [
    {
     "name": "stdout",
     "output_type": "stream",
     "text": [
      "Training set Shape:(4612, 133)\n",
      "Testing set Shape:(2273, 133)\n"
     ]
    }
   ],
   "source": [
    "listings_train_signals_prep2, listings_test_signals_prep2 = features_transformations.\\\n",
    "fit_transform(listings_signals,listings_train_signals,listings_test_signals,'beds_bath_flex_numerical')"
   ]
  },
  {
   "cell_type": "code",
   "execution_count": 13,
   "metadata": {},
   "outputs": [
    {
     "name": "stdout",
     "output_type": "stream",
     "text": [
      "Simple RMSE Evaluation Score: 2490.274338596655\n",
      "Cross Valdiation RMSE Evaluation Mean Score: 2547.0939559319695\n"
     ]
    }
   ],
   "source": [
    "lasso_reg2 = models.build_lasso(0.35, listings_train_signals_prep2, listings_train_labels)"
   ]
  },
  {
   "cell_type": "markdown",
   "metadata": {},
   "source": [
    "# Plynomial Features "
   ]
  },
  {
   "cell_type": "markdown",
   "metadata": {},
   "source": [
    "##### Drgree2= 2"
   ]
  },
  {
   "cell_type": "code",
   "execution_count": 14,
   "metadata": {},
   "outputs": [
    {
     "data": {
      "text/plain": [
       "{'alpha': 0.579041708743506}"
      ]
     },
     "execution_count": 14,
     "metadata": {},
     "output_type": "execute_result"
    }
   ],
   "source": [
    "# Getting polynomical features\n",
    "poly_features = PolynomialFeatures(degree=2, include_bias=False)\n",
    "listings_train_poly = poly_features.fit_transform(listings_train_signals)\n",
    "\n",
    "# RandomSearch on polynomial features\n",
    "warnings.filterwarnings('ignore')\n",
    "models.lasso_random_search(n_iter_=20,cv_=3, X_train=listings_train_poly, y_train=listings_train_labels)"
   ]
  },
  {
   "cell_type": "code",
   "execution_count": 16,
   "metadata": {},
   "outputs": [
    {
     "name": "stdout",
     "output_type": "stream",
     "text": [
      "Simple RMSE Evaluation Score: 2467.1397088844024\n",
      "Cross Valdiation RMSE Evaluation Mean Score: 2485.3241809339443\n"
     ]
    }
   ],
   "source": [
    "lasso_reg3_poly = models.build_lasso(0.62, listings_train_poly, listings_train_labels)"
   ]
  },
  {
   "cell_type": "markdown",
   "metadata": {},
   "source": [
    "##### Drgree = 5"
   ]
  },
  {
   "cell_type": "code",
   "execution_count": 17,
   "metadata": {},
   "outputs": [
    {
     "data": {
      "text/plain": [
       "{'alpha': 0.9615366218413242}"
      ]
     },
     "execution_count": 17,
     "metadata": {},
     "output_type": "execute_result"
    }
   ],
   "source": [
    "# Getting polynomical features\n",
    "poly_features = PolynomialFeatures(degree=5, include_bias=False)\n",
    "listings_train_poly = poly_features.fit_transform(listings_train_signals)\n",
    "\n",
    "# RandomSearch on polynomial features\n",
    "models.lasso_random_search(n_iter_=20,cv_=3, X_train=listings_train_poly, y_train=listings_train_labels)"
   ]
  },
  {
   "cell_type": "code",
   "execution_count": 19,
   "metadata": {},
   "outputs": [
    {
     "name": "stdout",
     "output_type": "stream",
     "text": [
      "Simple RMSE Evaluation Score: 2343.547016395309\n",
      "Cross Valdiation RMSE Evaluation Mean Score: 2517.65587596868\n"
     ]
    }
   ],
   "source": [
    "lasso_reg4_poly = models.build_lasso(0.9, listings_train_poly, listings_train_labels)"
   ]
  },
  {
   "cell_type": "markdown",
   "metadata": {},
   "source": [
    "##### Drgree = 10"
   ]
  },
  {
   "cell_type": "code",
   "execution_count": 20,
   "metadata": {},
   "outputs": [
    {
     "data": {
      "text/plain": [
       "{'alpha': 0.03016559396939189}"
      ]
     },
     "execution_count": 20,
     "metadata": {},
     "output_type": "execute_result"
    }
   ],
   "source": [
    "# Getting polynomical features\n",
    "poly_features = PolynomialFeatures(degree=10, include_bias=False)\n",
    "listings_train_poly = poly_features.fit_transform(listings_train_signals)\n",
    "\n",
    "# RandomSearch on polynomial features\n",
    "models.lasso_random_search(n_iter_=20,cv_=3, X_train=listings_train_poly, y_train=listings_train_labels)"
   ]
  },
  {
   "cell_type": "code",
   "execution_count": null,
   "metadata": {},
   "outputs": [],
   "source": [
    "lasso_reg5_poly = models.build_lasso(0.008, listings_train_poly, listings_train_labels)"
   ]
  },
  {
   "cell_type": "markdown",
   "metadata": {},
   "source": [
    "Does not make much of the difference"
   ]
  },
  {
   "cell_type": "markdown",
   "metadata": {},
   "source": [
    "### Decsion Tree"
   ]
  },
  {
   "cell_type": "markdown",
   "metadata": {},
   "source": [
    "Numerical Features"
   ]
  },
  {
   "cell_type": "code",
   "execution_count": null,
   "metadata": {},
   "outputs": [],
   "source": [
    "dtree1= models.build_decision_tree(max_depth_=40,max_features_=4,X_train=listings_train_signals_prep2,y_train=listings_train_labels)"
   ]
  },
  {
   "cell_type": "code",
   "execution_count": null,
   "metadata": {},
   "outputs": [],
   "source": [
    "dtree1= models.build_decision_tree(max_depth_=50,max_features_=15,X_train=listings_train_signals_prep2,y_train=listings_train_labels)"
   ]
  },
  {
   "cell_type": "markdown",
   "metadata": {},
   "source": [
    "Ordinal Features"
   ]
  },
  {
   "cell_type": "code",
   "execution_count": null,
   "metadata": {},
   "outputs": [],
   "source": [
    "dtree1= models.build_decision_tree(max_depth_=40,max_features_=4,X_train=listings_train_signals_prep,y_train=listings_train_labels)"
   ]
  },
  {
   "cell_type": "code",
   "execution_count": null,
   "metadata": {},
   "outputs": [],
   "source": [
    "dtree1= models.build_decision_tree(max_depth_=100,max_features_=11,X_train=listings_train_signals_prep,y_train=listings_train_labels)"
   ]
  },
  {
   "cell_type": "markdown",
   "metadata": {},
   "source": [
    "No imporvemnts"
   ]
  },
  {
   "cell_type": "markdown",
   "metadata": {},
   "source": [
    "### Ensemble Model forest"
   ]
  },
  {
   "cell_type": "code",
   "execution_count": null,
   "metadata": {},
   "outputs": [],
   "source": [
    "# Lasso Regression\n",
    "lasso_reg = Lasso(alpha=0.35) # alpha from RandomSearch\n",
    "#  Random Foresst\n",
    "rnd_reg = RandomForestRegressor(n_estimators=100)\n",
    "# Decision Tree\n",
    "tree_reg = DecisionTreeRegressor(max_depth=40,max_features=5)\n",
    "# Voting Regressor \n",
    "voting_reg = VotingRegressor(\n",
    "    estimators=[('lr', lasso_reg), ('rf', rnd_reg), ('tree', tree_reg)])\n",
    "\n",
    "voting_reg.fit(listings_train_signals_prep, listings_train_labels)\n",
    "\n",
    "models.calculate_rmse(listings_train_signals_prep, listings_train_labels,voting_reg)"
   ]
  },
  {
   "cell_type": "markdown",
   "metadata": {},
   "source": [
    "### Adaptive Boosting"
   ]
  },
  {
   "cell_type": "code",
   "execution_count": null,
   "metadata": {},
   "outputs": [],
   "source": [
    "# Adpative Boosting on Voting Regressor \n",
    "ada_reg1 = AdaBoostRegressor(voting_reg,n_estimators=200, learning_rate=0.5)\n",
    "\n",
    "ada_reg1.fit(listings_train_signals_prep, listings_train_labels)\n",
    "\n",
    "models.calculate_rmse(listings_train_signals_prep, listings_train_labels,ada_reg1)"
   ]
  },
  {
   "cell_type": "code",
   "execution_count": null,
   "metadata": {},
   "outputs": [],
   "source": [
    "# Adpative Boosting on lasso \n",
    "ada_reg1 = AdaBoostRegressor(lasso_reg2,n_estimators=200, learning_rate=0.5)\n",
    "\n",
    "ada_reg1.fit(listings_train_signals_prep, listings_train_labels)\n",
    "\n",
    "models.calculate_rmse(listings_train_signals_prep, listings_train_labels,ada_reg1)"
   ]
  },
  {
   "cell_type": "markdown",
   "metadata": {},
   "source": [
    "### Dimentionality Reduction - Principal Component Analysis\n",
    "\n",
    "To Check if we can reduce dimension. We have 133 dimension after converting categorical features to encoders"
   ]
  },
  {
   "cell_type": "code",
   "execution_count": null,
   "metadata": {},
   "outputs": [],
   "source": [
    "# PCA with 99% variance captured\n",
    "pca  = PCA(n_components=0.99)\n",
    "listings_train_reduced = pca.fit_transform(listings_train_signals_prep)\n",
    "listings_train_reduced.shape"
   ]
  },
  {
   "cell_type": "code",
   "execution_count": null,
   "metadata": {},
   "outputs": [],
   "source": [
    "# Fitting votting Regression \n",
    "voting_reg.fit(listings_train_reduced, listings_train_labels)\n",
    "models.calculate_rmse(listings_train_reduced, listings_train_labels,voting_reg)"
   ]
  },
  {
   "cell_type": "code",
   "execution_count": null,
   "metadata": {},
   "outputs": [],
   "source": [
    "# Fitting on adaptive boost model with votting regression\n",
    "ada_reg1.fit(listings_train_reduced, listings_train_labels)\n",
    "models.calculate_rmse(listings_train_reduced, listings_train_labels,ada_reg1)"
   ]
  },
  {
   "cell_type": "markdown",
   "metadata": {},
   "source": [
    "#### Building Model without zip"
   ]
  },
  {
   "cell_type": "code",
   "execution_count": null,
   "metadata": {},
   "outputs": [],
   "source": [
    "listings_train_signals_prep3 = listings_train_signals[['beds', 'baths', 'flexs']]"
   ]
  },
  {
   "cell_type": "code",
   "execution_count": null,
   "metadata": {},
   "outputs": [],
   "source": [
    "## Fitting votting Regression ##\n",
    "# Lasso Regression\n",
    "lasso_reg = Lasso(alpha=0.35) # alpha from RandomSearch\n",
    "#  Random Foresst\n",
    "rnd_reg = RandomForestRegressor(n_estimators=100)\n",
    "# Decision Tree\n",
    "tree_reg = DecisionTreeRegressor(max_depth=40,max_features=2)\n",
    "# Voting Regressor \n",
    "voting_reg2 = VotingRegressor(\n",
    "    estimators=[('lr', lasso_reg), ('rf', rnd_reg), ('tree', tree_reg)])\n",
    "\n",
    "voting_reg2.fit(listings_train_signals_prep3, listings_train_labels)\n",
    "models.calculate_rmse(listings_train_signals_prep3, listings_train_labels,voting_reg2)"
   ]
  },
  {
   "cell_type": "code",
   "execution_count": null,
   "metadata": {},
   "outputs": [],
   "source": [
    "# Adpative Boosting on Voting Regressor \n",
    "ada_reg2 = AdaBoostRegressor(voting_reg2,n_estimators=200, learning_rate=0.5)\n",
    "\n",
    "ada_reg2.fit(listings_train_signals_prep3, listings_train_labels)\n",
    "\n",
    "models.calculate_rmse(listings_train_signals_prep3, listings_train_labels,ada_reg2)"
   ]
  },
  {
   "cell_type": "markdown",
   "metadata": {},
   "source": [
    "### Testing\n",
    "\n",
    "\n"
   ]
  },
  {
   "cell_type": "code",
   "execution_count": null,
   "metadata": {},
   "outputs": [],
   "source": [
    "pred_test =  ada_reg.predict(listings_test_signals_prep)\n",
    "mse = mean_squared_error(listings_test_labels, pred_test)\n",
    "rmse = np.sqrt(mse)\n",
    "print(\"Simple RMSE Evaluation Score: \"+ str(rmse))\n"
   ]
  },
  {
   "cell_type": "code",
   "execution_count": null,
   "metadata": {},
   "outputs": [],
   "source": [
    "accuracy = ada_reg.score(listings_test_signals_prep,listings_test_labels)\n",
    "print(accuracy*100,'%')"
   ]
  },
  {
   "cell_type": "code",
   "execution_count": null,
   "metadata": {},
   "outputs": [],
   "source": []
  }
 ],
 "metadata": {
  "kernelspec": {
   "display_name": "Python 3",
   "language": "python",
   "name": "python3"
  },
  "language_info": {
   "codemirror_mode": {
    "name": "ipython",
    "version": 3
   },
   "file_extension": ".py",
   "mimetype": "text/x-python",
   "name": "python",
   "nbconvert_exporter": "python",
   "pygments_lexer": "ipython3",
   "version": "3.8.2"
  }
 },
 "nbformat": 4,
 "nbformat_minor": 4
}

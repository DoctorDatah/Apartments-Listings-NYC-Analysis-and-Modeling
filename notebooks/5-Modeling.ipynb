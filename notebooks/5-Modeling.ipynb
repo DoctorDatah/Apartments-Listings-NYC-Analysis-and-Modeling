{
 "cells": [
  {
   "cell_type": "code",
   "execution_count": null,
   "metadata": {},
   "outputs": [],
   "source": [
    "import os\n",
    "import sys\n",
    "import pickle\n",
    "import warnings\n",
    "import numpy as np \n",
    "import pandas as pd \n",
    "import seaborn as sns \n",
    "from scipy.stats import uniform\n",
    "import matplotlib.pyplot as plt \n",
    "from sklearn.utils import shuffle\n",
    "from sklearn.externals import joblib \n",
    "from sklearn.decomposition import PCA\n",
    "from sklearn.svm import LinearSVR\n",
    "from sklearn.linear_model import Lasso\n",
    "from sklearn.linear_model import Ridge\n",
    "from sklearn.ensemble import VotingRegressor\n",
    "from sklearn.ensemble import AdaBoostRegressor\n",
    "from sklearn.tree import DecisionTreeRegressor\n",
    "from sklearn.metrics import mean_squared_error\n",
    "from sklearn.model_selection import train_test_split\n",
    "from sklearn.model_selection import RandomizedSearchCV\n",
    "from sklearn.model_selection import cross_val_score\n",
    "from sklearn.preprocessing import PolynomialFeatures\n",
    "from sklearn.ensemble import RandomForestRegressor\n",
    "\n",
    "\n",
    "%load_ext autoreload\n",
    "%autoreload 2\n",
    "%matplotlib inline \n",
    "warnings.filterwarnings('ignore')\n",
    "\n",
    "\n",
    "# Setting up directories\n",
    "ROOT_DIR = os.path.join(os.getcwd(), '..')\n",
    "SRC_DIR = os.path.join(os.getcwd(), '..', 'src')\n",
    "DATA_DIR = os.path.join(ROOT_DIR, \"data\")\n",
    "\n",
    "sys.path.append(ROOT_DIR)\n",
    "sys.path.append(SRC_DIR)\n",
    "os.chdir(ROOT_DIR)"
   ]
  },
  {
   "cell_type": "code",
   "execution_count": 3,
   "metadata": {},
   "outputs": [],
   "source": [
    "# Custom Modules\n",
    "from d00_utils import read_write\n",
    "from d04_modeling import models\n",
    "from d04_modeling import features_transformations\n",
    "\n",
    "PREP_DATA_DIR = os.path.join(DATA_DIR,\"03_preprocessed\")\n",
    "MODELs_DIR = os.path.join(DATA_DIR,\"04_models\")\n",
    "LISTINGS_DATA_PATH = os.path.join(PREP_DATA_DIR, 'listings_preprocessed_2.csv')"
   ]
  },
  {
   "cell_type": "markdown",
   "metadata": {},
   "source": [
    "### Get Prepared Data"
   ]
  },
  {
   "cell_type": "code",
   "execution_count": 4,
   "metadata": {},
   "outputs": [
    {
     "name": "stdout",
     "output_type": "stream",
     "text": [
      "<class 'pandas.core.frame.DataFrame'>\n",
      "RangeIndex: 6885 entries, 0 to 6884\n",
      "Data columns (total 8 columns):\n",
      " #   Column        Non-Null Count  Dtype  \n",
      "---  ------        --------------  -----  \n",
      " 0   url           6885 non-null   object \n",
      " 1   address       6885 non-null   object \n",
      " 2   neighborhood  6885 non-null   object \n",
      " 3   rent          6885 non-null   int64  \n",
      " 4   beds          6885 non-null   int64  \n",
      " 5   baths         6885 non-null   float64\n",
      " 6   flexs         6885 non-null   float64\n",
      " 7   zip           6885 non-null   int64  \n",
      "dtypes: float64(2), int64(3), object(3)\n",
      "memory usage: 430.4+ KB\n"
     ]
    }
   ],
   "source": [
    "listings = pd.read_csv(LISTINGS_DATA_PATH)\n",
    "listings.info()"
   ]
  },
  {
   "cell_type": "markdown",
   "metadata": {},
   "source": [
    "### Train Test Split"
   ]
  },
  {
   "cell_type": "code",
   "execution_count": 5,
   "metadata": {},
   "outputs": [],
   "source": [
    "# Sinals and labels \n",
    "listings_signals = listings[['beds', 'baths', 'flexs', 'zip']]\n",
    "listings_labels = listings['rent']\n",
    "\n",
    "# Shuffle\n",
    "listings_signals, listings_labels = shuffle(listings_signals, listings_labels)\n",
    "\n",
    "# Split\n",
    "listings_train_signals, listings_test_signals, listings_train_labels, listings_test_labels = train_test_split(listings_signals, listings_labels, test_size=0.33, random_state=42)"
   ]
  },
  {
   "cell_type": "markdown",
   "metadata": {},
   "source": [
    "### Transforming all Features"
   ]
  },
  {
   "cell_type": "code",
   "execution_count": 85,
   "metadata": {},
   "outputs": [
    {
     "name": "stdout",
     "output_type": "stream",
     "text": [
      "Training set Shape:(4612, 133)\n",
      "Testing set Shape:(2273, 133)\n"
     ]
    }
   ],
   "source": [
    "listings_train_signals_prep, listings_test_signals_prep = features_transformations.\\\n",
    "fit_transform(listings_signals,listings_train_signals,listings_test_signals,'beds_bath_flex_ordi')"
   ]
  },
  {
   "cell_type": "markdown",
   "metadata": {},
   "source": [
    "### Base Model \n",
    "#### Lasso Regression - with alpha = 0.1"
   ]
  },
  {
   "cell_type": "code",
   "execution_count": 7,
   "metadata": {},
   "outputs": [
    {
     "name": "stdout",
     "output_type": "stream",
     "text": [
      "Cross Valdiation RMSE Evaluation Mean Score: 2344.1458116373688\n"
     ]
    }
   ],
   "source": [
    "lasso_reg = models.build_lasso(0.1, listings_train_signals_prep, listings_train_labels)\n",
    "\n",
    "# Save the trained model as a pickle string. \n",
    "model_path = os.path.join(MODELs_DIR , 'lasso_reg1.pkl')\n",
    "saved_model = joblib.dump(lasso_reg,model_path) "
   ]
  },
  {
   "cell_type": "markdown",
   "metadata": {},
   "source": [
    "Model perfroms is extremly low"
   ]
  },
  {
   "cell_type": "markdown",
   "metadata": {},
   "source": [
    "#### Lasso Regression - RandomSearchCV"
   ]
  },
  {
   "cell_type": "code",
   "execution_count": 8,
   "metadata": {},
   "outputs": [
    {
     "data": {
      "text/plain": [
       "{'alpha': 0.16627929785782958}"
      ]
     },
     "execution_count": 8,
     "metadata": {},
     "output_type": "execute_result"
    }
   ],
   "source": [
    "models.lasso_random_search(n_iter_=100,cv_=3, X_train=listings_train_signals_prep, y_train=listings_train_labels)"
   ]
  },
  {
   "cell_type": "markdown",
   "metadata": {},
   "source": [
    "#### Building Lasso Regression with Best Estimators"
   ]
  },
  {
   "cell_type": "code",
   "execution_count": 9,
   "metadata": {},
   "outputs": [
    {
     "name": "stdout",
     "output_type": "stream",
     "text": [
      "Cross Valdiation RMSE Evaluation Mean Score: 2343.9955616415587\n"
     ]
    }
   ],
   "source": [
    "lasso_reg = models.build_lasso(0.166, listings_train_signals_prep, listings_train_labels)\n",
    "\n",
    "# Save the trained model as a pickle string. \n",
    "model_path = os.path.join(MODELs_DIR , 'lasso_reg2.pkl')\n",
    "saved_model = joblib.dump(lasso_reg,model_path) "
   ]
  },
  {
   "cell_type": "markdown",
   "metadata": {},
   "source": [
    "No imporovment"
   ]
  },
  {
   "cell_type": "markdown",
   "metadata": {},
   "source": [
    "### Lasso model with only beds and zip"
   ]
  },
  {
   "cell_type": "code",
   "execution_count": 10,
   "metadata": {},
   "outputs": [
    {
     "name": "stdout",
     "output_type": "stream",
     "text": [
      "Training set Shape:(4612, 133)\n",
      "Testing set Shape:(2273, 133)\n"
     ]
    }
   ],
   "source": [
    "listings_train_signals_prep2, listings_test_signals_prep2 = features_transformations.\\\n",
    "fit_transform(listings_signals,listings_train_signals,listings_test_signals,'beds_bath_flex_numerical')"
   ]
  },
  {
   "cell_type": "code",
   "execution_count": 11,
   "metadata": {},
   "outputs": [
    {
     "name": "stdout",
     "output_type": "stream",
     "text": [
      "Cross Valdiation RMSE Evaluation Mean Score: 2281.286595256233\n"
     ]
    }
   ],
   "source": [
    "lasso_reg3 = models.build_lasso(0.16, listings_train_signals_prep2, listings_train_labels)\n",
    "\n",
    "# Save the trained model as a pickle string. \n",
    "model_path = os.path.join(MODELs_DIR , 'lasso_reg3.pkl')\n",
    "saved_model = joblib.dump(lasso_reg3,model_path) "
   ]
  },
  {
   "cell_type": "markdown",
   "metadata": {},
   "source": [
    "# Plynomial Features "
   ]
  },
  {
   "cell_type": "markdown",
   "metadata": {},
   "source": [
    "##### Drgree2= 2"
   ]
  },
  {
   "cell_type": "code",
   "execution_count": 12,
   "metadata": {},
   "outputs": [
    {
     "data": {
      "text/plain": [
       "{'alpha': 0.736695059880016}"
      ]
     },
     "execution_count": 12,
     "metadata": {},
     "output_type": "execute_result"
    }
   ],
   "source": [
    "# Getting polynomical features\n",
    "poly_features = PolynomialFeatures(degree=2, include_bias=False)\n",
    "listings_train_poly = poly_features.fit_transform(listings_train_signals)\n",
    "\n",
    "# RandomSearch on polynomial features\n",
    "models.lasso_random_search(n_iter_=20,cv_=3, X_train=listings_train_poly, y_train=listings_train_labels)"
   ]
  },
  {
   "cell_type": "code",
   "execution_count": 13,
   "metadata": {},
   "outputs": [
    {
     "name": "stdout",
     "output_type": "stream",
     "text": [
      "Cross Valdiation RMSE Evaluation Mean Score: 2238.9460408102136\n"
     ]
    }
   ],
   "source": [
    "lasso_reg4_poly2 = models.build_lasso(0.73, listings_train_poly, listings_train_labels)\n",
    "\n",
    "# Save the trained model as a pickle string. \n",
    "model_path = os.path.join(MODELs_DIR , 'lasso_reg4_poly2.pkl')\n",
    "saved_model = joblib.dump(lasso_reg4_poly2,model_path) "
   ]
  },
  {
   "cell_type": "markdown",
   "metadata": {},
   "source": [
    "##### Drgree = 5"
   ]
  },
  {
   "cell_type": "code",
   "execution_count": 14,
   "metadata": {},
   "outputs": [
    {
     "data": {
      "text/plain": [
       "{'alpha': 0.38007689568792413}"
      ]
     },
     "execution_count": 14,
     "metadata": {},
     "output_type": "execute_result"
    }
   ],
   "source": [
    "# Getting polynomical features\n",
    "poly_features = PolynomialFeatures(degree=5, include_bias=False)\n",
    "listings_train_poly = poly_features.fit_transform(listings_train_signals)\n",
    "\n",
    "# RandomSearch on polynomial features\n",
    "models.lasso_random_search(n_iter_=20,cv_=3, X_train=listings_train_poly, y_train=listings_train_labels)"
   ]
  },
  {
   "cell_type": "code",
   "execution_count": 15,
   "metadata": {},
   "outputs": [
    {
     "name": "stdout",
     "output_type": "stream",
     "text": [
      "Cross Valdiation RMSE Evaluation Mean Score: 2769.3592937712447\n"
     ]
    }
   ],
   "source": [
    "lasso_reg5_poly5 = models.build_lasso(0.38, listings_train_poly, listings_train_labels)\n",
    "\n",
    "# Save the trained model as a pickle string. \n",
    "model_path = os.path.join(MODELs_DIR , 'lasso_reg5_poly5.pkl')\n",
    "saved_model = joblib.dump(lasso_reg5_poly5,model_path) "
   ]
  },
  {
   "cell_type": "markdown",
   "metadata": {},
   "source": [
    "##### Drgree = 3"
   ]
  },
  {
   "cell_type": "code",
   "execution_count": 16,
   "metadata": {},
   "outputs": [
    {
     "data": {
      "text/plain": [
       "{'alpha': 0.004178809327484712}"
      ]
     },
     "execution_count": 16,
     "metadata": {},
     "output_type": "execute_result"
    }
   ],
   "source": [
    "# Getting polynomical features\n",
    "poly_features = PolynomialFeatures(degree=3, include_bias=False)\n",
    "listings_train_poly = poly_features.fit_transform(listings_train_signals)\n",
    "\n",
    "# RandomSearch on polynomial features\n",
    "models.lasso_random_search(n_iter_=20,cv_=3, X_train=listings_train_poly, y_train=listings_train_labels)"
   ]
  },
  {
   "cell_type": "code",
   "execution_count": 17,
   "metadata": {},
   "outputs": [
    {
     "name": "stdout",
     "output_type": "stream",
     "text": [
      "Cross Valdiation RMSE Evaluation Mean Score: 2222.8896064592923\n"
     ]
    }
   ],
   "source": [
    "lasso_reg6_poly3 = models.build_lasso(0.004, listings_train_poly, listings_train_labels)\n",
    "\n",
    "# Save the trained model as a pickle string. \n",
    "model_path = os.path.join(MODELs_DIR , 'lasso_reg6_poly3.pkl')\n",
    "saved_model = joblib.dump(lasso_reg6_poly3,model_path) "
   ]
  },
  {
   "cell_type": "markdown",
   "metadata": {},
   "source": [
    "Does not make much of the difference"
   ]
  },
  {
   "cell_type": "markdown",
   "metadata": {},
   "source": [
    "### Decsion Tree"
   ]
  },
  {
   "cell_type": "markdown",
   "metadata": {},
   "source": [
    "Numerical Features"
   ]
  },
  {
   "cell_type": "code",
   "execution_count": 18,
   "metadata": {},
   "outputs": [
    {
     "name": "stdout",
     "output_type": "stream",
     "text": [
      "Cross Valdiation RMSE Evaluation Mean Score: 2629.322162108982\n"
     ]
    }
   ],
   "source": [
    "dtree1= models.build_decision_tree(max_depth_=40,max_features_=4,X_train=listings_train_signals_prep2,y_train=listings_train_labels)\n",
    "\n",
    "# Save the trained model as a pickle string. \n",
    "model_path = os.path.join(MODELs_DIR , 'dtree1.pkl')\n",
    "saved_model = joblib.dump(dtree1,model_path) "
   ]
  },
  {
   "cell_type": "code",
   "execution_count": 19,
   "metadata": {},
   "outputs": [
    {
     "name": "stdout",
     "output_type": "stream",
     "text": [
      "Cross Valdiation RMSE Evaluation Mean Score: 2273.6615477780215\n"
     ]
    }
   ],
   "source": [
    "dtree2= models.build_decision_tree(max_depth_=50,max_features_=15,X_train=listings_train_signals_prep2,y_train=listings_train_labels)\n",
    "\n",
    "# Save the trained model as a pickle string. \n",
    "model_path = os.path.join(MODELs_DIR , 'dtree2.pkl')\n",
    "saved_model = joblib.dump(dtree2,model_path) "
   ]
  },
  {
   "cell_type": "markdown",
   "metadata": {},
   "source": [
    "Ordinal Features"
   ]
  },
  {
   "cell_type": "code",
   "execution_count": 20,
   "metadata": {},
   "outputs": [
    {
     "name": "stdout",
     "output_type": "stream",
     "text": [
      "Cross Valdiation RMSE Evaluation Mean Score: 2510.071241067437\n"
     ]
    }
   ],
   "source": [
    "dtree3= models.build_decision_tree(max_depth_=40,max_features_=4,X_train=listings_train_signals_prep,y_train=listings_train_labels)\n",
    "\n",
    "# Save the trained model as a pickle string. \n",
    "model_path = os.path.join(MODELs_DIR , 'dtree3.pkl')\n",
    "saved_model = joblib.dump(dtree3,model_path) "
   ]
  },
  {
   "cell_type": "code",
   "execution_count": 21,
   "metadata": {},
   "outputs": [
    {
     "name": "stdout",
     "output_type": "stream",
     "text": [
      "Cross Valdiation RMSE Evaluation Mean Score: 2347.893429538848\n"
     ]
    }
   ],
   "source": [
    "dtree4= models.build_decision_tree(max_depth_=100,max_features_=11,X_train=listings_train_signals_prep,y_train=listings_train_labels)\n",
    "\n",
    "# Save the trained model as a pickle string. \n",
    "model_path = os.path.join(MODELs_DIR , 'dtree4.pkl')\n",
    "saved_model = joblib.dump(dtree4,model_path) "
   ]
  },
  {
   "cell_type": "markdown",
   "metadata": {},
   "source": [
    "No imporvemnts"
   ]
  },
  {
   "cell_type": "markdown",
   "metadata": {},
   "source": [
    "### SVM "
   ]
  },
  {
   "cell_type": "code",
   "execution_count": 36,
   "metadata": {},
   "outputs": [
    {
     "name": "stdout",
     "output_type": "stream",
     "text": [
      "Cross Valdiation RMSE Evaluation Mean Score: 3037.67458939483\n"
     ]
    }
   ],
   "source": [
    "svm_reg1 = models.build_svm(1.5,1,listings_train_signals_prep, listings_train_labels)"
   ]
  },
  {
   "cell_type": "code",
   "execution_count": 37,
   "metadata": {},
   "outputs": [
    {
     "data": {
      "text/plain": [
       "{'C': 31.114025723769867, 'epsilon': 1.4900168650682453}"
      ]
     },
     "execution_count": 37,
     "metadata": {},
     "output_type": "execute_result"
    }
   ],
   "source": [
    "# RandomSearch on polynomial features\n",
    "models.svm_random_search(n_iter_=20,cv_=3, X_train=listings_train_poly, y_train=listings_train_labels)"
   ]
  },
  {
   "cell_type": "code",
   "execution_count": 38,
   "metadata": {},
   "outputs": [
    {
     "name": "stdout",
     "output_type": "stream",
     "text": [
      "Cross Valdiation RMSE Evaluation Mean Score: 2609.3599152667384\n"
     ]
    }
   ],
   "source": [
    "svm_reg2 = models.build_svm(1.5,31,listings_train_signals_prep, listings_train_labels)"
   ]
  },
  {
   "cell_type": "markdown",
   "metadata": {},
   "source": [
    "### Ensemble Model"
   ]
  },
  {
   "cell_type": "code",
   "execution_count": 49,
   "metadata": {},
   "outputs": [
    {
     "name": "stdout",
     "output_type": "stream",
     "text": [
      "Cross Valdiation RMSE Evaluation Mean Score: 2189.0082415043003\n"
     ]
    }
   ],
   "source": [
    "voting_reg1 = models.build_ensemble(listings_train_signals_prep, listings_train_labels)\n",
    "\n",
    "# Save the trained model as a pickle string. \n",
    "model_path = os.path.join(MODELs_DIR , 'voting_reg1.pkl')\n",
    "saved_model = joblib.dump(voting_reg1,model_path) "
   ]
  },
  {
   "cell_type": "code",
   "execution_count": 50,
   "metadata": {},
   "outputs": [
    {
     "name": "stdout",
     "output_type": "stream",
     "text": [
      "Cross Valdiation RMSE Evaluation Mean Score: 2242.7222178624193\n"
     ]
    }
   ],
   "source": [
    "# Only Beds and zips\n",
    "voting_reg2 = models.build_ensemble(listings_train_signals_prep, listings_train_labels)\n",
    "\n",
    "# Save the trained model as a pickle string. \n",
    "model_path = os.path.join(MODELs_DIR , 'voting_reg2.pkl')\n",
    "saved_model = joblib.dump(voting_reg2,model_path)"
   ]
  },
  {
   "cell_type": "markdown",
   "metadata": {},
   "source": [
    "### Adaptive Boosting"
   ]
  },
  {
   "cell_type": "code",
   "execution_count": 51,
   "metadata": {},
   "outputs": [
    {
     "name": "stdout",
     "output_type": "stream",
     "text": [
      "Cross Valdiation RMSE Evaluation Mean Score: 2482.181469644943\n"
     ]
    }
   ],
   "source": [
    "# Adpative Boosting on Voting Regressor \n",
    "ada_reg1_votng = AdaBoostRegressor(voting_reg,n_estimators=200, learning_rate=0.5)\n",
    "\n",
    "ada_reg1_votng.fit(listings_train_signals_prep, listings_train_labels)\n",
    "\n",
    "models.calculate_rmse(listings_train_signals_prep, listings_train_labels,ada_reg1_votng)\n",
    "\n",
    "# Save the trained model as a pickle string. \n",
    "model_path = os.path.join(MODELs_DIR , 'ada_reg1_votng.pkl')\n",
    "saved_model = joblib.dump(ada_reg1_votng,model_path) "
   ]
  },
  {
   "cell_type": "code",
   "execution_count": 53,
   "metadata": {},
   "outputs": [
    {
     "name": "stdout",
     "output_type": "stream",
     "text": [
      "Cross Valdiation RMSE Evaluation Mean Score: 3658.9700982991903\n"
     ]
    }
   ],
   "source": [
    "# Adpative Boosting on lasso \n",
    "ada_reg2_lasso = AdaBoostRegressor(lasso_reg,n_estimators=200, learning_rate=0.5)\n",
    "\n",
    "ada_reg2_lasso.fit(listings_train_signals_prep, listings_train_labels)\n",
    "\n",
    "models.calculate_rmse(listings_train_signals_prep, listings_train_labels,ada_reg2_lasso)\n",
    "\n",
    "# Save the trained model as a pickle string. \n",
    "model_path = os.path.join(MODELs_DIR , 'ada_reg2_lasso.pkl')\n",
    "saved_model = joblib.dump(ada_reg2_lasso,model_path) "
   ]
  },
  {
   "cell_type": "markdown",
   "metadata": {},
   "source": [
    "### Dimentionality Reduction - Principal Component Analysis\n",
    "\n",
    "To Check if we can reduce dimension. We have 133 dimension after converting categorical features to encoders"
   ]
  },
  {
   "cell_type": "code",
   "execution_count": 54,
   "metadata": {},
   "outputs": [
    {
     "data": {
      "text/plain": [
       "(4612, 73)"
      ]
     },
     "execution_count": 54,
     "metadata": {},
     "output_type": "execute_result"
    }
   ],
   "source": [
    "# PCA with 99% variance captured\n",
    "pca  = PCA(n_components=0.99)\n",
    "listings_train_reduced = pca.fit_transform(listings_train_signals_prep)\n",
    "listings_train_reduced.shape"
   ]
  },
  {
   "cell_type": "code",
   "execution_count": 57,
   "metadata": {},
   "outputs": [
    {
     "name": "stdout",
     "output_type": "stream",
     "text": [
      "Cross Valdiation RMSE Evaluation Mean Score: 2236.5311726809214\n",
      "Cross Valdiation RMSE Evaluation Mean Score: 2266.0899817060317\n"
     ]
    }
   ],
   "source": [
    "# Fitting votting Regression \n",
    "voting_reg1_reduced =models.build_ensemble(listings_train_reduced, listings_train_labels)\n",
    "\n",
    "# Save the trained model as a pickle string. \n",
    "model_path = os.path.join(MODELs_DIR , 'voting_reg1_reduced.pkl')\n",
    "saved_model = joblib.dump(voting_reg1_reduced,model_path) "
   ]
  },
  {
   "cell_type": "code",
   "execution_count": 59,
   "metadata": {},
   "outputs": [
    {
     "name": "stdout",
     "output_type": "stream",
     "text": [
      "Cross Valdiation RMSE Evaluation Mean Score: 2230.177631941019\n"
     ]
    }
   ],
   "source": [
    "# Fitting on adaptive boost model with votting regression\n",
    "ada_reg1_votng_reduced =models.build_ensemble(listings_train_reduced, listings_train_labels)\n",
    "\n",
    "# Save the trained model as a pickle string. \n",
    "model_path = os.path.join(MODELs_DIR , 'ada_reg1_votng_reduced.pkl')\n",
    "saved_model = joblib.dump(ada_reg1_votng_reduced,model_path) "
   ]
  },
  {
   "cell_type": "markdown",
   "metadata": {},
   "source": [
    "#### Building Model without zip"
   ]
  },
  {
   "cell_type": "code",
   "execution_count": 60,
   "metadata": {},
   "outputs": [],
   "source": [
    "listings_train_signals_prep3 = listings_train_signals[['beds', 'baths', 'flexs']]"
   ]
  },
  {
   "cell_type": "code",
   "execution_count": 63,
   "metadata": {},
   "outputs": [
    {
     "name": "stdout",
     "output_type": "stream",
     "text": [
      "Cross Valdiation RMSE Evaluation Mean Score: 2444.948078470481\n"
     ]
    }
   ],
   "source": [
    "## Fitting votting Regression ##\n",
    "# Lasso Regression\n",
    "lasso_reg = Lasso(alpha=0.35) # alpha from RandomSearch\n",
    "#  Random Foresst\n",
    "rnd_reg = RandomForestRegressor(n_estimators=100)\n",
    "# Decision Tree\n",
    "# SVM\n",
    "svm_reg = LinearSVR(1.5,31)\n",
    "tree_reg = DecisionTreeRegressor(max_depth=40,max_features=2)\n",
    "# Voting Regressor \n",
    "voting_reg2 = VotingRegressor(\n",
    "    estimators=[('lr', lasso_reg), ('rf', rnd_reg), ('tree', tree_reg),('svm', svm_reg)])\n",
    "\n",
    "voting_reg2.fit(listings_train_signals_prep3, listings_train_labels)\n",
    "models.calculate_rmse(listings_train_signals_prep3, listings_train_labels,voting_reg2)\n",
    "\n",
    "# Save the trained model as a pickle string. \n",
    "model_path = os.path.join(MODELs_DIR , 'voting_reg2.pkl')\n",
    "saved_model = joblib.dump(voting_reg2,model_path) "
   ]
  },
  {
   "cell_type": "code",
   "execution_count": 64,
   "metadata": {},
   "outputs": [
    {
     "name": "stdout",
     "output_type": "stream",
     "text": [
      "Cross Valdiation RMSE Evaluation Mean Score: 2527.7066590973745\n"
     ]
    }
   ],
   "source": [
    "# Adpative Boosting on Voting Regressor \n",
    "ada_reg3 = AdaBoostRegressor(voting_reg2,n_estimators=200, learning_rate=0.5)\n",
    "\n",
    "ada_reg3.fit(listings_train_signals_prep3, listings_train_labels)\n",
    "\n",
    "models.calculate_rmse(listings_train_signals_prep3, listings_train_labels,ada_reg3)\n",
    "\n",
    "# Save the trained model as a pickle string. \n",
    "model_path = os.path.join(MODELs_DIR , 'ada_reg3.pkl')\n",
    "saved_model = joblib.dump(ada_reg3,model_path) "
   ]
  },
  {
   "cell_type": "markdown",
   "metadata": {},
   "source": [
    "### Testing\n",
    "\n",
    "\n"
   ]
  },
  {
   "cell_type": "markdown",
   "metadata": {},
   "source": [
    "Final Model: Ensemble Model of Lasso, DecisionTree, and Random forsest perfroms better. "
   ]
  },
  {
   "cell_type": "code",
   "execution_count": 90,
   "metadata": {},
   "outputs": [],
   "source": [
    "model_path = os.path.join(MODELs_DIR , 'voting_reg1.pkl')\n",
    "final_model = joblib.load(model_path) "
   ]
  },
  {
   "cell_type": "code",
   "execution_count": 95,
   "metadata": {},
   "outputs": [
    {
     "name": "stdout",
     "output_type": "stream",
     "text": [
      "Cross Valdiation RMSE Evaluation Mean Score: 2288.2917932032888\n"
     ]
    }
   ],
   "source": [
    "models.calculate_rmse( listings_test_signals_prep, listings_test_labels,final_model)"
   ]
  },
  {
   "cell_type": "code",
   "execution_count": null,
   "metadata": {},
   "outputs": [],
   "source": []
  },
  {
   "cell_type": "code",
   "execution_count": null,
   "metadata": {},
   "outputs": [],
   "source": []
  }
 ],
 "metadata": {
  "kernelspec": {
   "display_name": "Python 3",
   "language": "python",
   "name": "python3"
  },
  "language_info": {
   "codemirror_mode": {
    "name": "ipython",
    "version": 3
   },
   "file_extension": ".py",
   "mimetype": "text/x-python",
   "name": "python",
   "nbconvert_exporter": "python",
   "pygments_lexer": "ipython3",
   "version": "3.8.2"
  }
 },
 "nbformat": 4,
 "nbformat_minor": 4
}

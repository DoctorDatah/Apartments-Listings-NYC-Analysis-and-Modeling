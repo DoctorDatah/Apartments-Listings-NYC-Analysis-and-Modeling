{
 "cells": [
  {
   "cell_type": "markdown",
   "metadata": {},
   "source": [
    "# Initial Data Preparation"
   ]
  },
  {
   "cell_type": "code",
   "execution_count": 1,
   "metadata": {},
   "outputs": [],
   "source": [
    "import os\n",
    "import sys\n",
    "import googlemaps\n",
    "import numpy as np \n",
    "import pandas as pd \n",
    "import seaborn as sns \n",
    "import matplotlib.pyplot as plt \n",
    "\n",
    "%load_ext autoreload\n",
    "%autoreload 2\n",
    "%matplotlib inline \n",
    "\n",
    "# Setting up directories\n",
    "ROOT_DIR = os.path.join(os.getcwd(), '..')\n",
    "SRC_DIR = os.path.join(os.getcwd(), '..', 'src')\n",
    "DATA_DIR = os.path.join(ROOT_DIR, \"data\")\n",
    "\n",
    "sys.path.append(ROOT_DIR)\n",
    "sys.path.append(SRC_DIR)\n",
    "os.chdir(ROOT_DIR)\n",
    "\n",
    "# Custom Modules\n",
    "from d00_utils import read_write\n",
    "from d02_intermediate import zip_code\n",
    "from d02_intermediate import intial_preprocessing\n",
    "\n",
    "RAW_DATA_DIR = os.path.join(DATA_DIR,\"01_raw\")\n",
    "LISTINGS_DATA_PATH = os.path.join(RAW_DATA_DIR, 'listings_3.csv')"
   ]
  },
  {
   "cell_type": "markdown",
   "metadata": {},
   "source": [
    "### Exploring Data"
   ]
  },
  {
   "cell_type": "code",
   "execution_count": 2,
   "metadata": {},
   "outputs": [
    {
     "data": {
      "text/html": [
       "<div>\n",
       "<style scoped>\n",
       "    .dataframe tbody tr th:only-of-type {\n",
       "        vertical-align: middle;\n",
       "    }\n",
       "\n",
       "    .dataframe tbody tr th {\n",
       "        vertical-align: top;\n",
       "    }\n",
       "\n",
       "    .dataframe thead th {\n",
       "        text-align: right;\n",
       "    }\n",
       "</style>\n",
       "<table border=\"1\" class=\"dataframe\">\n",
       "  <thead>\n",
       "    <tr style=\"text-align: right;\">\n",
       "      <th></th>\n",
       "      <th>url</th>\n",
       "      <th>address</th>\n",
       "      <th>neighborhood</th>\n",
       "      <th>rent</th>\n",
       "      <th>beds</th>\n",
       "      <th>baths</th>\n",
       "      <th>flexs</th>\n",
       "    </tr>\n",
       "  </thead>\n",
       "  <tbody>\n",
       "    <tr>\n",
       "      <th>0</th>\n",
       "      <td>https://www.renthop.com/listings/21-west-end-a...</td>\n",
       "      <td>21 West End Avenue, Apt 1213</td>\n",
       "      <td>Lincoln Square, Upper West Side, Upper Manhatt...</td>\n",
       "      <td>$2,973</td>\n",
       "      <td>Studio</td>\n",
       "      <td>1_Bath</td>\n",
       "      <td>NaN</td>\n",
       "    </tr>\n",
       "    <tr>\n",
       "      <th>1</th>\n",
       "      <td>https://www.renthop.com/listings/70-west-37th-...</td>\n",
       "      <td>70 West 37th Street, Apt 1012</td>\n",
       "      <td>Murray Hill, Midtown Manhattan, Manhattan</td>\n",
       "      <td>$3,646</td>\n",
       "      <td>Studio</td>\n",
       "      <td>1_Bath</td>\n",
       "      <td>NaN</td>\n",
       "    </tr>\n",
       "    <tr>\n",
       "      <th>2</th>\n",
       "      <td>https://www.renthop.com/listings/205-knickerbo...</td>\n",
       "      <td>205 Knickerbocker Avenue, Apt ...</td>\n",
       "      <td>Bushwick, Northern Brooklyn, Brooklyn</td>\n",
       "      <td>$2,850</td>\n",
       "      <td>1_Bed</td>\n",
       "      <td>1_Bath</td>\n",
       "      <td>NaN</td>\n",
       "    </tr>\n",
       "  </tbody>\n",
       "</table>\n",
       "</div>"
      ],
      "text/plain": [
       "                                                 url  \\\n",
       "0  https://www.renthop.com/listings/21-west-end-a...   \n",
       "1  https://www.renthop.com/listings/70-west-37th-...   \n",
       "2  https://www.renthop.com/listings/205-knickerbo...   \n",
       "\n",
       "                             address  \\\n",
       "0       21 West End Avenue, Apt 1213   \n",
       "1      70 West 37th Street, Apt 1012   \n",
       "2  205 Knickerbocker Avenue, Apt ...   \n",
       "\n",
       "                                        neighborhood    rent    beds   baths  \\\n",
       "0  Lincoln Square, Upper West Side, Upper Manhatt...  $2,973  Studio  1_Bath   \n",
       "1          Murray Hill, Midtown Manhattan, Manhattan  $3,646  Studio  1_Bath   \n",
       "2              Bushwick, Northern Brooklyn, Brooklyn  $2,850   1_Bed  1_Bath   \n",
       "\n",
       "  flexs  \n",
       "0   NaN  \n",
       "1   NaN  \n",
       "2   NaN  "
      ]
     },
     "execution_count": 2,
     "metadata": {},
     "output_type": "execute_result"
    }
   ],
   "source": [
    "listings = pd.read_csv(LISTINGS_DATA_PATH)\n",
    "listings.head(3)"
   ]
  },
  {
   "cell_type": "code",
   "execution_count": 3,
   "metadata": {},
   "outputs": [
    {
     "name": "stdout",
     "output_type": "stream",
     "text": [
      "<class 'pandas.core.frame.DataFrame'>\n",
      "RangeIndex: 200 entries, 0 to 199\n",
      "Data columns (total 7 columns):\n",
      " #   Column        Non-Null Count  Dtype \n",
      "---  ------        --------------  ----- \n",
      " 0   url           200 non-null    object\n",
      " 1   address       200 non-null    object\n",
      " 2   neighborhood  200 non-null    object\n",
      " 3   rent          200 non-null    object\n",
      " 4   beds          200 non-null    object\n",
      " 5   baths         200 non-null    object\n",
      " 6   flexs         23 non-null     object\n",
      "dtypes: object(7)\n",
      "memory usage: 11.1+ KB\n"
     ]
    }
   ],
   "source": [
    "listings.info()"
   ]
  },
  {
   "cell_type": "code",
   "execution_count": 4,
   "metadata": {},
   "outputs": [
    {
     "data": {
      "text/html": [
       "<div>\n",
       "<style scoped>\n",
       "    .dataframe tbody tr th:only-of-type {\n",
       "        vertical-align: middle;\n",
       "    }\n",
       "\n",
       "    .dataframe tbody tr th {\n",
       "        vertical-align: top;\n",
       "    }\n",
       "\n",
       "    .dataframe thead th {\n",
       "        text-align: right;\n",
       "    }\n",
       "</style>\n",
       "<table border=\"1\" class=\"dataframe\">\n",
       "  <thead>\n",
       "    <tr style=\"text-align: right;\">\n",
       "      <th></th>\n",
       "      <th>url</th>\n",
       "      <th>address</th>\n",
       "      <th>neighborhood</th>\n",
       "      <th>rent</th>\n",
       "      <th>beds</th>\n",
       "      <th>baths</th>\n",
       "      <th>flexs</th>\n",
       "    </tr>\n",
       "  </thead>\n",
       "  <tbody>\n",
       "    <tr>\n",
       "      <th>count</th>\n",
       "      <td>200</td>\n",
       "      <td>200</td>\n",
       "      <td>200</td>\n",
       "      <td>200</td>\n",
       "      <td>200</td>\n",
       "      <td>200</td>\n",
       "      <td>23</td>\n",
       "    </tr>\n",
       "    <tr>\n",
       "      <th>unique</th>\n",
       "      <td>179</td>\n",
       "      <td>163</td>\n",
       "      <td>56</td>\n",
       "      <td>128</td>\n",
       "      <td>6</td>\n",
       "      <td>5</td>\n",
       "      <td>4</td>\n",
       "    </tr>\n",
       "    <tr>\n",
       "      <th>top</th>\n",
       "      <td>https://www.renthop.com/listings/420-lexington...</td>\n",
       "      <td>West 37th Street</td>\n",
       "      <td>Financial District, Downtown Manhattan, Manhattan</td>\n",
       "      <td>$3,500</td>\n",
       "      <td>1_Bed</td>\n",
       "      <td>1_Bath</td>\n",
       "      <td>/_Flex_3_</td>\n",
       "    </tr>\n",
       "    <tr>\n",
       "      <th>freq</th>\n",
       "      <td>2</td>\n",
       "      <td>3</td>\n",
       "      <td>24</td>\n",
       "      <td>6</td>\n",
       "      <td>74</td>\n",
       "      <td>159</td>\n",
       "      <td>12</td>\n",
       "    </tr>\n",
       "  </tbody>\n",
       "</table>\n",
       "</div>"
      ],
      "text/plain": [
       "                                                      url           address  \\\n",
       "count                                                 200               200   \n",
       "unique                                                179               163   \n",
       "top     https://www.renthop.com/listings/420-lexington...  West 37th Street   \n",
       "freq                                                    2                 3   \n",
       "\n",
       "                                             neighborhood    rent   beds  \\\n",
       "count                                                 200     200    200   \n",
       "unique                                                 56     128      6   \n",
       "top     Financial District, Downtown Manhattan, Manhattan  $3,500  1_Bed   \n",
       "freq                                                   24       6     74   \n",
       "\n",
       "         baths      flexs  \n",
       "count      200         23  \n",
       "unique       5          4  \n",
       "top     1_Bath  /_Flex_3_  \n",
       "freq       159         12  "
      ]
     },
     "execution_count": 4,
     "metadata": {},
     "output_type": "execute_result"
    }
   ],
   "source": [
    "listings.describe()"
   ]
  },
  {
   "cell_type": "markdown",
   "metadata": {},
   "source": [
    "### Formating Features"
   ]
  },
  {
   "cell_type": "code",
   "execution_count": 5,
   "metadata": {},
   "outputs": [],
   "source": [
    "# Fix beds feature\n",
    "listings = intial_preprocessing.fix_beds_feature(listings)\n",
    "# Fixing baths feature\n",
    "listings = intial_preprocessing.fix_baths_feature(listings)\n",
    "# Fixing flexes feature\n",
    "listings = intial_preprocessing.fix_flex_feature(listings)\n",
    "# Fixing rent feature\n",
    "listings=intial_preprocessing.fix_rent_feature(listings)"
   ]
  },
  {
   "cell_type": "markdown",
   "metadata": {},
   "source": [
    "### Getting Zip codes from Google Maps"
   ]
  },
  {
   "cell_type": "code",
   "execution_count": 6,
   "metadata": {},
   "outputs": [
    {
     "name": "stdout",
     "output_type": "stream",
     "text": [
      "....................................................... 100%\n"
     ]
    }
   ],
   "source": [
    "listings['zip'] = listings.apply(zip_code.get_zips, axis=1) "
   ]
  },
  {
   "cell_type": "markdown",
   "metadata": {},
   "source": [
    "### Expoloring Changes"
   ]
  },
  {
   "cell_type": "code",
   "execution_count": 7,
   "metadata": {},
   "outputs": [
    {
     "data": {
      "text/html": [
       "<div>\n",
       "<style scoped>\n",
       "    .dataframe tbody tr th:only-of-type {\n",
       "        vertical-align: middle;\n",
       "    }\n",
       "\n",
       "    .dataframe tbody tr th {\n",
       "        vertical-align: top;\n",
       "    }\n",
       "\n",
       "    .dataframe thead th {\n",
       "        text-align: right;\n",
       "    }\n",
       "</style>\n",
       "<table border=\"1\" class=\"dataframe\">\n",
       "  <thead>\n",
       "    <tr style=\"text-align: right;\">\n",
       "      <th></th>\n",
       "      <th>url</th>\n",
       "      <th>address</th>\n",
       "      <th>neighborhood</th>\n",
       "      <th>rent</th>\n",
       "      <th>beds</th>\n",
       "      <th>baths</th>\n",
       "      <th>flexs</th>\n",
       "      <th>zip</th>\n",
       "    </tr>\n",
       "  </thead>\n",
       "  <tbody>\n",
       "    <tr>\n",
       "      <th>0</th>\n",
       "      <td>https://www.renthop.com/listings/21-west-end-a...</td>\n",
       "      <td>21 West End Avenue, Apt 1213</td>\n",
       "      <td>Lincoln Square, Upper West Side, Upper Manhatt...</td>\n",
       "      <td>$2,973</td>\n",
       "      <td>0</td>\n",
       "      <td>1</td>\n",
       "      <td>0</td>\n",
       "      <td>NaN</td>\n",
       "    </tr>\n",
       "    <tr>\n",
       "      <th>1</th>\n",
       "      <td>https://www.renthop.com/listings/70-west-37th-...</td>\n",
       "      <td>70 West 37th Street, Apt 1012</td>\n",
       "      <td>Murray Hill, Midtown Manhattan, Manhattan</td>\n",
       "      <td>$3,646</td>\n",
       "      <td>0</td>\n",
       "      <td>1</td>\n",
       "      <td>0</td>\n",
       "      <td>NaN</td>\n",
       "    </tr>\n",
       "    <tr>\n",
       "      <th>2</th>\n",
       "      <td>https://www.renthop.com/listings/205-knickerbo...</td>\n",
       "      <td>205 Knickerbocker Avenue, Apt ...</td>\n",
       "      <td>Bushwick, Northern Brooklyn, Brooklyn</td>\n",
       "      <td>$2,850</td>\n",
       "      <td>1</td>\n",
       "      <td>1</td>\n",
       "      <td>0</td>\n",
       "      <td>NaN</td>\n",
       "    </tr>\n",
       "  </tbody>\n",
       "</table>\n",
       "</div>"
      ],
      "text/plain": [
       "                                                 url  \\\n",
       "0  https://www.renthop.com/listings/21-west-end-a...   \n",
       "1  https://www.renthop.com/listings/70-west-37th-...   \n",
       "2  https://www.renthop.com/listings/205-knickerbo...   \n",
       "\n",
       "                             address  \\\n",
       "0       21 West End Avenue, Apt 1213   \n",
       "1      70 West 37th Street, Apt 1012   \n",
       "2  205 Knickerbocker Avenue, Apt ...   \n",
       "\n",
       "                                        neighborhood    rent  beds  baths  \\\n",
       "0  Lincoln Square, Upper West Side, Upper Manhatt...  $2,973     0      1   \n",
       "1          Murray Hill, Midtown Manhattan, Manhattan  $3,646     0      1   \n",
       "2              Bushwick, Northern Brooklyn, Brooklyn  $2,850     1      1   \n",
       "\n",
       "   flexs  zip  \n",
       "0      0  NaN  \n",
       "1      0  NaN  \n",
       "2      0  NaN  "
      ]
     },
     "execution_count": 7,
     "metadata": {},
     "output_type": "execute_result"
    }
   ],
   "source": [
    "listings.head(3)"
   ]
  },
  {
   "cell_type": "code",
   "execution_count": 8,
   "metadata": {},
   "outputs": [
    {
     "name": "stdout",
     "output_type": "stream",
     "text": [
      "<class 'pandas.core.frame.DataFrame'>\n",
      "RangeIndex: 200 entries, 0 to 199\n",
      "Data columns (total 8 columns):\n",
      " #   Column        Non-Null Count  Dtype  \n",
      "---  ------        --------------  -----  \n",
      " 0   url           200 non-null    object \n",
      " 1   address       200 non-null    object \n",
      " 2   neighborhood  200 non-null    object \n",
      " 3   rent          200 non-null    object \n",
      " 4   beds          200 non-null    int64  \n",
      " 5   baths         200 non-null    int64  \n",
      " 6   flexs         200 non-null    int64  \n",
      " 7   zip           0 non-null      float64\n",
      "dtypes: float64(1), int64(3), object(4)\n",
      "memory usage: 12.6+ KB\n"
     ]
    }
   ],
   "source": [
    "listings.info()"
   ]
  },
  {
   "cell_type": "code",
   "execution_count": 11,
   "metadata": {},
   "outputs": [
    {
     "data": {
      "text/html": [
       "<div>\n",
       "<style scoped>\n",
       "    .dataframe tbody tr th:only-of-type {\n",
       "        vertical-align: middle;\n",
       "    }\n",
       "\n",
       "    .dataframe tbody tr th {\n",
       "        vertical-align: top;\n",
       "    }\n",
       "\n",
       "    .dataframe thead th {\n",
       "        text-align: right;\n",
       "    }\n",
       "</style>\n",
       "<table border=\"1\" class=\"dataframe\">\n",
       "  <thead>\n",
       "    <tr style=\"text-align: right;\">\n",
       "      <th></th>\n",
       "      <th>beds</th>\n",
       "      <th>baths</th>\n",
       "      <th>flexs</th>\n",
       "      <th>zip</th>\n",
       "    </tr>\n",
       "  </thead>\n",
       "  <tbody>\n",
       "    <tr>\n",
       "      <th>count</th>\n",
       "      <td>200.000000</td>\n",
       "      <td>200.000000</td>\n",
       "      <td>200.000000</td>\n",
       "      <td>0.0</td>\n",
       "    </tr>\n",
       "    <tr>\n",
       "      <th>mean</th>\n",
       "      <td>1.455000</td>\n",
       "      <td>1.225000</td>\n",
       "      <td>0.320000</td>\n",
       "      <td>NaN</td>\n",
       "    </tr>\n",
       "    <tr>\n",
       "      <th>std</th>\n",
       "      <td>1.026275</td>\n",
       "      <td>0.495584</td>\n",
       "      <td>0.933788</td>\n",
       "      <td>NaN</td>\n",
       "    </tr>\n",
       "    <tr>\n",
       "      <th>min</th>\n",
       "      <td>0.000000</td>\n",
       "      <td>1.000000</td>\n",
       "      <td>0.000000</td>\n",
       "      <td>NaN</td>\n",
       "    </tr>\n",
       "    <tr>\n",
       "      <th>25%</th>\n",
       "      <td>1.000000</td>\n",
       "      <td>1.000000</td>\n",
       "      <td>0.000000</td>\n",
       "      <td>NaN</td>\n",
       "    </tr>\n",
       "    <tr>\n",
       "      <th>50%</th>\n",
       "      <td>1.000000</td>\n",
       "      <td>1.000000</td>\n",
       "      <td>0.000000</td>\n",
       "      <td>NaN</td>\n",
       "    </tr>\n",
       "    <tr>\n",
       "      <th>75%</th>\n",
       "      <td>2.000000</td>\n",
       "      <td>1.000000</td>\n",
       "      <td>0.000000</td>\n",
       "      <td>NaN</td>\n",
       "    </tr>\n",
       "    <tr>\n",
       "      <th>max</th>\n",
       "      <td>5.000000</td>\n",
       "      <td>4.000000</td>\n",
       "      <td>4.000000</td>\n",
       "      <td>NaN</td>\n",
       "    </tr>\n",
       "  </tbody>\n",
       "</table>\n",
       "</div>"
      ],
      "text/plain": [
       "             beds       baths       flexs  zip\n",
       "count  200.000000  200.000000  200.000000  0.0\n",
       "mean     1.455000    1.225000    0.320000  NaN\n",
       "std      1.026275    0.495584    0.933788  NaN\n",
       "min      0.000000    1.000000    0.000000  NaN\n",
       "25%      1.000000    1.000000    0.000000  NaN\n",
       "50%      1.000000    1.000000    0.000000  NaN\n",
       "75%      2.000000    1.000000    0.000000  NaN\n",
       "max      5.000000    4.000000    4.000000  NaN"
      ]
     },
     "execution_count": 11,
     "metadata": {},
     "output_type": "execute_result"
    }
   ],
   "source": [
    "listings.describe()"
   ]
  },
  {
   "cell_type": "markdown",
   "metadata": {},
   "source": [
    "### Saving data"
   ]
  },
  {
   "cell_type": "code",
   "execution_count": 10,
   "metadata": {},
   "outputs": [
    {
     "name": "stdout",
     "output_type": "stream",
     "text": [
      "Dir already exist.\n",
      "File saved.\n",
      "File saved.\n"
     ]
    }
   ],
   "source": [
    "SUB_DIR = '02_intermediate'\n",
    "read_write.create_data_sub_dir(SUB_DIR)\n",
    "read_write.save_data_file(SUB_DIR,'listings_interm_with_null_zips_3.csv',listings)\n",
    "read_write.save_data_file(SUB_DIR,'listings_interm_with_zips_3.csv',listings[listings['zip'].notnull()])"
   ]
  }
 ],
 "metadata": {
  "kernelspec": {
   "display_name": "Python 3",
   "language": "python",
   "name": "python3"
  },
  "language_info": {
   "codemirror_mode": {
    "name": "ipython",
    "version": 3
   },
   "file_extension": ".py",
   "mimetype": "text/x-python",
   "name": "python",
   "nbconvert_exporter": "python",
   "pygments_lexer": "ipython3",
   "version": "3.8.2"
  }
 },
 "nbformat": 4,
 "nbformat_minor": 4
}

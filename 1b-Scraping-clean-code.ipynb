{
 "cells": [
  {
   "cell_type": "markdown",
   "metadata": {},
   "source": [
    "# Scraping Data \n",
    "#### renthop.com\n",
    "https://www.renthop.com/nyc/apartments-for-rent\n",
    "\n",
    "\n",
    "Scraped more pages and cleaned up the code for just scrapping"
   ]
  },
  {
   "cell_type": "code",
   "execution_count": 15,
   "metadata": {},
   "outputs": [],
   "source": [
    "import numpy as np \n",
    "import pandas as pd \n",
    "import requests \n",
    "import matplotlib.pyplot as plt \n",
    "from IPython.display import clear_output\n",
    "import html5lib\n",
    "from bs4 import BeautifulSoup \n",
    "\n",
    "\n",
    "%matplotlib inline "
   ]
  },
  {
   "cell_type": "markdown",
   "metadata": {},
   "source": [
    "https://www.renthop.com/search/nyc?max_price=50000&min_price=0&page=2&sort=hopscore&q=&search=0"
   ]
  },
  {
   "cell_type": "code",
   "execution_count": 16,
   "metadata": {},
   "outputs": [],
   "source": [
    "def parse_data(listing_divs): \n",
    "    listing_list = [] \n",
    "    for idx in range(len(listing_divs)): \n",
    "        indv_listing = [] \n",
    "        current_listing = listing_divs[idx] \n",
    "        href = current_listing.select('a[id*=title]')[0]['href'] \n",
    "        addy = current_listing.select('a[id*=title]')[0].string \n",
    "        hood = current_listing.select('div[id*=hood]')[0].string.replace('\\n','') \n",
    " \n",
    "        indv_listing.append(href) \n",
    "        indv_listing.append(addy) \n",
    "        indv_listing.append(hood) \n",
    " \n",
    "        listing_specs = current_listing.select('table[id*=info] tr') \n",
    "        for spec in listing_specs: \n",
    "            try: \n",
    "                values = spec.text.strip().replace(' ', '_').split() \n",
    "                clean_values = [x for x in values if x != '_'] # Not getting  '_' these values \n",
    "                indv_listing.extend(clean_values) \n",
    "            except: \n",
    "                indv_listing.extend(np.Unknownn) \n",
    "        listing_list.append(indv_listing) \n",
    "    return listing_list "
   ]
  },
  {
   "cell_type": "code",
   "execution_count": 17,
   "metadata": {},
   "outputs": [],
   "source": [
    "def scrap_pages(number_pages = 100):\n",
    "    url_prefix = \"https://www.renthop.com/search/nyc?max_price=50000&min_price=0&page=\" \n",
    "    page_no = 1 \n",
    "    url_suffix = \"&sort=hopscore&q=&search=0\" \n",
    "    all_pages_parsed = []\n",
    "\n",
    "    for i in range(number_pages):\n",
    "    \n",
    "        target_page = url_prefix + str(page_no) + url_suffix\n",
    "\n",
    "        # Cleart the ouput and then print new one\n",
    "        print(target_page)\n",
    "        clear_output(wait=True)\n",
    "\n",
    "        r = requests.get(target_page)\n",
    "\n",
    "        soup = BeautifulSoup(r.content, 'html5lib')\n",
    "\n",
    "        listing_divs = soup.select('div[class*=search-info]')\n",
    "\n",
    "        one_page_parsed = parse_data(listing_divs)\n",
    "\n",
    "        all_pages_parsed.extend(one_page_parsed)\n",
    "\n",
    "        page_no += 1\n",
    "        \n",
    "    print(\"Completed\")\n",
    "    return all_pages_parsed\n",
    "        "
   ]
  },
  {
   "cell_type": "code",
   "execution_count": 18,
   "metadata": {},
   "outputs": [
    {
     "name": "stdout",
     "output_type": "stream",
     "text": [
      "Completed\n"
     ]
    }
   ],
   "source": [
    "all_pages_parsed = scrap_pages(1000)"
   ]
  },
  {
   "cell_type": "code",
   "execution_count": 29,
   "metadata": {},
   "outputs": [
    {
     "data": {
      "text/html": [
       "<div>\n",
       "<style scoped>\n",
       "    .dataframe tbody tr th:only-of-type {\n",
       "        vertical-align: middle;\n",
       "    }\n",
       "\n",
       "    .dataframe tbody tr th {\n",
       "        vertical-align: top;\n",
       "    }\n",
       "\n",
       "    .dataframe thead th {\n",
       "        text-align: right;\n",
       "    }\n",
       "</style>\n",
       "<table border=\"1\" class=\"dataframe\">\n",
       "  <thead>\n",
       "    <tr style=\"text-align: right;\">\n",
       "      <th></th>\n",
       "      <th>url</th>\n",
       "      <th>address</th>\n",
       "      <th>neighborhood</th>\n",
       "      <th>rent</th>\n",
       "      <th>beds</th>\n",
       "      <th>baths</th>\n",
       "      <th>Unknown</th>\n",
       "    </tr>\n",
       "  </thead>\n",
       "  <tbody>\n",
       "    <tr>\n",
       "      <th>0</th>\n",
       "      <td>https://www.renthop.com/listings/626-1st-avenu...</td>\n",
       "      <td>626 1st Avenue, Apt W17M</td>\n",
       "      <td>Murray Hill, Midtown Manhattan, Manhattan</td>\n",
       "      <td>$3,408</td>\n",
       "      <td>Studio</td>\n",
       "      <td>1_Bath</td>\n",
       "      <td>None</td>\n",
       "    </tr>\n",
       "    <tr>\n",
       "      <th>1</th>\n",
       "      <td>https://www.renthop.com/listings/east-20s/b208...</td>\n",
       "      <td>East 20's</td>\n",
       "      <td>Kips Bay, Midtown Manhattan, Manhattan</td>\n",
       "      <td>$3,500</td>\n",
       "      <td>1_Bed</td>\n",
       "      <td>/_Flex_2_</td>\n",
       "      <td>1_Bath</td>\n",
       "    </tr>\n",
       "    <tr>\n",
       "      <th>2</th>\n",
       "      <td>https://www.renthop.com/listings/20-exchange-p...</td>\n",
       "      <td>20 Exchange Place, Apt 2601</td>\n",
       "      <td>Financial District, Downtown Manhattan, Manhattan</td>\n",
       "      <td>$3,673</td>\n",
       "      <td>1_Bed</td>\n",
       "      <td>1_Bath</td>\n",
       "      <td>None</td>\n",
       "    </tr>\n",
       "  </tbody>\n",
       "</table>\n",
       "</div>"
      ],
      "text/plain": [
       "                                                 url  \\\n",
       "0  https://www.renthop.com/listings/626-1st-avenu...   \n",
       "1  https://www.renthop.com/listings/east-20s/b208...   \n",
       "2  https://www.renthop.com/listings/20-exchange-p...   \n",
       "\n",
       "                       address  \\\n",
       "0     626 1st Avenue, Apt W17M   \n",
       "1                    East 20's   \n",
       "2  20 Exchange Place, Apt 2601   \n",
       "\n",
       "                                        neighborhood    rent    beds  \\\n",
       "0          Murray Hill, Midtown Manhattan, Manhattan  $3,408  Studio   \n",
       "1             Kips Bay, Midtown Manhattan, Manhattan  $3,500   1_Bed   \n",
       "2  Financial District, Downtown Manhattan, Manhattan  $3,673   1_Bed   \n",
       "\n",
       "       baths Unknown  \n",
       "0     1_Bath    None  \n",
       "1  /_Flex_2_  1_Bath  \n",
       "2     1_Bath    None  "
      ]
     },
     "execution_count": 29,
     "metadata": {},
     "output_type": "execute_result"
    }
   ],
   "source": [
    "listings  = pd.DataFrame(all_pages_parsed, columns=['url', 'address', 'neighborhood', 'rent', 'beds', 'baths', \"Unknown\"],) \n",
    "listings.replace('None', np.nan, inplace=True)\n",
    "listings.head(3)"
   ]
  },
  {
   "cell_type": "code",
   "execution_count": 30,
   "metadata": {},
   "outputs": [
    {
     "data": {
      "text/plain": [
       "(20000, 7)"
      ]
     },
     "execution_count": 30,
     "metadata": {},
     "output_type": "execute_result"
    }
   ],
   "source": [
    "listings.shape"
   ]
  },
  {
   "cell_type": "markdown",
   "metadata": {},
   "source": [
    "## Inspecting Data"
   ]
  },
  {
   "cell_type": "markdown",
   "metadata": {},
   "source": [
    "We have few flex rooms values,  that why some of bath is skewed to next column"
   ]
  },
  {
   "cell_type": "code",
   "execution_count": 31,
   "metadata": {},
   "outputs": [
    {
     "data": {
      "text/html": [
       "<div>\n",
       "<style scoped>\n",
       "    .dataframe tbody tr th:only-of-type {\n",
       "        vertical-align: middle;\n",
       "    }\n",
       "\n",
       "    .dataframe tbody tr th {\n",
       "        vertical-align: top;\n",
       "    }\n",
       "\n",
       "    .dataframe thead th {\n",
       "        text-align: right;\n",
       "    }\n",
       "</style>\n",
       "<table border=\"1\" class=\"dataframe\">\n",
       "  <thead>\n",
       "    <tr style=\"text-align: right;\">\n",
       "      <th></th>\n",
       "      <th>url</th>\n",
       "      <th>address</th>\n",
       "      <th>neighborhood</th>\n",
       "      <th>rent</th>\n",
       "      <th>beds</th>\n",
       "      <th>baths</th>\n",
       "      <th>Unknown</th>\n",
       "    </tr>\n",
       "  </thead>\n",
       "  <tbody>\n",
       "    <tr>\n",
       "      <th>1</th>\n",
       "      <td>https://www.renthop.com/listings/east-20s/b208...</td>\n",
       "      <td>East 20's</td>\n",
       "      <td>Kips Bay, Midtown Manhattan, Manhattan</td>\n",
       "      <td>$3,500</td>\n",
       "      <td>1_Bed</td>\n",
       "      <td>/_Flex_2_</td>\n",
       "      <td>1_Bath</td>\n",
       "    </tr>\n",
       "    <tr>\n",
       "      <th>5</th>\n",
       "      <td>https://www.renthop.com/listings/crescent-st/n...</td>\n",
       "      <td>Crescent St</td>\n",
       "      <td>Long Island City, Northwestern Queens, Queens</td>\n",
       "      <td>$2,585</td>\n",
       "      <td>Studio</td>\n",
       "      <td>/_Flex_1_</td>\n",
       "      <td>1_Bath</td>\n",
       "    </tr>\n",
       "  </tbody>\n",
       "</table>\n",
       "</div>"
      ],
      "text/plain": [
       "                                                 url      address  \\\n",
       "1  https://www.renthop.com/listings/east-20s/b208...    East 20's   \n",
       "5  https://www.renthop.com/listings/crescent-st/n...  Crescent St   \n",
       "\n",
       "                                    neighborhood    rent    beds      baths  \\\n",
       "1         Kips Bay, Midtown Manhattan, Manhattan  $3,500   1_Bed  /_Flex_2_   \n",
       "5  Long Island City, Northwestern Queens, Queens  $2,585  Studio  /_Flex_1_   \n",
       "\n",
       "  Unknown  \n",
       "1  1_Bath  \n",
       "5  1_Bath  "
      ]
     },
     "execution_count": 31,
     "metadata": {},
     "output_type": "execute_result"
    }
   ],
   "source": [
    "listings[listings['Unknown'].notnull()].head(2)"
   ]
  },
  {
   "cell_type": "markdown",
   "metadata": {},
   "source": [
    "- Fixing Flex Rooms and Baths issue"
   ]
  },
  {
   "cell_type": "code",
   "execution_count": 32,
   "metadata": {},
   "outputs": [],
   "source": [
    "listings[\"Unknown\"], listings[\"baths\"] = np.where(listings[\"Unknown\"].notnull() , \n",
    "                                                  [listings[\"baths\"], listings[\"Unknown\"]], \n",
    "                                                  [listings[\"Unknown\"], listings[\"baths\"]])"
   ]
  },
  {
   "cell_type": "code",
   "execution_count": 33,
   "metadata": {},
   "outputs": [
    {
     "data": {
      "text/html": [
       "<div>\n",
       "<style scoped>\n",
       "    .dataframe tbody tr th:only-of-type {\n",
       "        vertical-align: middle;\n",
       "    }\n",
       "\n",
       "    .dataframe tbody tr th {\n",
       "        vertical-align: top;\n",
       "    }\n",
       "\n",
       "    .dataframe thead th {\n",
       "        text-align: right;\n",
       "    }\n",
       "</style>\n",
       "<table border=\"1\" class=\"dataframe\">\n",
       "  <thead>\n",
       "    <tr style=\"text-align: right;\">\n",
       "      <th></th>\n",
       "      <th>url</th>\n",
       "      <th>address</th>\n",
       "      <th>neighborhood</th>\n",
       "      <th>rent</th>\n",
       "      <th>beds</th>\n",
       "      <th>baths</th>\n",
       "      <th>flexs</th>\n",
       "    </tr>\n",
       "  </thead>\n",
       "  <tbody>\n",
       "    <tr>\n",
       "      <th>1</th>\n",
       "      <td>https://www.renthop.com/listings/east-20s/b208...</td>\n",
       "      <td>East 20's</td>\n",
       "      <td>Kips Bay, Midtown Manhattan, Manhattan</td>\n",
       "      <td>$3,500</td>\n",
       "      <td>1_Bed</td>\n",
       "      <td>1_Bath</td>\n",
       "      <td>/_Flex_2_</td>\n",
       "    </tr>\n",
       "    <tr>\n",
       "      <th>5</th>\n",
       "      <td>https://www.renthop.com/listings/crescent-st/n...</td>\n",
       "      <td>Crescent St</td>\n",
       "      <td>Long Island City, Northwestern Queens, Queens</td>\n",
       "      <td>$2,585</td>\n",
       "      <td>Studio</td>\n",
       "      <td>1_Bath</td>\n",
       "      <td>/_Flex_1_</td>\n",
       "    </tr>\n",
       "    <tr>\n",
       "      <th>6</th>\n",
       "      <td>https://www.renthop.com/listings/west-42nd-str...</td>\n",
       "      <td>West 42nd Street</td>\n",
       "      <td>Hell's Kitchen, Midtown Manhattan, Manhattan</td>\n",
       "      <td>$3,425</td>\n",
       "      <td>1_Bed</td>\n",
       "      <td>1_Bath</td>\n",
       "      <td>/_Flex_2_</td>\n",
       "    </tr>\n",
       "  </tbody>\n",
       "</table>\n",
       "</div>"
      ],
      "text/plain": [
       "                                                 url           address  \\\n",
       "1  https://www.renthop.com/listings/east-20s/b208...         East 20's   \n",
       "5  https://www.renthop.com/listings/crescent-st/n...       Crescent St   \n",
       "6  https://www.renthop.com/listings/west-42nd-str...  West 42nd Street   \n",
       "\n",
       "                                    neighborhood    rent    beds   baths  \\\n",
       "1         Kips Bay, Midtown Manhattan, Manhattan  $3,500   1_Bed  1_Bath   \n",
       "5  Long Island City, Northwestern Queens, Queens  $2,585  Studio  1_Bath   \n",
       "6   Hell's Kitchen, Midtown Manhattan, Manhattan  $3,425   1_Bed  1_Bath   \n",
       "\n",
       "       flexs  \n",
       "1  /_Flex_2_  \n",
       "5  /_Flex_1_  \n",
       "6  /_Flex_2_  "
      ]
     },
     "execution_count": 33,
     "metadata": {},
     "output_type": "execute_result"
    }
   ],
   "source": [
    "# Renaming \n",
    "new_columns = listings.columns.values\n",
    "new_columns[6] = 'flexs'\n",
    "listings.columns = new_columns\n",
    "\n",
    "# Checking Results\n",
    "listings[listings['flexs'].notnull()].head(3)"
   ]
  },
  {
   "cell_type": "markdown",
   "metadata": {},
   "source": [
    "Saving data as csv"
   ]
  },
  {
   "cell_type": "code",
   "execution_count": 34,
   "metadata": {},
   "outputs": [],
   "source": [
    "import os\n",
    "\n",
    "dir = 'Data'\n",
    "if(os.path.isdir(dir) is False):\n",
    "    os.makedirs(\"Data\")\n",
    "    \n",
    "listings.to_csv(\"Data\\listings_2.csv\", index = False)"
   ]
  },
  {
   "cell_type": "code",
   "execution_count": null,
   "metadata": {},
   "outputs": [],
   "source": []
  }
 ],
 "metadata": {
  "kernelspec": {
   "display_name": "Python 3",
   "language": "python",
   "name": "python3"
  },
  "language_info": {
   "codemirror_mode": {
    "name": "ipython",
    "version": 3
   },
   "file_extension": ".py",
   "mimetype": "text/x-python",
   "name": "python",
   "nbconvert_exporter": "python",
   "pygments_lexer": "ipython3",
   "version": "3.8.2"
  }
 },
 "nbformat": 4,
 "nbformat_minor": 4
}

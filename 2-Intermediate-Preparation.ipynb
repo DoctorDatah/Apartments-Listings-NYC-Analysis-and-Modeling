{
 "cells": [
  {
   "cell_type": "markdown",
   "metadata": {},
   "source": [
    "# Intermediate Preprocessing"
   ]
  },
  {
   "cell_type": "code",
   "execution_count": 1,
   "metadata": {},
   "outputs": [],
   "source": [
    "import numpy as np \n",
    "import pandas as pd \n",
    "import matplotlib.pyplot as plt \n",
    "%matplotlib inline "
   ]
  },
  {
   "cell_type": "code",
   "execution_count": 2,
   "metadata": {},
   "outputs": [
    {
     "data": {
      "text/html": [
       "<div>\n",
       "<style scoped>\n",
       "    .dataframe tbody tr th:only-of-type {\n",
       "        vertical-align: middle;\n",
       "    }\n",
       "\n",
       "    .dataframe tbody tr th {\n",
       "        vertical-align: top;\n",
       "    }\n",
       "\n",
       "    .dataframe thead th {\n",
       "        text-align: right;\n",
       "    }\n",
       "</style>\n",
       "<table border=\"1\" class=\"dataframe\">\n",
       "  <thead>\n",
       "    <tr style=\"text-align: right;\">\n",
       "      <th></th>\n",
       "      <th>url</th>\n",
       "      <th>address</th>\n",
       "      <th>neighborhood</th>\n",
       "      <th>rent</th>\n",
       "      <th>beds</th>\n",
       "      <th>baths</th>\n",
       "      <th>flexs</th>\n",
       "    </tr>\n",
       "  </thead>\n",
       "  <tbody>\n",
       "    <tr>\n",
       "      <th>0</th>\n",
       "      <td>https://www.renthop.com/listings/gold-st/12c/1...</td>\n",
       "      <td>Gold St.</td>\n",
       "      <td>Downtown Brooklyn, Northwestern Brooklyn, Broo...</td>\n",
       "      <td>$3,395</td>\n",
       "      <td>1_Bed</td>\n",
       "      <td>1_Bath</td>\n",
       "      <td>NaN</td>\n",
       "    </tr>\n",
       "    <tr>\n",
       "      <th>1</th>\n",
       "      <td>https://www.renthop.com/listings/gold-st/9d/15...</td>\n",
       "      <td>Gold St.</td>\n",
       "      <td>Downtown Brooklyn, Northwestern Brooklyn, Broo...</td>\n",
       "      <td>$3,071</td>\n",
       "      <td>1_Bed</td>\n",
       "      <td>1_Bath</td>\n",
       "      <td>NaN</td>\n",
       "    </tr>\n",
       "    <tr>\n",
       "      <th>2</th>\n",
       "      <td>https://www.renthop.com/listings/141-east-56th...</td>\n",
       "      <td>141 East 56th Street, Apt 11A</td>\n",
       "      <td>Midtown East, Midtown Manhattan, Manhattan</td>\n",
       "      <td>$4,925</td>\n",
       "      <td>2_Bed</td>\n",
       "      <td>1_Bath</td>\n",
       "      <td>NaN</td>\n",
       "    </tr>\n",
       "    <tr>\n",
       "      <th>3</th>\n",
       "      <td>https://www.renthop.com/listings/west-street/2...</td>\n",
       "      <td>west street</td>\n",
       "      <td>Financial District, Downtown Manhattan, Manhattan</td>\n",
       "      <td>$3,750</td>\n",
       "      <td>1_Bed</td>\n",
       "      <td>1_Bath</td>\n",
       "      <td>/_Flex_3_</td>\n",
       "    </tr>\n",
       "    <tr>\n",
       "      <th>4</th>\n",
       "      <td>https://www.renthop.com/listings/382-wadsworth...</td>\n",
       "      <td>382 Wadsworth Ave, Apt 4B</td>\n",
       "      <td>Fort George, Washington Heights, Upper Manhatt...</td>\n",
       "      <td>$4,195</td>\n",
       "      <td>5_Bed</td>\n",
       "      <td>2_Bath</td>\n",
       "      <td>NaN</td>\n",
       "    </tr>\n",
       "  </tbody>\n",
       "</table>\n",
       "</div>"
      ],
      "text/plain": [
       "                                                 url  \\\n",
       "0  https://www.renthop.com/listings/gold-st/12c/1...   \n",
       "1  https://www.renthop.com/listings/gold-st/9d/15...   \n",
       "2  https://www.renthop.com/listings/141-east-56th...   \n",
       "3  https://www.renthop.com/listings/west-street/2...   \n",
       "4  https://www.renthop.com/listings/382-wadsworth...   \n",
       "\n",
       "                         address  \\\n",
       "0                       Gold St.   \n",
       "1                       Gold St.   \n",
       "2  141 East 56th Street, Apt 11A   \n",
       "3                   west street    \n",
       "4      382 Wadsworth Ave, Apt 4B   \n",
       "\n",
       "                                        neighborhood    rent   beds   baths  \\\n",
       "0  Downtown Brooklyn, Northwestern Brooklyn, Broo...  $3,395  1_Bed  1_Bath   \n",
       "1  Downtown Brooklyn, Northwestern Brooklyn, Broo...  $3,071  1_Bed  1_Bath   \n",
       "2         Midtown East, Midtown Manhattan, Manhattan  $4,925  2_Bed  1_Bath   \n",
       "3  Financial District, Downtown Manhattan, Manhattan  $3,750  1_Bed  1_Bath   \n",
       "4  Fort George, Washington Heights, Upper Manhatt...  $4,195  5_Bed  2_Bath   \n",
       "\n",
       "       flexs  \n",
       "0        NaN  \n",
       "1        NaN  \n",
       "2        NaN  \n",
       "3  /_Flex_3_  \n",
       "4        NaN  "
      ]
     },
     "execution_count": 2,
     "metadata": {},
     "output_type": "execute_result"
    }
   ],
   "source": [
    "listings = pd.read_csv('data\\listings.csv')\n",
    "listings.head()"
   ]
  },
  {
   "cell_type": "code",
   "execution_count": 3,
   "metadata": {},
   "outputs": [
    {
     "name": "stdout",
     "output_type": "stream",
     "text": [
      "<class 'pandas.core.frame.DataFrame'>\n",
      "RangeIndex: 2000 entries, 0 to 1999\n",
      "Data columns (total 7 columns):\n",
      "url             2000 non-null object\n",
      "address         1999 non-null object\n",
      "neighborhood    2000 non-null object\n",
      "rent            2000 non-null object\n",
      "beds            2000 non-null object\n",
      "baths           2000 non-null object\n",
      "flexs           267 non-null object\n",
      "dtypes: object(7)\n",
      "memory usage: 109.5+ KB\n"
     ]
    }
   ],
   "source": [
    "listings.info()"
   ]
  },
  {
   "cell_type": "code",
   "execution_count": 4,
   "metadata": {},
   "outputs": [
    {
     "data": {
      "text/html": [
       "<div>\n",
       "<style scoped>\n",
       "    .dataframe tbody tr th:only-of-type {\n",
       "        vertical-align: middle;\n",
       "    }\n",
       "\n",
       "    .dataframe tbody tr th {\n",
       "        vertical-align: top;\n",
       "    }\n",
       "\n",
       "    .dataframe thead th {\n",
       "        text-align: right;\n",
       "    }\n",
       "</style>\n",
       "<table border=\"1\" class=\"dataframe\">\n",
       "  <thead>\n",
       "    <tr style=\"text-align: right;\">\n",
       "      <th></th>\n",
       "      <th>url</th>\n",
       "      <th>address</th>\n",
       "      <th>neighborhood</th>\n",
       "      <th>rent</th>\n",
       "      <th>beds</th>\n",
       "      <th>baths</th>\n",
       "      <th>flexs</th>\n",
       "    </tr>\n",
       "  </thead>\n",
       "  <tbody>\n",
       "    <tr>\n",
       "      <th>count</th>\n",
       "      <td>2000</td>\n",
       "      <td>1999</td>\n",
       "      <td>2000</td>\n",
       "      <td>2000</td>\n",
       "      <td>2000</td>\n",
       "      <td>2000</td>\n",
       "      <td>267</td>\n",
       "    </tr>\n",
       "    <tr>\n",
       "      <th>unique</th>\n",
       "      <td>1848</td>\n",
       "      <td>1418</td>\n",
       "      <td>129</td>\n",
       "      <td>684</td>\n",
       "      <td>12</td>\n",
       "      <td>11</td>\n",
       "      <td>8</td>\n",
       "    </tr>\n",
       "    <tr>\n",
       "      <th>top</th>\n",
       "      <td>https://www.renthop.com/listings/28th-st/50/15...</td>\n",
       "      <td>Wall Street</td>\n",
       "      <td>Hell's Kitchen, Midtown Manhattan, Manhattan</td>\n",
       "      <td>$2,800</td>\n",
       "      <td>1_Bed</td>\n",
       "      <td>1_Bath</td>\n",
       "      <td>/_Flex_2_</td>\n",
       "    </tr>\n",
       "    <tr>\n",
       "      <th>freq</th>\n",
       "      <td>3</td>\n",
       "      <td>19</td>\n",
       "      <td>173</td>\n",
       "      <td>34</td>\n",
       "      <td>694</td>\n",
       "      <td>1539</td>\n",
       "      <td>112</td>\n",
       "    </tr>\n",
       "  </tbody>\n",
       "</table>\n",
       "</div>"
      ],
      "text/plain": [
       "                                                      url      address  \\\n",
       "count                                                2000         1999   \n",
       "unique                                               1848         1418   \n",
       "top     https://www.renthop.com/listings/28th-st/50/15...  Wall Street   \n",
       "freq                                                    3           19   \n",
       "\n",
       "                                        neighborhood    rent   beds   baths  \\\n",
       "count                                           2000    2000   2000    2000   \n",
       "unique                                           129     684     12      11   \n",
       "top     Hell's Kitchen, Midtown Manhattan, Manhattan  $2,800  1_Bed  1_Bath   \n",
       "freq                                             173      34    694    1539   \n",
       "\n",
       "            flexs  \n",
       "count         267  \n",
       "unique          8  \n",
       "top     /_Flex_2_  \n",
       "freq          112  "
      ]
     },
     "execution_count": 4,
     "metadata": {},
     "output_type": "execute_result"
    }
   ],
   "source": [
    "listings.describe()"
   ]
  },
  {
   "cell_type": "markdown",
   "metadata": {},
   "source": [
    "### Fixing Beds Feature"
   ]
  },
  {
   "cell_type": "code",
   "execution_count": 5,
   "metadata": {},
   "outputs": [
    {
     "data": {
      "text/plain": [
       "array(['1_Bed', '2_Bed', '5_Bed', 'Studio', '_2_Bed', '3_Bed', '4_Bed',\n",
       "       'Loft', 'Room', '_5_Bed', '_Room', '_4_Bed'], dtype=object)"
      ]
     },
     "execution_count": 5,
     "metadata": {},
     "output_type": "execute_result"
    }
   ],
   "source": [
    "listings['beds'].unique()"
   ]
  },
  {
   "cell_type": "markdown",
   "metadata": {},
   "source": [
    "We can few duplicate categories. i.e. '5_Bed' and '\\_5_Bed' are same"
   ]
  },
  {
   "cell_type": "code",
   "execution_count": 6,
   "metadata": {},
   "outputs": [
    {
     "data": {
      "text/plain": [
       "0    x_Bed\n",
       "1    x_Bed\n",
       "dtype: object"
      ]
     },
     "execution_count": 6,
     "metadata": {},
     "output_type": "execute_result"
    }
   ],
   "source": [
    "# Setup  for removing extra '_' from categories\n",
    "\n",
    "dumy_strs = pd.Series([\"_x_Bed\",\"x_Bed\"])\n",
    "dumy_strs.map(lambda x: x[1:] if x.startswith('_') else x)"
   ]
  },
  {
   "cell_type": "code",
   "execution_count": 7,
   "metadata": {},
   "outputs": [],
   "source": [
    "# Removindg stating '_'\n",
    "listings['beds'] = listings['beds'].map(lambda x: x[1:] if x.startswith('_') else x) "
   ]
  },
  {
   "cell_type": "code",
   "execution_count": 8,
   "metadata": {},
   "outputs": [
    {
     "data": {
      "text/plain": [
       "array(['1_Bed', '2_Bed', '5_Bed', 'Studio', '3_Bed', '4_Bed', 'Loft',\n",
       "       'Room'], dtype=object)"
      ]
     },
     "execution_count": 8,
     "metadata": {},
     "output_type": "execute_result"
    }
   ],
   "source": [
    "listings['beds'].unique()"
   ]
  },
  {
   "cell_type": "code",
   "execution_count": 9,
   "metadata": {},
   "outputs": [],
   "source": [
    "# Futher Fixing - Setting other Categoris to 0-Beds\n",
    "\n",
    "listings['beds'] = listings['beds'].map(lambda x: x.replace('_Bed', '')) \n",
    "listings['beds'] = listings['beds'].map(lambda x: x.replace('Studio', '0')) \n",
    "listings['beds'] = listings['beds'].map(lambda x: x.replace('Loft', '0'))\n",
    "listings['beds'] = listings['beds'].map(lambda x: x.replace('Room', '0'))"
   ]
  },
  {
   "cell_type": "code",
   "execution_count": 10,
   "metadata": {},
   "outputs": [
    {
     "data": {
      "text/plain": [
       "array([1, 2, 5, 0, 3, 4], dtype=int64)"
      ]
     },
     "execution_count": 10,
     "metadata": {},
     "output_type": "execute_result"
    }
   ],
   "source": [
    "# Contering to Numeric\n",
    "\n",
    "listings['beds'] = pd.to_numeric(listings['beds'])\n",
    "listings['beds'].unique()"
   ]
  },
  {
   "cell_type": "markdown",
   "metadata": {},
   "source": [
    "### Fixing baths feature"
   ]
  },
  {
   "cell_type": "code",
   "execution_count": 11,
   "metadata": {},
   "outputs": [
    {
     "data": {
      "text/plain": [
       "array(['1_Bath', '2_Bath', '3_Bath', '1.5_Bath', '2.5_Bath', '4_Bath',\n",
       "       '_2.5_Bath', '_1_Bath', '4.5_Bath', '_2_Bath', '5_Bath'],\n",
       "      dtype=object)"
      ]
     },
     "execution_count": 11,
     "metadata": {},
     "output_type": "execute_result"
    }
   ],
   "source": [
    "listings['baths'].unique()"
   ]
  },
  {
   "cell_type": "code",
   "execution_count": 12,
   "metadata": {},
   "outputs": [],
   "source": [
    "listings['baths'] = listings['baths'].map(lambda x: x[1:] if x.startswith('_') else x) \n",
    "listings['baths'] = listings['baths'].map(lambda x: x.replace('_Bath', '')) "
   ]
  },
  {
   "cell_type": "code",
   "execution_count": 13,
   "metadata": {},
   "outputs": [
    {
     "data": {
      "text/plain": [
       "array([1. , 2. , 3. , 1.5, 2.5, 4. , 4.5, 5. ])"
      ]
     },
     "execution_count": 13,
     "metadata": {},
     "output_type": "execute_result"
    }
   ],
   "source": [
    "# Contering to Numeric\n",
    "\n",
    "listings['baths'] = pd.to_numeric(listings['baths'])\n",
    "listings['baths'].unique()"
   ]
  },
  {
   "cell_type": "markdown",
   "metadata": {},
   "source": [
    "### Fixing Flexes "
   ]
  },
  {
   "cell_type": "code",
   "execution_count": 14,
   "metadata": {},
   "outputs": [
    {
     "data": {
      "text/plain": [
       "array([nan, '/_Flex_3_', '/_Flex_2_', '/_Flex_1_', '/_Flex_4_',\n",
       "       '/_Flex_5_', '/_Flex_6_', '_/_Flex_3_', '/_Flex_2__'], dtype=object)"
      ]
     },
     "execution_count": 14,
     "metadata": {},
     "output_type": "execute_result"
    }
   ],
   "source": [
    "listings['flexs'].unique()"
   ]
  },
  {
   "cell_type": "code",
   "execution_count": 15,
   "metadata": {},
   "outputs": [],
   "source": [
    "# listings[listings['flexs'].notnull()]['flexs']"
   ]
  },
  {
   "cell_type": "code",
   "execution_count": 16,
   "metadata": {},
   "outputs": [],
   "source": [
    "listings['flexs'] = listings[listings['flexs'].notnull()]['flexs'].map(lambda x: x[1:] if x.startswith('_') else x)\n",
    "listings['flexs'] = listings[listings['flexs'].notnull()]['flexs'].map(lambda x: x[1:] if x.endswith('_') else x)"
   ]
  },
  {
   "cell_type": "code",
   "execution_count": 17,
   "metadata": {},
   "outputs": [
    {
     "data": {
      "text/plain": [
       "array([nan, '_Flex_3_', '_Flex_2_', '_Flex_1_', '_Flex_4_', '_Flex_5_',\n",
       "       '_Flex_6_', '_Flex_2__'], dtype=object)"
      ]
     },
     "execution_count": 17,
     "metadata": {},
     "output_type": "execute_result"
    }
   ],
   "source": [
    "listings['flexs'].unique()"
   ]
  },
  {
   "cell_type": "code",
   "execution_count": 18,
   "metadata": {},
   "outputs": [],
   "source": [
    "listings['flexs'] = listings[listings['flexs'].notnull()]['flexs'].map(lambda x: x.replace('_Flex_', '')) \n",
    "listings['flexs'] = listings[listings['flexs'].notnull()]['flexs'].map(lambda x: x.replace('_', '')) "
   ]
  },
  {
   "cell_type": "code",
   "execution_count": 19,
   "metadata": {},
   "outputs": [
    {
     "data": {
      "text/plain": [
       "array([nan, '3', '2', '1', '4', '5', '6'], dtype=object)"
      ]
     },
     "execution_count": 19,
     "metadata": {},
     "output_type": "execute_result"
    }
   ],
   "source": [
    "listings['flexs'].unique()"
   ]
  },
  {
   "cell_type": "code",
   "execution_count": 20,
   "metadata": {},
   "outputs": [
    {
     "data": {
      "text/plain": [
       "array([nan,  3.,  2.,  1.,  4.,  5.,  6.])"
      ]
     },
     "execution_count": 20,
     "metadata": {},
     "output_type": "execute_result"
    }
   ],
   "source": [
    "# Contering to Numeric\n",
    "\n",
    "listings['flexs'] = pd.to_numeric(listings['flexs'])\n",
    "listings['flexs'].unique()"
   ]
  },
  {
   "cell_type": "markdown",
   "metadata": {},
   "source": [
    "Nan here means we have no Flex"
   ]
  },
  {
   "cell_type": "code",
   "execution_count": 21,
   "metadata": {},
   "outputs": [],
   "source": [
    "listings['flexs'] = listings['flexs'].fillna(0)\n"
   ]
  },
  {
   "cell_type": "code",
   "execution_count": 22,
   "metadata": {},
   "outputs": [
    {
     "data": {
      "text/plain": [
       "array([0., 3., 2., 1., 4., 5., 6.])"
      ]
     },
     "execution_count": 22,
     "metadata": {},
     "output_type": "execute_result"
    }
   ],
   "source": [
    "listings['flexs'].unique()"
   ]
  },
  {
   "cell_type": "code",
   "execution_count": 23,
   "metadata": {},
   "outputs": [
    {
     "data": {
      "text/plain": [
       "0.0    1733\n",
       "2.0     113\n",
       "3.0      86\n",
       "4.0      35\n",
       "1.0      29\n",
       "5.0       3\n",
       "6.0       1\n",
       "Name: flexs, dtype: int64"
      ]
     },
     "execution_count": 23,
     "metadata": {},
     "output_type": "execute_result"
    }
   ],
   "source": [
    "listings['flexs'].value_counts()"
   ]
  },
  {
   "cell_type": "markdown",
   "metadata": {},
   "source": [
    "### Fixing Rent"
   ]
  },
  {
   "cell_type": "code",
   "execution_count": 24,
   "metadata": {},
   "outputs": [],
   "source": [
    "listings['rent'] = listings['rent'].map(lambda x: str(x).replace('$','').replace(',','')).astype('int') "
   ]
  },
  {
   "cell_type": "code",
   "execution_count": 25,
   "metadata": {},
   "outputs": [
    {
     "data": {
      "text/html": [
       "<div>\n",
       "<style scoped>\n",
       "    .dataframe tbody tr th:only-of-type {\n",
       "        vertical-align: middle;\n",
       "    }\n",
       "\n",
       "    .dataframe tbody tr th {\n",
       "        vertical-align: top;\n",
       "    }\n",
       "\n",
       "    .dataframe thead th {\n",
       "        text-align: right;\n",
       "    }\n",
       "</style>\n",
       "<table border=\"1\" class=\"dataframe\">\n",
       "  <thead>\n",
       "    <tr style=\"text-align: right;\">\n",
       "      <th></th>\n",
       "      <th>url</th>\n",
       "      <th>address</th>\n",
       "      <th>neighborhood</th>\n",
       "      <th>rent</th>\n",
       "      <th>beds</th>\n",
       "      <th>baths</th>\n",
       "      <th>flexs</th>\n",
       "    </tr>\n",
       "  </thead>\n",
       "  <tbody>\n",
       "    <tr>\n",
       "      <th>0</th>\n",
       "      <td>https://www.renthop.com/listings/gold-st/12c/1...</td>\n",
       "      <td>Gold St.</td>\n",
       "      <td>Downtown Brooklyn, Northwestern Brooklyn, Broo...</td>\n",
       "      <td>3395</td>\n",
       "      <td>1</td>\n",
       "      <td>1.0</td>\n",
       "      <td>0.0</td>\n",
       "    </tr>\n",
       "    <tr>\n",
       "      <th>1</th>\n",
       "      <td>https://www.renthop.com/listings/gold-st/9d/15...</td>\n",
       "      <td>Gold St.</td>\n",
       "      <td>Downtown Brooklyn, Northwestern Brooklyn, Broo...</td>\n",
       "      <td>3071</td>\n",
       "      <td>1</td>\n",
       "      <td>1.0</td>\n",
       "      <td>0.0</td>\n",
       "    </tr>\n",
       "    <tr>\n",
       "      <th>2</th>\n",
       "      <td>https://www.renthop.com/listings/141-east-56th...</td>\n",
       "      <td>141 East 56th Street, Apt 11A</td>\n",
       "      <td>Midtown East, Midtown Manhattan, Manhattan</td>\n",
       "      <td>4925</td>\n",
       "      <td>2</td>\n",
       "      <td>1.0</td>\n",
       "      <td>0.0</td>\n",
       "    </tr>\n",
       "  </tbody>\n",
       "</table>\n",
       "</div>"
      ],
      "text/plain": [
       "                                                 url  \\\n",
       "0  https://www.renthop.com/listings/gold-st/12c/1...   \n",
       "1  https://www.renthop.com/listings/gold-st/9d/15...   \n",
       "2  https://www.renthop.com/listings/141-east-56th...   \n",
       "\n",
       "                         address  \\\n",
       "0                       Gold St.   \n",
       "1                       Gold St.   \n",
       "2  141 East 56th Street, Apt 11A   \n",
       "\n",
       "                                        neighborhood  rent  beds  baths  flexs  \n",
       "0  Downtown Brooklyn, Northwestern Brooklyn, Broo...  3395     1    1.0    0.0  \n",
       "1  Downtown Brooklyn, Northwestern Brooklyn, Broo...  3071     1    1.0    0.0  \n",
       "2         Midtown East, Midtown Manhattan, Manhattan  4925     2    1.0    0.0  "
      ]
     },
     "execution_count": 25,
     "metadata": {},
     "output_type": "execute_result"
    }
   ],
   "source": [
    "listings.head(3)"
   ]
  },
  {
   "cell_type": "code",
   "execution_count": 26,
   "metadata": {},
   "outputs": [
    {
     "name": "stdout",
     "output_type": "stream",
     "text": [
      "<class 'pandas.core.frame.DataFrame'>\n",
      "RangeIndex: 2000 entries, 0 to 1999\n",
      "Data columns (total 7 columns):\n",
      "url             2000 non-null object\n",
      "address         1999 non-null object\n",
      "neighborhood    2000 non-null object\n",
      "rent            2000 non-null int32\n",
      "beds            2000 non-null int64\n",
      "baths           2000 non-null float64\n",
      "flexs           2000 non-null float64\n",
      "dtypes: float64(2), int32(1), int64(1), object(3)\n",
      "memory usage: 101.7+ KB\n"
     ]
    }
   ],
   "source": [
    "listings.info()"
   ]
  },
  {
   "cell_type": "markdown",
   "metadata": {},
   "source": [
    "### Zip Codes\n",
    "Using Google Maps For getting Related Zip Codes "
   ]
  },
  {
   "cell_type": "code",
   "execution_count": 27,
   "metadata": {},
   "outputs": [],
   "source": [
    "# !pip install -U googlemaps"
   ]
  },
  {
   "cell_type": "code",
   "execution_count": 28,
   "metadata": {},
   "outputs": [
    {
     "data": {
      "text/plain": [
       "'west street  Manhattan'"
      ]
     },
     "execution_count": 28,
     "metadata": {},
     "output_type": "execute_result"
    }
   ],
   "source": [
    "listings.loc[3,['address']].values[0] + ' ' + listings.loc[3,['neighborhood']].values[0].split(', ')[-1]"
   ]
  },
  {
   "cell_type": "code",
   "execution_count": 29,
   "metadata": {},
   "outputs": [],
   "source": [
    "\n",
    "def get_key():\n",
    "    file_path = \"Secrets\\key.txt\"\n",
    "    with open(file_path, 'r') as file: \n",
    "          return file.read()\n"
   ]
  },
  {
   "cell_type": "code",
   "execution_count": 30,
   "metadata": {},
   "outputs": [
    {
     "data": {
      "text/plain": [
       "'Gold St. Brooklyn'"
      ]
     },
     "execution_count": 30,
     "metadata": {},
     "output_type": "execute_result"
    }
   ],
   "source": [
    "import googlemaps \n",
    " \n",
    "gmaps = googlemaps.Client(key=get_key()) \n",
    " \n",
    "# removing ',' from a record | So, we can get the cleaned string to get zipcode\n",
    "r = listings.loc[1,['address']].values[0] + ' ' + listings.loc[1,['neighborhood']].values[0].split(', ')[-1] \n",
    "r "
   ]
  },
  {
   "cell_type": "code",
   "execution_count": 31,
   "metadata": {},
   "outputs": [
    {
     "data": {
      "text/plain": [
       "[{'address_components': [{'long_name': 'Gold Street',\n",
       "    'short_name': 'Gold St',\n",
       "    'types': ['route']},\n",
       "   {'long_name': 'Downtown Brooklyn',\n",
       "    'short_name': 'Downtown Brooklyn',\n",
       "    'types': ['neighborhood', 'political']},\n",
       "   {'long_name': 'Brooklyn',\n",
       "    'short_name': 'Brooklyn',\n",
       "    'types': ['political', 'sublocality', 'sublocality_level_1']},\n",
       "   {'long_name': 'Kings County',\n",
       "    'short_name': 'Kings County',\n",
       "    'types': ['administrative_area_level_2', 'political']},\n",
       "   {'long_name': 'New York',\n",
       "    'short_name': 'NY',\n",
       "    'types': ['administrative_area_level_1', 'political']},\n",
       "   {'long_name': 'United States',\n",
       "    'short_name': 'US',\n",
       "    'types': ['country', 'political']},\n",
       "   {'long_name': '11201', 'short_name': '11201', 'types': ['postal_code']}],\n",
       "  'formatted_address': 'Gold St, Brooklyn, NY 11201, USA',\n",
       "  'geometry': {'bounds': {'northeast': {'lat': 40.706913, 'lng': -73.9807991},\n",
       "    'southwest': {'lat': 40.6920537, 'lng': -73.9844722}},\n",
       "   'location': {'lat': 40.6991019, 'lng': -73.9829771},\n",
       "   'location_type': 'GEOMETRIC_CENTER',\n",
       "   'viewport': {'northeast': {'lat': 40.706913, 'lng': -73.9807991},\n",
       "    'southwest': {'lat': 40.6920537, 'lng': -73.9844722}}},\n",
       "  'place_id': 'ChIJn-urMstbwokRteausZoQ6gE',\n",
       "  'types': ['route']}]"
      ]
     },
     "execution_count": 31,
     "metadata": {},
     "output_type": "execute_result"
    }
   ],
   "source": [
    "# Fetching Related data\n",
    "geocode_result = gmaps.geocode(r) \n",
    " \n",
    "geocode_result "
   ]
  },
  {
   "cell_type": "code",
   "execution_count": 32,
   "metadata": {},
   "outputs": [
    {
     "data": {
      "text/plain": [
       "[{'long_name': 'Gold Street', 'short_name': 'Gold St', 'types': ['route']},\n",
       " {'long_name': 'Downtown Brooklyn',\n",
       "  'short_name': 'Downtown Brooklyn',\n",
       "  'types': ['neighborhood', 'political']},\n",
       " {'long_name': 'Brooklyn',\n",
       "  'short_name': 'Brooklyn',\n",
       "  'types': ['political', 'sublocality', 'sublocality_level_1']},\n",
       " {'long_name': 'Kings County',\n",
       "  'short_name': 'Kings County',\n",
       "  'types': ['administrative_area_level_2', 'political']},\n",
       " {'long_name': 'New York',\n",
       "  'short_name': 'NY',\n",
       "  'types': ['administrative_area_level_1', 'political']},\n",
       " {'long_name': 'United States',\n",
       "  'short_name': 'US',\n",
       "  'types': ['country', 'political']},\n",
       " {'long_name': '11201', 'short_name': '11201', 'types': ['postal_code']}]"
      ]
     },
     "execution_count": 32,
     "metadata": {},
     "output_type": "execute_result"
    }
   ],
   "source": [
    "geocode_result[0]['address_components']"
   ]
  },
  {
   "cell_type": "markdown",
   "metadata": {},
   "source": [
    "Dictonary having 'types' key with ['postal_code'] \n",
    "have 'short_name' key with zipcode"
   ]
  },
  {
   "cell_type": "code",
   "execution_count": 33,
   "metadata": {},
   "outputs": [
    {
     "name": "stdout",
     "output_type": "stream",
     "text": [
      "11201\n"
     ]
    }
   ],
   "source": [
    "# looping trough this data to get zipcode\n",
    "for piece_dict in geocode_result[0]['address_components']: \n",
    "    if 'postal_code' in piece_dict['types'] : \n",
    "        print(piece_dict['short_name']) "
   ]
  },
  {
   "cell_type": "markdown",
   "metadata": {},
   "source": [
    "**Putting all together**"
   ]
  },
  {
   "cell_type": "code",
   "execution_count": 34,
   "metadata": {},
   "outputs": [],
   "source": [
    "import re \n",
    "from IPython.display import clear_output\n",
    "\n",
    "\n",
    "def get_zip(row): \n",
    "    \"\"\"\n",
    "    Source: ML Blueprints\n",
    "    \"\"\"\n",
    "    # Remove Previous Print and add new\n",
    "    clear_output(wait=True)\n",
    "    print(\"...\")\n",
    "    print(\"...\")\n",
    "    \n",
    "    try: \n",
    "        # removing ','\n",
    "        addr = row['address'] + ' ' + row['neighborhood'].split(', ')[-1]     \n",
    "        \n",
    "        print(addr)\n",
    "    \n",
    "        if re.match('^\\d+\\s\\w', addr): \n",
    "            geocode_result = gmaps.geocode(addr) \n",
    "            for piece in geocode_result[0]['address_components']: \n",
    "                if 'postal_code' in piece['types']: \n",
    "                    return piece['short_name'] \n",
    "                else: \n",
    "                    pass \n",
    "        else: \n",
    "            return np.nan \n",
    "    except: \n",
    "        return np.nan"
   ]
  },
  {
   "cell_type": "code",
   "execution_count": 35,
   "metadata": {},
   "outputs": [
    {
     "name": "stdout",
     "output_type": "stream",
     "text": [
      "...\n",
      "...\n",
      "2 Gold Street, Apt 1210 Manhattan\n"
     ]
    }
   ],
   "source": [
    "listings['zip'] = listings.apply(get_zip, axis=1) "
   ]
  },
  {
   "cell_type": "code",
   "execution_count": 36,
   "metadata": {},
   "outputs": [
    {
     "data": {
      "text/plain": [
       "array([nan, '10022', '10040', '10016', '10065', '11211', '10033', '10282',\n",
       "       '10024', '10280', '10021', '10005', '10128', '10014', '11201',\n",
       "       '10018', '10038', '10023', '11225', '10009', '10034', '10032',\n",
       "       '10075', '11216', '10011', '10003', '10027', '10037', '11221',\n",
       "       '10025', '10017', '10019', '11215', '10036', '10028', '11222',\n",
       "       '10001', '11238', '11226', '11228', '10006', '10031', '10013',\n",
       "       '10029', '10002', '10012', '11206', '11235', '11377', '10007',\n",
       "       '11219', '11214', '10039', '11213', '11220', '11101', '10035',\n",
       "       '11207', '11102', '11210', '10304', '11203', '11249', '11105',\n",
       "       '11209', '11237', '11218', '11233', '11230', '10463', '11385',\n",
       "       '10306', '10010', '11375', '11205', '10026', '10030', None,\n",
       "       '11217', '10471', '10468', '10552', '11236', '10162', '11231',\n",
       "       '10004', '11435', '11208', '11229', '10453', '10069', '10701',\n",
       "       '10456', '11379'], dtype=object)"
      ]
     },
     "execution_count": 36,
     "metadata": {},
     "output_type": "execute_result"
    }
   ],
   "source": [
    "listings['zip'].unique()"
   ]
  },
  {
   "cell_type": "markdown",
   "metadata": {},
   "source": [
    "Verify that None and np.nan are getting treated as NULLs"
   ]
  },
  {
   "cell_type": "code",
   "execution_count": 37,
   "metadata": {},
   "outputs": [
    {
     "data": {
      "text/plain": [
       "10031    39\n",
       "10036    33\n",
       "10016    32\n",
       "10019    31\n",
       "10038    26\n",
       "         ..\n",
       "11236     1\n",
       "10453     1\n",
       "11208     1\n",
       "10456     1\n",
       "10468     1\n",
       "Name: zip, Length: 92, dtype: int64"
      ]
     },
     "execution_count": 37,
     "metadata": {},
     "output_type": "execute_result"
    }
   ],
   "source": [
    "listings['zip'].value_counts()"
   ]
  },
  {
   "cell_type": "code",
   "execution_count": 38,
   "metadata": {},
   "outputs": [
    {
     "data": {
      "text/plain": [
       "dict_keys(['10031', '10036', '10016', '10019', '10038', '11216', '11221', '10009', '10023', '10032', '10024', '10128', '11206', '10014', '10022', '10005', '11213', '11211', '10002', '10001', '10003', '10028', '10011', '11225', '10017', '10025', '10075', '11230', '11226', '10013', '10018', '10021', '10029', '11102', '11238', '11201', '10010', '10034', '11203', '10037', '10012', '10282', '11233', '10035', '11222', '11237', '10040', '11205', '10065', '11217', '11220', '11209', '11210', '11207', '11215', '10033', '10280', '10026', '10007', '11385', '11249', '11235', '11101', '11219', '10039', '10030', '10304', '10069', '11228', '11218', '10004', '10006', '10552', '10162', '10471', '11229', '10027', '10701', '11375', '10463', '10306', '11105', '11435', '11231', '11214', '11377', '11379', '11236', '10453', '11208', '10456', '10468'])"
      ]
     },
     "execution_count": 38,
     "metadata": {},
     "output_type": "execute_result"
    }
   ],
   "source": [
    "dict(listings['zip'].value_counts()).keys()"
   ]
  },
  {
   "cell_type": "code",
   "execution_count": 39,
   "metadata": {},
   "outputs": [
    {
     "data": {
      "text/plain": [
       "1165"
      ]
     },
     "execution_count": 39,
     "metadata": {},
     "output_type": "execute_result"
    }
   ],
   "source": [
    "total_null = len(listings[listings['zip'].isnull()]['zip'])\n",
    "total_null"
   ]
  },
  {
   "cell_type": "code",
   "execution_count": 40,
   "metadata": {},
   "outputs": [
    {
     "data": {
      "text/plain": [
       "835"
      ]
     },
     "execution_count": 40,
     "metadata": {},
     "output_type": "execute_result"
    }
   ],
   "source": [
    "listings.shape[0] - total_null # we only got zip for this number of listings"
   ]
  },
  {
   "cell_type": "markdown",
   "metadata": {},
   "source": [
    "We Lost most of the data, anyways that would be useful to have zip codes"
   ]
  },
  {
   "cell_type": "markdown",
   "metadata": {},
   "source": [
    "### Saving data"
   ]
  },
  {
   "cell_type": "code",
   "execution_count": 41,
   "metadata": {},
   "outputs": [],
   "source": [
    "listings.to_csv('data\\listings_interm_with_null_zips.csv', index = False)"
   ]
  },
  {
   "cell_type": "code",
   "execution_count": 42,
   "metadata": {},
   "outputs": [],
   "source": [
    "listings[listings['zip'].notnull()].to_csv('data\\listings_interm_with_zips.csv', index = False)"
   ]
  },
  {
   "cell_type": "code",
   "execution_count": null,
   "metadata": {},
   "outputs": [],
   "source": []
  }
 ],
 "metadata": {
  "kernelspec": {
   "display_name": "Python 3",
   "language": "python",
   "name": "python3"
  },
  "language_info": {
   "codemirror_mode": {
    "name": "ipython",
    "version": 3
   },
   "file_extension": ".py",
   "mimetype": "text/x-python",
   "name": "python",
   "nbconvert_exporter": "python",
   "pygments_lexer": "ipython3",
   "version": "3.8.2"
  }
 },
 "nbformat": 4,
 "nbformat_minor": 4
}

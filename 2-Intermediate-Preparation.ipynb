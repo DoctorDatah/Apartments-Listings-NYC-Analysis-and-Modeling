{
 "cells": [
  {
   "cell_type": "markdown",
   "metadata": {},
   "source": [
    "# Intermediate Data Preparation"
   ]
  },
  {
   "cell_type": "code",
   "execution_count": 2,
   "metadata": {},
   "outputs": [],
   "source": [
    "import numpy as np \n",
    "import pandas as pd \n",
    "import matplotlib.pyplot as plt \n",
    "%matplotlib inline "
   ]
  },
  {
   "cell_type": "code",
   "execution_count": 3,
   "metadata": {},
   "outputs": [
    {
     "data": {
      "text/html": [
       "<div>\n",
       "<style scoped>\n",
       "    .dataframe tbody tr th:only-of-type {\n",
       "        vertical-align: middle;\n",
       "    }\n",
       "\n",
       "    .dataframe tbody tr th {\n",
       "        vertical-align: top;\n",
       "    }\n",
       "\n",
       "    .dataframe thead th {\n",
       "        text-align: right;\n",
       "    }\n",
       "</style>\n",
       "<table border=\"1\" class=\"dataframe\">\n",
       "  <thead>\n",
       "    <tr style=\"text-align: right;\">\n",
       "      <th></th>\n",
       "      <th>url</th>\n",
       "      <th>address</th>\n",
       "      <th>neighborhood</th>\n",
       "      <th>rent</th>\n",
       "      <th>beds</th>\n",
       "      <th>baths</th>\n",
       "      <th>flexs</th>\n",
       "    </tr>\n",
       "  </thead>\n",
       "  <tbody>\n",
       "    <tr>\n",
       "      <th>0</th>\n",
       "      <td>https://www.renthop.com/listings/626-1st-avenu...</td>\n",
       "      <td>626 1st Avenue, Apt W17M</td>\n",
       "      <td>Murray Hill, Midtown Manhattan, Manhattan</td>\n",
       "      <td>$3,408</td>\n",
       "      <td>Studio</td>\n",
       "      <td>1_Bath</td>\n",
       "      <td>NaN</td>\n",
       "    </tr>\n",
       "    <tr>\n",
       "      <th>1</th>\n",
       "      <td>https://www.renthop.com/listings/east-20s/b208...</td>\n",
       "      <td>East 20's</td>\n",
       "      <td>Kips Bay, Midtown Manhattan, Manhattan</td>\n",
       "      <td>$3,500</td>\n",
       "      <td>1_Bed</td>\n",
       "      <td>1_Bath</td>\n",
       "      <td>/_Flex_2_</td>\n",
       "    </tr>\n",
       "    <tr>\n",
       "      <th>2</th>\n",
       "      <td>https://www.renthop.com/listings/20-exchange-p...</td>\n",
       "      <td>20 Exchange Place, Apt 2601</td>\n",
       "      <td>Financial District, Downtown Manhattan, Manhattan</td>\n",
       "      <td>$3,673</td>\n",
       "      <td>1_Bed</td>\n",
       "      <td>1_Bath</td>\n",
       "      <td>NaN</td>\n",
       "    </tr>\n",
       "    <tr>\n",
       "      <th>3</th>\n",
       "      <td>https://www.renthop.com/listings/queens-st/na/...</td>\n",
       "      <td>Queens St</td>\n",
       "      <td>Long Island City, Northwestern Queens, Queens</td>\n",
       "      <td>$2,529</td>\n",
       "      <td>Studio</td>\n",
       "      <td>1_Bath</td>\n",
       "      <td>NaN</td>\n",
       "    </tr>\n",
       "    <tr>\n",
       "      <th>4</th>\n",
       "      <td>https://www.renthop.com/listings/first-avenue/...</td>\n",
       "      <td>First Avenue</td>\n",
       "      <td>Alphabet City, East Village, Downtown Manhatta...</td>\n",
       "      <td>$3,880</td>\n",
       "      <td>2_Bed</td>\n",
       "      <td>1_Bath</td>\n",
       "      <td>NaN</td>\n",
       "    </tr>\n",
       "  </tbody>\n",
       "</table>\n",
       "</div>"
      ],
      "text/plain": [
       "                                                 url  \\\n",
       "0  https://www.renthop.com/listings/626-1st-avenu...   \n",
       "1  https://www.renthop.com/listings/east-20s/b208...   \n",
       "2  https://www.renthop.com/listings/20-exchange-p...   \n",
       "3  https://www.renthop.com/listings/queens-st/na/...   \n",
       "4  https://www.renthop.com/listings/first-avenue/...   \n",
       "\n",
       "                       address  \\\n",
       "0     626 1st Avenue, Apt W17M   \n",
       "1                    East 20's   \n",
       "2  20 Exchange Place, Apt 2601   \n",
       "3                    Queens St   \n",
       "4                 First Avenue   \n",
       "\n",
       "                                        neighborhood    rent    beds   baths  \\\n",
       "0          Murray Hill, Midtown Manhattan, Manhattan  $3,408  Studio  1_Bath   \n",
       "1             Kips Bay, Midtown Manhattan, Manhattan  $3,500   1_Bed  1_Bath   \n",
       "2  Financial District, Downtown Manhattan, Manhattan  $3,673   1_Bed  1_Bath   \n",
       "3      Long Island City, Northwestern Queens, Queens  $2,529  Studio  1_Bath   \n",
       "4  Alphabet City, East Village, Downtown Manhatta...  $3,880   2_Bed  1_Bath   \n",
       "\n",
       "       flexs  \n",
       "0        NaN  \n",
       "1  /_Flex_2_  \n",
       "2        NaN  \n",
       "3        NaN  \n",
       "4        NaN  "
      ]
     },
     "execution_count": 3,
     "metadata": {},
     "output_type": "execute_result"
    }
   ],
   "source": [
    "listings = pd.read_csv('data\\listings_2.csv')\n",
    "listings.head()"
   ]
  },
  {
   "cell_type": "code",
   "execution_count": 4,
   "metadata": {},
   "outputs": [
    {
     "name": "stdout",
     "output_type": "stream",
     "text": [
      "<class 'pandas.core.frame.DataFrame'>\n",
      "RangeIndex: 20000 entries, 0 to 19999\n",
      "Data columns (total 7 columns):\n",
      " #   Column        Non-Null Count  Dtype \n",
      "---  ------        --------------  ----- \n",
      " 0   url           20000 non-null  object\n",
      " 1   address       19988 non-null  object\n",
      " 2   neighborhood  20000 non-null  object\n",
      " 3   rent          20000 non-null  object\n",
      " 4   beds          20000 non-null  object\n",
      " 5   baths         20000 non-null  object\n",
      " 6   flexs         2392 non-null   object\n",
      "dtypes: object(7)\n",
      "memory usage: 1.1+ MB\n"
     ]
    }
   ],
   "source": [
    "listings.info()"
   ]
  },
  {
   "cell_type": "code",
   "execution_count": 5,
   "metadata": {},
   "outputs": [
    {
     "data": {
      "text/html": [
       "<div>\n",
       "<style scoped>\n",
       "    .dataframe tbody tr th:only-of-type {\n",
       "        vertical-align: middle;\n",
       "    }\n",
       "\n",
       "    .dataframe tbody tr th {\n",
       "        vertical-align: top;\n",
       "    }\n",
       "\n",
       "    .dataframe thead th {\n",
       "        text-align: right;\n",
       "    }\n",
       "</style>\n",
       "<table border=\"1\" class=\"dataframe\">\n",
       "  <thead>\n",
       "    <tr style=\"text-align: right;\">\n",
       "      <th></th>\n",
       "      <th>url</th>\n",
       "      <th>address</th>\n",
       "      <th>neighborhood</th>\n",
       "      <th>rent</th>\n",
       "      <th>beds</th>\n",
       "      <th>baths</th>\n",
       "      <th>flexs</th>\n",
       "    </tr>\n",
       "  </thead>\n",
       "  <tbody>\n",
       "    <tr>\n",
       "      <th>count</th>\n",
       "      <td>20000</td>\n",
       "      <td>19988</td>\n",
       "      <td>20000</td>\n",
       "      <td>20000</td>\n",
       "      <td>20000</td>\n",
       "      <td>20000</td>\n",
       "      <td>2392</td>\n",
       "    </tr>\n",
       "    <tr>\n",
       "      <th>unique</th>\n",
       "      <td>18511</td>\n",
       "      <td>9686</td>\n",
       "      <td>252</td>\n",
       "      <td>2637</td>\n",
       "      <td>18</td>\n",
       "      <td>13</td>\n",
       "      <td>15</td>\n",
       "    </tr>\n",
       "    <tr>\n",
       "      <th>top</th>\n",
       "      <td>https://www.renthop.com/listings/fresh-pond-rd...</td>\n",
       "      <td>Wall Street</td>\n",
       "      <td>Hell's Kitchen, Midtown Manhattan, Manhattan</td>\n",
       "      <td>$2,500</td>\n",
       "      <td>1_Bed</td>\n",
       "      <td>1_Bath</td>\n",
       "      <td>/_Flex_2_</td>\n",
       "    </tr>\n",
       "    <tr>\n",
       "      <th>freq</th>\n",
       "      <td>4</td>\n",
       "      <td>162</td>\n",
       "      <td>1733</td>\n",
       "      <td>236</td>\n",
       "      <td>7691</td>\n",
       "      <td>15253</td>\n",
       "      <td>1101</td>\n",
       "    </tr>\n",
       "  </tbody>\n",
       "</table>\n",
       "</div>"
      ],
      "text/plain": [
       "                                                      url      address  \\\n",
       "count                                               20000        19988   \n",
       "unique                                              18511         9686   \n",
       "top     https://www.renthop.com/listings/fresh-pond-rd...  Wall Street   \n",
       "freq                                                    4          162   \n",
       "\n",
       "                                        neighborhood    rent   beds   baths  \\\n",
       "count                                          20000   20000  20000   20000   \n",
       "unique                                           252    2637     18      13   \n",
       "top     Hell's Kitchen, Midtown Manhattan, Manhattan  $2,500  1_Bed  1_Bath   \n",
       "freq                                            1733     236   7691   15253   \n",
       "\n",
       "            flexs  \n",
       "count        2392  \n",
       "unique         15  \n",
       "top     /_Flex_2_  \n",
       "freq         1101  "
      ]
     },
     "execution_count": 5,
     "metadata": {},
     "output_type": "execute_result"
    }
   ],
   "source": [
    "listings.describe()"
   ]
  },
  {
   "cell_type": "markdown",
   "metadata": {},
   "source": [
    "### Fixing Beds Feature"
   ]
  },
  {
   "cell_type": "code",
   "execution_count": 6,
   "metadata": {},
   "outputs": [
    {
     "data": {
      "text/plain": [
       "array(['Studio', '1_Bed', '2_Bed', '3_Bed', '4_Bed', 'Loft', 'Room',\n",
       "       '5_Bed', '_1_Bed', '_2_Bed', '6_Bed', '_5_Bed', '_Studio', '8_Bed',\n",
       "       '_3_Bed', '_Room', '_4_Bed', '7_Bed'], dtype=object)"
      ]
     },
     "execution_count": 6,
     "metadata": {},
     "output_type": "execute_result"
    }
   ],
   "source": [
    "listings['beds'].unique()"
   ]
  },
  {
   "cell_type": "markdown",
   "metadata": {},
   "source": [
    "We can few duplicate categories. i.e. '5_Bed' and '\\_5_Bed' are same"
   ]
  },
  {
   "cell_type": "code",
   "execution_count": 7,
   "metadata": {},
   "outputs": [
    {
     "data": {
      "text/plain": [
       "0    x_Bed\n",
       "1    x_Bed\n",
       "dtype: object"
      ]
     },
     "execution_count": 7,
     "metadata": {},
     "output_type": "execute_result"
    }
   ],
   "source": [
    "# Setup  for removing extra '_' from categories\n",
    "\n",
    "dumy_strs = pd.Series([\"_x_Bed\",\"x_Bed\"])\n",
    "dumy_strs.map(lambda x: x[1:] if x.startswith('_') else x)"
   ]
  },
  {
   "cell_type": "code",
   "execution_count": 8,
   "metadata": {},
   "outputs": [],
   "source": [
    "# Removindg stating '_'\n",
    "listings['beds'] = listings['beds'].map(lambda x: x[1:] if x.startswith('_') else x) "
   ]
  },
  {
   "cell_type": "code",
   "execution_count": 9,
   "metadata": {},
   "outputs": [
    {
     "data": {
      "text/plain": [
       "array(['Studio', '1_Bed', '2_Bed', '3_Bed', '4_Bed', 'Loft', 'Room',\n",
       "       '5_Bed', '6_Bed', '8_Bed', '7_Bed'], dtype=object)"
      ]
     },
     "execution_count": 9,
     "metadata": {},
     "output_type": "execute_result"
    }
   ],
   "source": [
    "listings['beds'].unique()"
   ]
  },
  {
   "cell_type": "code",
   "execution_count": 10,
   "metadata": {},
   "outputs": [],
   "source": [
    "# Futher Fixing - Setting other Categoris to 0-Beds\n",
    "\n",
    "listings['beds'] = listings['beds'].map(lambda x: x.replace('_Bed', '')) \n",
    "listings['beds'] = listings['beds'].map(lambda x: x.replace('Studio', '0')) \n",
    "listings['beds'] = listings['beds'].map(lambda x: x.replace('Loft', '0'))\n",
    "listings['beds'] = listings['beds'].map(lambda x: x.replace('Room', '0'))"
   ]
  },
  {
   "cell_type": "code",
   "execution_count": 11,
   "metadata": {},
   "outputs": [
    {
     "data": {
      "text/plain": [
       "array([0, 1, 2, 3, 4, 5, 6, 8, 7], dtype=int64)"
      ]
     },
     "execution_count": 11,
     "metadata": {},
     "output_type": "execute_result"
    }
   ],
   "source": [
    "# Contering to Numeric\n",
    "\n",
    "listings['beds'] = pd.to_numeric(listings['beds'])\n",
    "listings['beds'].unique()"
   ]
  },
  {
   "cell_type": "markdown",
   "metadata": {},
   "source": [
    "### Fixing baths feature"
   ]
  },
  {
   "cell_type": "code",
   "execution_count": 12,
   "metadata": {},
   "outputs": [
    {
     "data": {
      "text/plain": [
       "array(['1_Bath', '2_Bath', '1.5_Bath', '3_Bath', '_2_Bath', '_1_Bath',\n",
       "       '4_Bath', '2.5_Bath', '3.5_Bath', '5_Bath', '4.5_Bath',\n",
       "       '_1.5_Bath', '6_Bath'], dtype=object)"
      ]
     },
     "execution_count": 12,
     "metadata": {},
     "output_type": "execute_result"
    }
   ],
   "source": [
    "listings['baths'].unique()"
   ]
  },
  {
   "cell_type": "code",
   "execution_count": 13,
   "metadata": {},
   "outputs": [],
   "source": [
    "listings['baths'] = listings['baths'].map(lambda x: x[1:] if x.startswith('_') else x) \n",
    "listings['baths'] = listings['baths'].map(lambda x: x.replace('_Bath', '')) "
   ]
  },
  {
   "cell_type": "code",
   "execution_count": 14,
   "metadata": {},
   "outputs": [
    {
     "data": {
      "text/plain": [
       "array([1. , 2. , 1.5, 3. , 4. , 2.5, 3.5, 5. , 4.5, 6. ])"
      ]
     },
     "execution_count": 14,
     "metadata": {},
     "output_type": "execute_result"
    }
   ],
   "source": [
    "# Contering to Numeric\n",
    "\n",
    "listings['baths'] = pd.to_numeric(listings['baths'])\n",
    "listings['baths'].unique()"
   ]
  },
  {
   "cell_type": "markdown",
   "metadata": {},
   "source": [
    "### Fixing Flexes "
   ]
  },
  {
   "cell_type": "code",
   "execution_count": 15,
   "metadata": {},
   "outputs": [
    {
     "data": {
      "text/plain": [
       "array([nan, '/_Flex_2_', '/_Flex_1_', '/_Flex_3_', '/_Flex_4_',\n",
       "       '/_Flex_5_', '_/_Flex_4_', '/_Flex_4__', '_/_Flex_2_',\n",
       "       '_/_Flex_3_', '/_Flex_6_', '/_Flex_9_', '/_Flex_5__', '/_Flex_2__',\n",
       "       '/_Flex_3__', '_/_Flex_1_'], dtype=object)"
      ]
     },
     "execution_count": 15,
     "metadata": {},
     "output_type": "execute_result"
    }
   ],
   "source": [
    "listings['flexs'].unique()"
   ]
  },
  {
   "cell_type": "code",
   "execution_count": 16,
   "metadata": {},
   "outputs": [],
   "source": [
    "# listings[listings['flexs'].notnull()]['flexs']"
   ]
  },
  {
   "cell_type": "code",
   "execution_count": 17,
   "metadata": {},
   "outputs": [],
   "source": [
    "listings['flexs'] = listings[listings['flexs'].notnull()]['flexs'].map(lambda x: x[1:] if x.startswith('_') else x)\n",
    "listings['flexs'] = listings[listings['flexs'].notnull()]['flexs'].map(lambda x: x[1:] if x.endswith('_') else x)"
   ]
  },
  {
   "cell_type": "code",
   "execution_count": 18,
   "metadata": {},
   "outputs": [
    {
     "data": {
      "text/plain": [
       "array([nan, '_Flex_2_', '_Flex_1_', '_Flex_3_', '_Flex_4_', '_Flex_5_',\n",
       "       '_Flex_4__', '_Flex_6_', '_Flex_9_', '_Flex_5__', '_Flex_2__',\n",
       "       '_Flex_3__'], dtype=object)"
      ]
     },
     "execution_count": 18,
     "metadata": {},
     "output_type": "execute_result"
    }
   ],
   "source": [
    "listings['flexs'].unique()"
   ]
  },
  {
   "cell_type": "code",
   "execution_count": 19,
   "metadata": {},
   "outputs": [],
   "source": [
    "listings['flexs'] = listings[listings['flexs'].notnull()]['flexs'].map(lambda x: x.replace('_Flex_', '')) \n",
    "listings['flexs'] = listings[listings['flexs'].notnull()]['flexs'].map(lambda x: x.replace('_', '')) "
   ]
  },
  {
   "cell_type": "code",
   "execution_count": 20,
   "metadata": {},
   "outputs": [
    {
     "data": {
      "text/plain": [
       "array([nan, '2', '1', '3', '4', '5', '6', '9'], dtype=object)"
      ]
     },
     "execution_count": 20,
     "metadata": {},
     "output_type": "execute_result"
    }
   ],
   "source": [
    "listings['flexs'].unique()"
   ]
  },
  {
   "cell_type": "code",
   "execution_count": 21,
   "metadata": {},
   "outputs": [
    {
     "data": {
      "text/plain": [
       "array([nan,  2.,  1.,  3.,  4.,  5.,  6.,  9.])"
      ]
     },
     "execution_count": 21,
     "metadata": {},
     "output_type": "execute_result"
    }
   ],
   "source": [
    "# Contering to Numeric\n",
    "\n",
    "listings['flexs'] = pd.to_numeric(listings['flexs'])\n",
    "listings['flexs'].unique()"
   ]
  },
  {
   "cell_type": "markdown",
   "metadata": {},
   "source": [
    "Nan here means we have no Flex"
   ]
  },
  {
   "cell_type": "code",
   "execution_count": 22,
   "metadata": {},
   "outputs": [],
   "source": [
    "listings['flexs'] = listings['flexs'].fillna(0)\n"
   ]
  },
  {
   "cell_type": "code",
   "execution_count": 23,
   "metadata": {},
   "outputs": [
    {
     "data": {
      "text/plain": [
       "array([0., 2., 1., 3., 4., 5., 6., 9.])"
      ]
     },
     "execution_count": 23,
     "metadata": {},
     "output_type": "execute_result"
    }
   ],
   "source": [
    "listings['flexs'].unique()"
   ]
  },
  {
   "cell_type": "code",
   "execution_count": 24,
   "metadata": {},
   "outputs": [
    {
     "data": {
      "text/plain": [
       "0.0    17608\n",
       "2.0     1107\n",
       "3.0      752\n",
       "4.0      262\n",
       "1.0      235\n",
       "5.0       32\n",
       "6.0        3\n",
       "9.0        1\n",
       "Name: flexs, dtype: int64"
      ]
     },
     "execution_count": 24,
     "metadata": {},
     "output_type": "execute_result"
    }
   ],
   "source": [
    "listings['flexs'].value_counts()"
   ]
  },
  {
   "cell_type": "markdown",
   "metadata": {},
   "source": [
    "### Fixing Rent"
   ]
  },
  {
   "cell_type": "code",
   "execution_count": 25,
   "metadata": {},
   "outputs": [],
   "source": [
    "listings['rent'] = listings['rent'].map(lambda x: str(x).replace('$','').replace(',','')).astype('int') "
   ]
  },
  {
   "cell_type": "code",
   "execution_count": 26,
   "metadata": {},
   "outputs": [
    {
     "data": {
      "text/html": [
       "<div>\n",
       "<style scoped>\n",
       "    .dataframe tbody tr th:only-of-type {\n",
       "        vertical-align: middle;\n",
       "    }\n",
       "\n",
       "    .dataframe tbody tr th {\n",
       "        vertical-align: top;\n",
       "    }\n",
       "\n",
       "    .dataframe thead th {\n",
       "        text-align: right;\n",
       "    }\n",
       "</style>\n",
       "<table border=\"1\" class=\"dataframe\">\n",
       "  <thead>\n",
       "    <tr style=\"text-align: right;\">\n",
       "      <th></th>\n",
       "      <th>url</th>\n",
       "      <th>address</th>\n",
       "      <th>neighborhood</th>\n",
       "      <th>rent</th>\n",
       "      <th>beds</th>\n",
       "      <th>baths</th>\n",
       "      <th>flexs</th>\n",
       "    </tr>\n",
       "  </thead>\n",
       "  <tbody>\n",
       "    <tr>\n",
       "      <th>0</th>\n",
       "      <td>https://www.renthop.com/listings/626-1st-avenu...</td>\n",
       "      <td>626 1st Avenue, Apt W17M</td>\n",
       "      <td>Murray Hill, Midtown Manhattan, Manhattan</td>\n",
       "      <td>3408</td>\n",
       "      <td>0</td>\n",
       "      <td>1.0</td>\n",
       "      <td>0.0</td>\n",
       "    </tr>\n",
       "    <tr>\n",
       "      <th>1</th>\n",
       "      <td>https://www.renthop.com/listings/east-20s/b208...</td>\n",
       "      <td>East 20's</td>\n",
       "      <td>Kips Bay, Midtown Manhattan, Manhattan</td>\n",
       "      <td>3500</td>\n",
       "      <td>1</td>\n",
       "      <td>1.0</td>\n",
       "      <td>2.0</td>\n",
       "    </tr>\n",
       "    <tr>\n",
       "      <th>2</th>\n",
       "      <td>https://www.renthop.com/listings/20-exchange-p...</td>\n",
       "      <td>20 Exchange Place, Apt 2601</td>\n",
       "      <td>Financial District, Downtown Manhattan, Manhattan</td>\n",
       "      <td>3673</td>\n",
       "      <td>1</td>\n",
       "      <td>1.0</td>\n",
       "      <td>0.0</td>\n",
       "    </tr>\n",
       "  </tbody>\n",
       "</table>\n",
       "</div>"
      ],
      "text/plain": [
       "                                                 url  \\\n",
       "0  https://www.renthop.com/listings/626-1st-avenu...   \n",
       "1  https://www.renthop.com/listings/east-20s/b208...   \n",
       "2  https://www.renthop.com/listings/20-exchange-p...   \n",
       "\n",
       "                       address  \\\n",
       "0     626 1st Avenue, Apt W17M   \n",
       "1                    East 20's   \n",
       "2  20 Exchange Place, Apt 2601   \n",
       "\n",
       "                                        neighborhood  rent  beds  baths  flexs  \n",
       "0          Murray Hill, Midtown Manhattan, Manhattan  3408     0    1.0    0.0  \n",
       "1             Kips Bay, Midtown Manhattan, Manhattan  3500     1    1.0    2.0  \n",
       "2  Financial District, Downtown Manhattan, Manhattan  3673     1    1.0    0.0  "
      ]
     },
     "execution_count": 26,
     "metadata": {},
     "output_type": "execute_result"
    }
   ],
   "source": [
    "listings.head(3)"
   ]
  },
  {
   "cell_type": "code",
   "execution_count": 27,
   "metadata": {},
   "outputs": [
    {
     "name": "stdout",
     "output_type": "stream",
     "text": [
      "<class 'pandas.core.frame.DataFrame'>\n",
      "RangeIndex: 20000 entries, 0 to 19999\n",
      "Data columns (total 7 columns):\n",
      " #   Column        Non-Null Count  Dtype  \n",
      "---  ------        --------------  -----  \n",
      " 0   url           20000 non-null  object \n",
      " 1   address       19988 non-null  object \n",
      " 2   neighborhood  20000 non-null  object \n",
      " 3   rent          20000 non-null  int32  \n",
      " 4   beds          20000 non-null  int64  \n",
      " 5   baths         20000 non-null  float64\n",
      " 6   flexs         20000 non-null  float64\n",
      "dtypes: float64(2), int32(1), int64(1), object(3)\n",
      "memory usage: 1015.8+ KB\n"
     ]
    }
   ],
   "source": [
    "listings.info()"
   ]
  },
  {
   "cell_type": "markdown",
   "metadata": {},
   "source": [
    "### Zip Codes\n",
    "Using Google Maps For getting Related Zip Codes "
   ]
  },
  {
   "cell_type": "code",
   "execution_count": 29,
   "metadata": {},
   "outputs": [
    {
     "name": "stdout",
     "output_type": "stream",
     "text": [
      "Collecting googlemaps\n",
      "  Using cached googlemaps-4.2.0-py3-none-any.whl (38 kB)\n",
      "Requirement already satisfied, skipping upgrade: requests<3.0,>=2.20.0 in c:\\users\\malik\\appdata\\local\\continuum\\miniconda3\\envs\\python4da\\lib\\site-packages (from googlemaps) (2.23.0)\n",
      "Requirement already satisfied, skipping upgrade: chardet<4,>=3.0.2 in c:\\users\\malik\\appdata\\local\\continuum\\miniconda3\\envs\\python4da\\lib\\site-packages (from requests<3.0,>=2.20.0->googlemaps) (3.0.4)\n",
      "Requirement already satisfied, skipping upgrade: certifi>=2017.4.17 in c:\\users\\malik\\appdata\\local\\continuum\\miniconda3\\envs\\python4da\\lib\\site-packages (from requests<3.0,>=2.20.0->googlemaps) (2019.11.28)\n",
      "Requirement already satisfied, skipping upgrade: urllib3!=1.25.0,!=1.25.1,<1.26,>=1.21.1 in c:\\users\\malik\\appdata\\local\\continuum\\miniconda3\\envs\\python4da\\lib\\site-packages (from requests<3.0,>=2.20.0->googlemaps) (1.25.8)\n",
      "Requirement already satisfied, skipping upgrade: idna<3,>=2.5 in c:\\users\\malik\\appdata\\local\\continuum\\miniconda3\\envs\\python4da\\lib\\site-packages (from requests<3.0,>=2.20.0->googlemaps) (2.9)\n",
      "Installing collected packages: googlemaps\n",
      "Successfully installed googlemaps-4.2.0\n"
     ]
    }
   ],
   "source": [
    "# !pip install -U googlemaps"
   ]
  },
  {
   "cell_type": "code",
   "execution_count": 30,
   "metadata": {},
   "outputs": [
    {
     "data": {
      "text/plain": [
       "'Queens St Queens'"
      ]
     },
     "execution_count": 30,
     "metadata": {},
     "output_type": "execute_result"
    }
   ],
   "source": [
    "listings.loc[3,['address']].values[0] + ' ' + listings.loc[3,['neighborhood']].values[0].split(', ')[-1]"
   ]
  },
  {
   "cell_type": "code",
   "execution_count": 31,
   "metadata": {},
   "outputs": [],
   "source": [
    "\n",
    "def get_key():\n",
    "    file_path = \"Secrets\\key.txt\"\n",
    "    with open(file_path, 'r') as file: \n",
    "          return file.read()\n"
   ]
  },
  {
   "cell_type": "code",
   "execution_count": 32,
   "metadata": {},
   "outputs": [
    {
     "data": {
      "text/plain": [
       "\"East 20's Manhattan\""
      ]
     },
     "execution_count": 32,
     "metadata": {},
     "output_type": "execute_result"
    }
   ],
   "source": [
    "import googlemaps \n",
    " \n",
    "gmaps = googlemaps.Client(key=get_key()) \n",
    " \n",
    "# removing ',' from a record | So, we can get the cleaned string to get zipcode\n",
    "r = listings.loc[1,['address']].values[0] + ' ' + listings.loc[1,['neighborhood']].values[0].split(', ')[-1] \n",
    "r "
   ]
  },
  {
   "cell_type": "code",
   "execution_count": 33,
   "metadata": {},
   "outputs": [
    {
     "data": {
      "text/plain": [
       "[{'address_components': [{'long_name': 'East 20th Street',\n",
       "    'short_name': 'E 20th St',\n",
       "    'types': ['route']},\n",
       "   {'long_name': 'Manhattan',\n",
       "    'short_name': 'Manhattan',\n",
       "    'types': ['political', 'sublocality', 'sublocality_level_1']},\n",
       "   {'long_name': 'New York',\n",
       "    'short_name': 'New York',\n",
       "    'types': ['locality', 'political']},\n",
       "   {'long_name': 'New York County',\n",
       "    'short_name': 'New York County',\n",
       "    'types': ['administrative_area_level_2', 'political']},\n",
       "   {'long_name': 'New York',\n",
       "    'short_name': 'NY',\n",
       "    'types': ['administrative_area_level_1', 'political']},\n",
       "   {'long_name': 'United States',\n",
       "    'short_name': 'US',\n",
       "    'types': ['country', 'political']}],\n",
       "  'formatted_address': 'E 20th St, New York, NY, USA',\n",
       "  'geometry': {'bounds': {'northeast': {'lat': 40.7401872,\n",
       "     'lng': -73.97418739999999},\n",
       "    'southwest': {'lat': 40.7316118, 'lng': -73.9910835}},\n",
       "   'location': {'lat': 40.7360191, 'lng': -73.9822744},\n",
       "   'location_type': 'GEOMETRIC_CENTER',\n",
       "   'viewport': {'northeast': {'lat': 40.7401872, 'lng': -73.97418739999999},\n",
       "    'southwest': {'lat': 40.7316118, 'lng': -73.9910835}}},\n",
       "  'place_id': 'ChIJA8hSoQpZwokRjdy0JwwWgoU',\n",
       "  'types': ['route']}]"
      ]
     },
     "execution_count": 33,
     "metadata": {},
     "output_type": "execute_result"
    }
   ],
   "source": [
    "# Fetching Related data\n",
    "geocode_result = gmaps.geocode(r) \n",
    " \n",
    "geocode_result "
   ]
  },
  {
   "cell_type": "code",
   "execution_count": 34,
   "metadata": {},
   "outputs": [
    {
     "data": {
      "text/plain": [
       "[{'long_name': 'East 20th Street',\n",
       "  'short_name': 'E 20th St',\n",
       "  'types': ['route']},\n",
       " {'long_name': 'Manhattan',\n",
       "  'short_name': 'Manhattan',\n",
       "  'types': ['political', 'sublocality', 'sublocality_level_1']},\n",
       " {'long_name': 'New York',\n",
       "  'short_name': 'New York',\n",
       "  'types': ['locality', 'political']},\n",
       " {'long_name': 'New York County',\n",
       "  'short_name': 'New York County',\n",
       "  'types': ['administrative_area_level_2', 'political']},\n",
       " {'long_name': 'New York',\n",
       "  'short_name': 'NY',\n",
       "  'types': ['administrative_area_level_1', 'political']},\n",
       " {'long_name': 'United States',\n",
       "  'short_name': 'US',\n",
       "  'types': ['country', 'political']}]"
      ]
     },
     "execution_count": 34,
     "metadata": {},
     "output_type": "execute_result"
    }
   ],
   "source": [
    "geocode_result[0]['address_components']"
   ]
  },
  {
   "cell_type": "markdown",
   "metadata": {},
   "source": [
    "Dictonary having 'types' key with ['postal_code'] \n",
    "have 'short_name' key with zipcode"
   ]
  },
  {
   "cell_type": "code",
   "execution_count": 35,
   "metadata": {},
   "outputs": [],
   "source": [
    "# looping trough this data to get zipcode\n",
    "for piece_dict in geocode_result[0]['address_components']: \n",
    "    if 'postal_code' in piece_dict['types'] : \n",
    "        print(piece_dict['short_name']) "
   ]
  },
  {
   "cell_type": "markdown",
   "metadata": {},
   "source": [
    "**Putting all together**"
   ]
  },
  {
   "cell_type": "code",
   "execution_count": 36,
   "metadata": {},
   "outputs": [],
   "source": [
    "import re \n",
    "from IPython.display import clear_output\n",
    "\n",
    "\n",
    "def get_zip(row): \n",
    "    \"\"\"\n",
    "    Source: ML Blueprints\n",
    "    \"\"\"\n",
    "    # Remove Previous Print and add new\n",
    "    clear_output(wait=True)\n",
    "    print(\"...\")\n",
    "    print(\"...\")\n",
    "    \n",
    "    try: \n",
    "        # removing ','\n",
    "        addr = row['address'] + ' ' + row['neighborhood'].split(', ')[-1]     \n",
    "        \n",
    "        print(addr)\n",
    "    \n",
    "        if re.match('^\\d+\\s\\w', addr): \n",
    "            geocode_result = gmaps.geocode(addr) \n",
    "            for piece in geocode_result[0]['address_components']: \n",
    "                if 'postal_code' in piece['types']: \n",
    "                    return piece['short_name'] \n",
    "                else: \n",
    "                    pass \n",
    "        else: \n",
    "            return np.nan \n",
    "    except: \n",
    "        return np.nan"
   ]
  },
  {
   "cell_type": "code",
   "execution_count": 37,
   "metadata": {},
   "outputs": [
    {
     "name": "stdout",
     "output_type": "stream",
     "text": [
      "...\n",
      "...\n",
      "Cliff St Manhattan\n"
     ]
    }
   ],
   "source": [
    "listings['zip'] = listings.apply(get_zip, axis=1) "
   ]
  },
  {
   "cell_type": "code",
   "execution_count": 38,
   "metadata": {},
   "outputs": [
    {
     "data": {
      "text/plain": [
       "array(['10016', nan, '10005', '10036', '11222', '10038', '10128', '10002',\n",
       "       '10017', '10028', '10019', '10280', '10033', '11217', '10003',\n",
       "       '10032', '10011', '10009', '10025', '10012', '10014', '10023',\n",
       "       '11216', '10022', '11109', '10018', '10069', '10021', '10024',\n",
       "       '10001', '11230', '10004', '11237', '11225', '11210', '10027',\n",
       "       '11201', '11101', '11218', '11221', '10040', '10010', '10037',\n",
       "       '11213', '10065', '10106', '11223', '11102', '10075', '11206',\n",
       "       '10031', '11211', '10013', '10026', '10030', '10029', None,\n",
       "       '10039', '10270', '11205', '10463', '11203', '11220', '11385',\n",
       "       '11238', '11249', '11207', '11209', '10034', '11105', '11374',\n",
       "       '10035', '11103', '10007', '11226', '11215', '10471', '10522',\n",
       "       '10467', '10282', '11232', '10006', '11234', '11233', '11231',\n",
       "       '11236', '11691', '11208', '11229', '11219', '11235', '10459',\n",
       "       '11379', '11355', '11370', '10453', '11228', '10301', '11106',\n",
       "       '11418', '11104', '11372', '10451', '10281', '10162', '10456',\n",
       "       '10468', '11214', '11375', '10458', '10701', '10304', '11377',\n",
       "       '10454', '11204', '10455', '10466', '11434', '11435', '17603',\n",
       "       '10460', '10465', '10044', '10469', '10461', '10801', '10452',\n",
       "       '10167', '11692', '11212', '10123', '11694', '11559'], dtype=object)"
      ]
     },
     "execution_count": 38,
     "metadata": {},
     "output_type": "execute_result"
    }
   ],
   "source": [
    "listings['zip'].unique()"
   ]
  },
  {
   "cell_type": "markdown",
   "metadata": {},
   "source": [
    "Verify that None and np.nan are getting treated as NULLs"
   ]
  },
  {
   "cell_type": "code",
   "execution_count": 39,
   "metadata": {},
   "outputs": [
    {
     "data": {
      "text/plain": [
       "10016    291\n",
       "10019    271\n",
       "10036    202\n",
       "11221    200\n",
       "10003    197\n",
       "        ... \n",
       "10455      1\n",
       "11418      1\n",
       "10123      1\n",
       "10281      1\n",
       "10469      1\n",
       "Name: zip, Length: 131, dtype: int64"
      ]
     },
     "execution_count": 39,
     "metadata": {},
     "output_type": "execute_result"
    }
   ],
   "source": [
    "listings['zip'].value_counts()"
   ]
  },
  {
   "cell_type": "code",
   "execution_count": 40,
   "metadata": {},
   "outputs": [
    {
     "data": {
      "text/plain": [
       "dict_keys(['10016', '10019', '10036', '11221', '10003', '10014', '10002', '11216', '10025', '10011', '10128', '10029', '10038', '10023', '11206', '10009', '10032', '11201', '11211', '10022', '10031', '10028', '11238', '10005', '10001', '10010', '10013', '11226', '10017', '10018', '10024', '11225', '10075', '11213', '10065', '10021', '10012', '11233', '10033', '11215', '11230', '11222', '11237', '11217', '10007', '11220', '11249', '11207', '11205', '10034', '10027', '10069', '10040', '11209', '10282', '11385', '10037', '11218', '10280', '10030', '10463', '11101', '11235', '11231', '11203', '10026', '11102', '11109', '11210', '10035', '10006', '10039', '11214', '11229', '10004', '11232', '11223', '11208', '11370', '11228', '10162', '11219', '10471', '10270', '11236', '11234', '11204', '10468', '10454', '11375', '10304', '10459', '10458', '11105', '10452', '11379', '11103', '10044', '10465', '10701', '11212', '10466', '11374', '10461', '11372', '11106', '11377', '11104', '10451', '10301', '10456', '11694', '10167', '11559', '11692', '10467', '10453', '10522', '10460', '17603', '10801', '11435', '10106', '11355', '11434', '11691', '10455', '11418', '10123', '10281', '10469'])"
      ]
     },
     "execution_count": 40,
     "metadata": {},
     "output_type": "execute_result"
    }
   ],
   "source": [
    "dict(listings['zip'].value_counts()).keys()"
   ]
  },
  {
   "cell_type": "code",
   "execution_count": 41,
   "metadata": {},
   "outputs": [
    {
     "data": {
      "text/plain": [
       "13115"
      ]
     },
     "execution_count": 41,
     "metadata": {},
     "output_type": "execute_result"
    }
   ],
   "source": [
    "total_null = len(listings[listings['zip'].isnull()]['zip'])\n",
    "total_null"
   ]
  },
  {
   "cell_type": "code",
   "execution_count": 42,
   "metadata": {},
   "outputs": [
    {
     "data": {
      "text/plain": [
       "6885"
      ]
     },
     "execution_count": 42,
     "metadata": {},
     "output_type": "execute_result"
    }
   ],
   "source": [
    "listings.shape[0] - total_null # we only got zip for this number of listings"
   ]
  },
  {
   "cell_type": "markdown",
   "metadata": {},
   "source": [
    "We Lost most of the data, anyways that would be useful to have zip codes"
   ]
  },
  {
   "cell_type": "markdown",
   "metadata": {},
   "source": [
    "### Saving data"
   ]
  },
  {
   "cell_type": "code",
   "execution_count": 43,
   "metadata": {},
   "outputs": [],
   "source": [
    "listings.to_csv('data\\listings_interm_with_null_zips_2.csv', index = False)"
   ]
  },
  {
   "cell_type": "code",
   "execution_count": 44,
   "metadata": {},
   "outputs": [],
   "source": [
    "listings[listings['zip'].notnull()].to_csv('data\\listings_interm_with_zips_2.csv', index = False)"
   ]
  },
  {
   "cell_type": "code",
   "execution_count": null,
   "metadata": {},
   "outputs": [],
   "source": []
  }
 ],
 "metadata": {
  "kernelspec": {
   "display_name": "Python 3",
   "language": "python",
   "name": "python3"
  },
  "language_info": {
   "codemirror_mode": {
    "name": "ipython",
    "version": 3
   },
   "file_extension": ".py",
   "mimetype": "text/x-python",
   "name": "python",
   "nbconvert_exporter": "python",
   "pygments_lexer": "ipython3",
   "version": "3.8.2"
  }
 },
 "nbformat": 4,
 "nbformat_minor": 4
}

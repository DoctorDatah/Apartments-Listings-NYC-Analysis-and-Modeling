{
 "cells": [
  {
   "cell_type": "markdown",
   "metadata": {},
   "source": [
    "# Intermediate Preprocessing"
   ]
  },
  {
   "cell_type": "code",
   "execution_count": 26,
   "metadata": {},
   "outputs": [],
   "source": [
    "import numpy as np \n",
    "import pandas as pd \n",
    "import matplotlib.pyplot as plt \n",
    "%matplotlib inline "
   ]
  },
  {
   "cell_type": "code",
   "execution_count": 27,
   "metadata": {},
   "outputs": [
    {
     "data": {
      "text/html": [
       "<div>\n",
       "<style scoped>\n",
       "    .dataframe tbody tr th:only-of-type {\n",
       "        vertical-align: middle;\n",
       "    }\n",
       "\n",
       "    .dataframe tbody tr th {\n",
       "        vertical-align: top;\n",
       "    }\n",
       "\n",
       "    .dataframe thead th {\n",
       "        text-align: right;\n",
       "    }\n",
       "</style>\n",
       "<table border=\"1\" class=\"dataframe\">\n",
       "  <thead>\n",
       "    <tr style=\"text-align: right;\">\n",
       "      <th></th>\n",
       "      <th>url</th>\n",
       "      <th>address</th>\n",
       "      <th>neighborhood</th>\n",
       "      <th>rent</th>\n",
       "      <th>beds</th>\n",
       "      <th>baths</th>\n",
       "      <th>flexs</th>\n",
       "    </tr>\n",
       "  </thead>\n",
       "  <tbody>\n",
       "    <tr>\n",
       "      <th>0</th>\n",
       "      <td>https://www.renthop.com/listings/gold-st/12c/1...</td>\n",
       "      <td>Gold St.</td>\n",
       "      <td>Downtown Brooklyn, Northwestern Brooklyn, Broo...</td>\n",
       "      <td>$3,395</td>\n",
       "      <td>1_Bed</td>\n",
       "      <td>1_Bath</td>\n",
       "      <td>NaN</td>\n",
       "    </tr>\n",
       "    <tr>\n",
       "      <th>1</th>\n",
       "      <td>https://www.renthop.com/listings/gold-st/9d/15...</td>\n",
       "      <td>Gold St.</td>\n",
       "      <td>Downtown Brooklyn, Northwestern Brooklyn, Broo...</td>\n",
       "      <td>$3,071</td>\n",
       "      <td>1_Bed</td>\n",
       "      <td>1_Bath</td>\n",
       "      <td>NaN</td>\n",
       "    </tr>\n",
       "    <tr>\n",
       "      <th>2</th>\n",
       "      <td>https://www.renthop.com/listings/141-east-56th...</td>\n",
       "      <td>141 East 56th Street, Apt 11A</td>\n",
       "      <td>Midtown East, Midtown Manhattan, Manhattan</td>\n",
       "      <td>$4,925</td>\n",
       "      <td>2_Bed</td>\n",
       "      <td>1_Bath</td>\n",
       "      <td>NaN</td>\n",
       "    </tr>\n",
       "    <tr>\n",
       "      <th>3</th>\n",
       "      <td>https://www.renthop.com/listings/west-street/2...</td>\n",
       "      <td>west street</td>\n",
       "      <td>Financial District, Downtown Manhattan, Manhattan</td>\n",
       "      <td>$3,750</td>\n",
       "      <td>1_Bed</td>\n",
       "      <td>1_Bath</td>\n",
       "      <td>/_Flex_3_</td>\n",
       "    </tr>\n",
       "    <tr>\n",
       "      <th>4</th>\n",
       "      <td>https://www.renthop.com/listings/382-wadsworth...</td>\n",
       "      <td>382 Wadsworth Ave, Apt 4B</td>\n",
       "      <td>Fort George, Washington Heights, Upper Manhatt...</td>\n",
       "      <td>$4,195</td>\n",
       "      <td>5_Bed</td>\n",
       "      <td>2_Bath</td>\n",
       "      <td>NaN</td>\n",
       "    </tr>\n",
       "  </tbody>\n",
       "</table>\n",
       "</div>"
      ],
      "text/plain": [
       "                                                 url  \\\n",
       "0  https://www.renthop.com/listings/gold-st/12c/1...   \n",
       "1  https://www.renthop.com/listings/gold-st/9d/15...   \n",
       "2  https://www.renthop.com/listings/141-east-56th...   \n",
       "3  https://www.renthop.com/listings/west-street/2...   \n",
       "4  https://www.renthop.com/listings/382-wadsworth...   \n",
       "\n",
       "                         address  \\\n",
       "0                       Gold St.   \n",
       "1                       Gold St.   \n",
       "2  141 East 56th Street, Apt 11A   \n",
       "3                   west street    \n",
       "4      382 Wadsworth Ave, Apt 4B   \n",
       "\n",
       "                                        neighborhood    rent   beds   baths  \\\n",
       "0  Downtown Brooklyn, Northwestern Brooklyn, Broo...  $3,395  1_Bed  1_Bath   \n",
       "1  Downtown Brooklyn, Northwestern Brooklyn, Broo...  $3,071  1_Bed  1_Bath   \n",
       "2         Midtown East, Midtown Manhattan, Manhattan  $4,925  2_Bed  1_Bath   \n",
       "3  Financial District, Downtown Manhattan, Manhattan  $3,750  1_Bed  1_Bath   \n",
       "4  Fort George, Washington Heights, Upper Manhatt...  $4,195  5_Bed  2_Bath   \n",
       "\n",
       "       flexs  \n",
       "0        NaN  \n",
       "1        NaN  \n",
       "2        NaN  \n",
       "3  /_Flex_3_  \n",
       "4        NaN  "
      ]
     },
     "execution_count": 27,
     "metadata": {},
     "output_type": "execute_result"
    }
   ],
   "source": [
    "listings = pd.read_csv('data\\listings.csv')\n",
    "listings.head()"
   ]
  },
  {
   "cell_type": "code",
   "execution_count": 28,
   "metadata": {},
   "outputs": [
    {
     "name": "stdout",
     "output_type": "stream",
     "text": [
      "<class 'pandas.core.frame.DataFrame'>\n",
      "RangeIndex: 2000 entries, 0 to 1999\n",
      "Data columns (total 7 columns):\n",
      "url             2000 non-null object\n",
      "address         1999 non-null object\n",
      "neighborhood    2000 non-null object\n",
      "rent            2000 non-null object\n",
      "beds            2000 non-null object\n",
      "baths           2000 non-null object\n",
      "flexs           267 non-null object\n",
      "dtypes: object(7)\n",
      "memory usage: 109.5+ KB\n"
     ]
    }
   ],
   "source": [
    "listings.info()"
   ]
  },
  {
   "cell_type": "code",
   "execution_count": 29,
   "metadata": {},
   "outputs": [
    {
     "data": {
      "text/html": [
       "<div>\n",
       "<style scoped>\n",
       "    .dataframe tbody tr th:only-of-type {\n",
       "        vertical-align: middle;\n",
       "    }\n",
       "\n",
       "    .dataframe tbody tr th {\n",
       "        vertical-align: top;\n",
       "    }\n",
       "\n",
       "    .dataframe thead th {\n",
       "        text-align: right;\n",
       "    }\n",
       "</style>\n",
       "<table border=\"1\" class=\"dataframe\">\n",
       "  <thead>\n",
       "    <tr style=\"text-align: right;\">\n",
       "      <th></th>\n",
       "      <th>url</th>\n",
       "      <th>address</th>\n",
       "      <th>neighborhood</th>\n",
       "      <th>rent</th>\n",
       "      <th>beds</th>\n",
       "      <th>baths</th>\n",
       "      <th>flexs</th>\n",
       "    </tr>\n",
       "  </thead>\n",
       "  <tbody>\n",
       "    <tr>\n",
       "      <th>count</th>\n",
       "      <td>2000</td>\n",
       "      <td>1999</td>\n",
       "      <td>2000</td>\n",
       "      <td>2000</td>\n",
       "      <td>2000</td>\n",
       "      <td>2000</td>\n",
       "      <td>267</td>\n",
       "    </tr>\n",
       "    <tr>\n",
       "      <th>unique</th>\n",
       "      <td>1848</td>\n",
       "      <td>1418</td>\n",
       "      <td>129</td>\n",
       "      <td>684</td>\n",
       "      <td>12</td>\n",
       "      <td>11</td>\n",
       "      <td>8</td>\n",
       "    </tr>\n",
       "    <tr>\n",
       "      <th>top</th>\n",
       "      <td>https://www.renthop.com/listings/28th-st/50/15...</td>\n",
       "      <td>Wall Street</td>\n",
       "      <td>Hell's Kitchen, Midtown Manhattan, Manhattan</td>\n",
       "      <td>$2,800</td>\n",
       "      <td>1_Bed</td>\n",
       "      <td>1_Bath</td>\n",
       "      <td>/_Flex_2_</td>\n",
       "    </tr>\n",
       "    <tr>\n",
       "      <th>freq</th>\n",
       "      <td>3</td>\n",
       "      <td>19</td>\n",
       "      <td>173</td>\n",
       "      <td>34</td>\n",
       "      <td>694</td>\n",
       "      <td>1539</td>\n",
       "      <td>112</td>\n",
       "    </tr>\n",
       "  </tbody>\n",
       "</table>\n",
       "</div>"
      ],
      "text/plain": [
       "                                                      url      address  \\\n",
       "count                                                2000         1999   \n",
       "unique                                               1848         1418   \n",
       "top     https://www.renthop.com/listings/28th-st/50/15...  Wall Street   \n",
       "freq                                                    3           19   \n",
       "\n",
       "                                        neighborhood    rent   beds   baths  \\\n",
       "count                                           2000    2000   2000    2000   \n",
       "unique                                           129     684     12      11   \n",
       "top     Hell's Kitchen, Midtown Manhattan, Manhattan  $2,800  1_Bed  1_Bath   \n",
       "freq                                             173      34    694    1539   \n",
       "\n",
       "            flexs  \n",
       "count         267  \n",
       "unique          8  \n",
       "top     /_Flex_2_  \n",
       "freq          112  "
      ]
     },
     "execution_count": 29,
     "metadata": {},
     "output_type": "execute_result"
    }
   ],
   "source": [
    "listings.describe()"
   ]
  },
  {
   "cell_type": "markdown",
   "metadata": {},
   "source": [
    "- Fixing Beds Feature"
   ]
  },
  {
   "cell_type": "code",
   "execution_count": 30,
   "metadata": {},
   "outputs": [
    {
     "data": {
      "text/plain": [
       "array(['1_Bed', '2_Bed', '5_Bed', 'Studio', '_2_Bed', '3_Bed', '4_Bed',\n",
       "       'Loft', 'Room', '_5_Bed', '_Room', '_4_Bed'], dtype=object)"
      ]
     },
     "execution_count": 30,
     "metadata": {},
     "output_type": "execute_result"
    }
   ],
   "source": [
    "listings['beds'].unique()"
   ]
  },
  {
   "cell_type": "markdown",
   "metadata": {},
   "source": [
    "We can few duplicate categories. i.e. '5_Bed' and '\\_5_Bed' are same"
   ]
  },
  {
   "cell_type": "code",
   "execution_count": 31,
   "metadata": {},
   "outputs": [
    {
     "data": {
      "text/plain": [
       "0    x_Bed\n",
       "1    x_Bed\n",
       "dtype: object"
      ]
     },
     "execution_count": 31,
     "metadata": {},
     "output_type": "execute_result"
    }
   ],
   "source": [
    "# Setup  for removing extra '_' from categories\n",
    "\n",
    "dumy_strs = pd.Series([\"_x_Bed\",\"x_Bed\"])\n",
    "dumy_strs.map(lambda x: x[1:] if x.startswith('_') else x)"
   ]
  },
  {
   "cell_type": "code",
   "execution_count": 32,
   "metadata": {},
   "outputs": [],
   "source": [
    "# Removindg stating '_'\n",
    "listings['beds'] = listings['beds'].map(lambda x: x[1:] if x.startswith('_') else x) "
   ]
  },
  {
   "cell_type": "code",
   "execution_count": 33,
   "metadata": {},
   "outputs": [
    {
     "data": {
      "text/plain": [
       "array(['1_Bed', '2_Bed', '5_Bed', 'Studio', '3_Bed', '4_Bed', 'Loft',\n",
       "       'Room'], dtype=object)"
      ]
     },
     "execution_count": 33,
     "metadata": {},
     "output_type": "execute_result"
    }
   ],
   "source": [
    "listings['beds'].unique()"
   ]
  },
  {
   "cell_type": "code",
   "execution_count": 34,
   "metadata": {},
   "outputs": [],
   "source": [
    "# Futher Fixing - Setting other Categoris to 0-Beds\n",
    "\n",
    "listings['beds'] = listings['beds'].map(lambda x: x.replace('_Bed', '')) \n",
    "listings['beds'] = listings['beds'].map(lambda x: x.replace('Studio', '0')) \n",
    "listings['beds'] = listings['beds'].map(lambda x: x.replace('Loft', '0'))\n",
    "listings['beds'] = listings['beds'].map(lambda x: x.replace('Room', '0'))"
   ]
  },
  {
   "cell_type": "code",
   "execution_count": 35,
   "metadata": {},
   "outputs": [
    {
     "data": {
      "text/plain": [
       "array([1, 2, 5, 0, 3, 4], dtype=int64)"
      ]
     },
     "execution_count": 35,
     "metadata": {},
     "output_type": "execute_result"
    }
   ],
   "source": [
    "# Contering to Numeric\n",
    "\n",
    "listings['beds'] = pd.to_numeric(listings['beds'])\n",
    "listings['beds'].unique()"
   ]
  },
  {
   "cell_type": "markdown",
   "metadata": {},
   "source": [
    "- Fixing baths feature"
   ]
  },
  {
   "cell_type": "code",
   "execution_count": 36,
   "metadata": {},
   "outputs": [
    {
     "data": {
      "text/plain": [
       "array(['1_Bath', '2_Bath', '3_Bath', '1.5_Bath', '2.5_Bath', '4_Bath',\n",
       "       '_2.5_Bath', '_1_Bath', '4.5_Bath', '_2_Bath', '5_Bath'],\n",
       "      dtype=object)"
      ]
     },
     "execution_count": 36,
     "metadata": {},
     "output_type": "execute_result"
    }
   ],
   "source": [
    "listings['baths'].unique()"
   ]
  },
  {
   "cell_type": "code",
   "execution_count": 37,
   "metadata": {},
   "outputs": [],
   "source": [
    "listings['baths'] = listings['baths'].map(lambda x: x[1:] if x.startswith('_') else x) \n",
    "listings['baths'] = listings['baths'].map(lambda x: x.replace('_Bath', '')) "
   ]
  },
  {
   "cell_type": "code",
   "execution_count": 38,
   "metadata": {},
   "outputs": [
    {
     "data": {
      "text/plain": [
       "array([1. , 2. , 3. , 1.5, 2.5, 4. , 4.5, 5. ])"
      ]
     },
     "execution_count": 38,
     "metadata": {},
     "output_type": "execute_result"
    }
   ],
   "source": [
    "# Contering to Numeric\n",
    "\n",
    "listings['baths'] = pd.to_numeric(listings['baths'])\n",
    "listings['baths'].unique()"
   ]
  },
  {
   "cell_type": "markdown",
   "metadata": {},
   "source": [
    "- Fixing Flexes "
   ]
  },
  {
   "cell_type": "code",
   "execution_count": 39,
   "metadata": {},
   "outputs": [
    {
     "data": {
      "text/plain": [
       "array([nan, '/_Flex_3_', '/_Flex_2_', '/_Flex_1_', '/_Flex_4_',\n",
       "       '/_Flex_5_', '/_Flex_6_', '_/_Flex_3_', '/_Flex_2__'], dtype=object)"
      ]
     },
     "execution_count": 39,
     "metadata": {},
     "output_type": "execute_result"
    }
   ],
   "source": [
    "listings['flexs'].unique()"
   ]
  },
  {
   "cell_type": "code",
   "execution_count": 40,
   "metadata": {},
   "outputs": [],
   "source": [
    "# listings[listings['flexs'].notnull()]['flexs']"
   ]
  },
  {
   "cell_type": "code",
   "execution_count": 41,
   "metadata": {},
   "outputs": [],
   "source": [
    "listings['flexs'] = listings[listings['flexs'].notnull()]['flexs'].map(lambda x: x[1:] if x.startswith('_') else x)\n",
    "listings['flexs'] = listings[listings['flexs'].notnull()]['flexs'].map(lambda x: x[1:] if x.endswith('_') else x)"
   ]
  },
  {
   "cell_type": "code",
   "execution_count": 42,
   "metadata": {},
   "outputs": [
    {
     "data": {
      "text/plain": [
       "array([nan, '_Flex_3_', '_Flex_2_', '_Flex_1_', '_Flex_4_', '_Flex_5_',\n",
       "       '_Flex_6_', '_Flex_2__'], dtype=object)"
      ]
     },
     "execution_count": 42,
     "metadata": {},
     "output_type": "execute_result"
    }
   ],
   "source": [
    "listings['flexs'].unique()"
   ]
  },
  {
   "cell_type": "code",
   "execution_count": 47,
   "metadata": {},
   "outputs": [],
   "source": [
    "listings['flexs'] = listings[listings['flexs'].notnull()]['flexs'].map(lambda x: x.replace('_Flex_', '')) \n",
    "listings['flexs'] = listings[listings['flexs'].notnull()]['flexs'].map(lambda x: x.replace('_', '')) "
   ]
  },
  {
   "cell_type": "code",
   "execution_count": 48,
   "metadata": {},
   "outputs": [
    {
     "data": {
      "text/plain": [
       "array([nan, '3', '2', '1', '4', '5', '6'], dtype=object)"
      ]
     },
     "execution_count": 48,
     "metadata": {},
     "output_type": "execute_result"
    }
   ],
   "source": [
    "listings['flexs'].unique()"
   ]
  },
  {
   "cell_type": "code",
   "execution_count": 50,
   "metadata": {},
   "outputs": [
    {
     "data": {
      "text/plain": [
       "array([nan,  3.,  2.,  1.,  4.,  5.,  6.])"
      ]
     },
     "execution_count": 50,
     "metadata": {},
     "output_type": "execute_result"
    }
   ],
   "source": [
    "# Contering to Numeric\n",
    "\n",
    "listings['flexs'] = pd.to_numeric(listings['flexs'])\n",
    "listings['flexs'].unique()"
   ]
  },
  {
   "cell_type": "markdown",
   "metadata": {},
   "source": [
    "- Fixing Rent"
   ]
  },
  {
   "cell_type": "code",
   "execution_count": 53,
   "metadata": {},
   "outputs": [],
   "source": [
    "listings['rent'] = listings['rent'].map(lambda x: str(x).replace('$','').replace(',','')).astype('int') "
   ]
  },
  {
   "cell_type": "code",
   "execution_count": 55,
   "metadata": {},
   "outputs": [
    {
     "data": {
      "text/html": [
       "<div>\n",
       "<style scoped>\n",
       "    .dataframe tbody tr th:only-of-type {\n",
       "        vertical-align: middle;\n",
       "    }\n",
       "\n",
       "    .dataframe tbody tr th {\n",
       "        vertical-align: top;\n",
       "    }\n",
       "\n",
       "    .dataframe thead th {\n",
       "        text-align: right;\n",
       "    }\n",
       "</style>\n",
       "<table border=\"1\" class=\"dataframe\">\n",
       "  <thead>\n",
       "    <tr style=\"text-align: right;\">\n",
       "      <th></th>\n",
       "      <th>url</th>\n",
       "      <th>address</th>\n",
       "      <th>neighborhood</th>\n",
       "      <th>rent</th>\n",
       "      <th>beds</th>\n",
       "      <th>baths</th>\n",
       "      <th>flexs</th>\n",
       "    </tr>\n",
       "  </thead>\n",
       "  <tbody>\n",
       "    <tr>\n",
       "      <th>0</th>\n",
       "      <td>https://www.renthop.com/listings/gold-st/12c/1...</td>\n",
       "      <td>Gold St.</td>\n",
       "      <td>Downtown Brooklyn, Northwestern Brooklyn, Broo...</td>\n",
       "      <td>3395</td>\n",
       "      <td>1</td>\n",
       "      <td>1.0</td>\n",
       "      <td>NaN</td>\n",
       "    </tr>\n",
       "    <tr>\n",
       "      <th>1</th>\n",
       "      <td>https://www.renthop.com/listings/gold-st/9d/15...</td>\n",
       "      <td>Gold St.</td>\n",
       "      <td>Downtown Brooklyn, Northwestern Brooklyn, Broo...</td>\n",
       "      <td>3071</td>\n",
       "      <td>1</td>\n",
       "      <td>1.0</td>\n",
       "      <td>NaN</td>\n",
       "    </tr>\n",
       "    <tr>\n",
       "      <th>2</th>\n",
       "      <td>https://www.renthop.com/listings/141-east-56th...</td>\n",
       "      <td>141 East 56th Street, Apt 11A</td>\n",
       "      <td>Midtown East, Midtown Manhattan, Manhattan</td>\n",
       "      <td>4925</td>\n",
       "      <td>2</td>\n",
       "      <td>1.0</td>\n",
       "      <td>NaN</td>\n",
       "    </tr>\n",
       "  </tbody>\n",
       "</table>\n",
       "</div>"
      ],
      "text/plain": [
       "                                                 url  \\\n",
       "0  https://www.renthop.com/listings/gold-st/12c/1...   \n",
       "1  https://www.renthop.com/listings/gold-st/9d/15...   \n",
       "2  https://www.renthop.com/listings/141-east-56th...   \n",
       "\n",
       "                         address  \\\n",
       "0                       Gold St.   \n",
       "1                       Gold St.   \n",
       "2  141 East 56th Street, Apt 11A   \n",
       "\n",
       "                                        neighborhood  rent  beds  baths  flexs  \n",
       "0  Downtown Brooklyn, Northwestern Brooklyn, Broo...  3395     1    1.0    NaN  \n",
       "1  Downtown Brooklyn, Northwestern Brooklyn, Broo...  3071     1    1.0    NaN  \n",
       "2         Midtown East, Midtown Manhattan, Manhattan  4925     2    1.0    NaN  "
      ]
     },
     "execution_count": 55,
     "metadata": {},
     "output_type": "execute_result"
    }
   ],
   "source": [
    "listings.head(3)"
   ]
  },
  {
   "cell_type": "code",
   "execution_count": 56,
   "metadata": {},
   "outputs": [
    {
     "name": "stdout",
     "output_type": "stream",
     "text": [
      "<class 'pandas.core.frame.DataFrame'>\n",
      "RangeIndex: 2000 entries, 0 to 1999\n",
      "Data columns (total 7 columns):\n",
      "url             2000 non-null object\n",
      "address         1999 non-null object\n",
      "neighborhood    2000 non-null object\n",
      "rent            2000 non-null int32\n",
      "beds            2000 non-null int64\n",
      "baths           2000 non-null float64\n",
      "flexs           267 non-null float64\n",
      "dtypes: float64(2), int32(1), int64(1), object(3)\n",
      "memory usage: 101.7+ KB\n"
     ]
    }
   ],
   "source": [
    "listings.info()"
   ]
  },
  {
   "cell_type": "markdown",
   "metadata": {},
   "source": [
    "### Saving data"
   ]
  },
  {
   "cell_type": "code",
   "execution_count": 58,
   "metadata": {},
   "outputs": [],
   "source": [
    "listings.to_csv('data\\listings_interm.csv', index = False)"
   ]
  },
  {
   "cell_type": "code",
   "execution_count": null,
   "metadata": {},
   "outputs": [],
   "source": []
  }
 ],
 "metadata": {
  "kernelspec": {
   "display_name": "Python 3",
   "language": "python",
   "name": "python3"
  },
  "language_info": {
   "codemirror_mode": {
    "name": "ipython",
    "version": 3
   },
   "file_extension": ".py",
   "mimetype": "text/x-python",
   "name": "python",
   "nbconvert_exporter": "python",
   "pygments_lexer": "ipython3",
   "version": "3.7.4"
  }
 },
 "nbformat": 4,
 "nbformat_minor": 4
}
